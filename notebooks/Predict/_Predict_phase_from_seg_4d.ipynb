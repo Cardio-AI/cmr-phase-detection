{
 "cells": [
  {
   "cell_type": "code",
   "execution_count": 2,
   "id": "f4003503",
   "metadata": {},
   "outputs": [
    {
     "name": "stderr",
     "output_type": "stream",
     "text": [
      "2022-05-18 11:44:46,161 INFO -------------------- Start --------------------\n",
      "2022-05-18 11:44:46,162 INFO Working directory: /mnt/ssd/git/cmr-phase-detection.\n",
      "2022-05-18 11:44:46,162 INFO Log file: ./logs/temp.log\n",
      "2022-05-18 11:44:46,162 INFO Log level for console: INFO\n"
     ]
    },
    {
     "name": "stdout",
     "output_type": "stream",
     "text": [
      "search for root_dir and set working directory\n",
      "Working directory set to: /mnt/ssd/git/cmr-phase-detection\n"
     ]
    },
    {
     "data": {
      "text/plain": [
       "<src.utils.Utils_io.Console_and_file_logger at 0x7f3328ddcc40>"
      ]
     },
     "execution_count": 2,
     "metadata": {},
     "output_type": "execute_result"
    }
   ],
   "source": [
    "# ------------------------------------------define logging and working directory\n",
    "from ProjectRoot import change_wd_to_project_root\n",
    "change_wd_to_project_root()\n",
    "# ------------------------------------------jupyter magic config\n",
    "%matplotlib inline\n",
    "%reload_ext autoreload\n",
    "%autoreload 2\n",
    "# ------------------------------------------ import helpers\n",
    "# this should import glob, os, and some other standard libs to keep this cell clean\n",
    "# local imports\n",
    "import tensorflow as tf\n",
    "tf.get_logger().setLevel('FATAL')\n",
    "\n",
    "from src.utils.Notebook_imports import *\n",
    "from src.utils.Utils_io import Console_and_file_logger, init_config\n",
    "from src.data.Dataset import get_trainings_files\n",
    "from src.data.Dataset import get_patients, get_patient\n",
    "from src.data.Dataset import describe_sitk\n",
    "from src.models.predict_4d_on_seg import predict_4d_on_2d_cv\n",
    "\n",
    "from ipyfilechooser import FileChooser\n",
    "from src.data.SegGenerators import DataGenerator\n",
    "import glob\n",
    "import SimpleITK as sitk\n",
    "import pandas as pd\n",
    "Console_and_file_logger('temp')"
   ]
  },
  {
   "cell_type": "markdown",
   "id": "43332db2",
   "metadata": {},
   "source": [
    "# Collect a list of 4D CMR files for inference"
   ]
  },
  {
   "cell_type": "code",
   "execution_count": 3,
   "id": "d9942b9e",
   "metadata": {},
   "outputs": [
    {
     "name": "stderr",
     "output_type": "stream",
     "text": [
      "2022-05-18 11:44:50,202 INFO 4D files: 100\n"
     ]
    }
   ],
   "source": [
    "# acdc 4d files\n",
    "files_ = sorted(glob.glob('/mnt/ssd/data/acdc/2D/original/all/*/*4d.nii.gz'))\n",
    "logging.info('4D files: {}'.format(len(files_)))"
   ]
  },
  {
   "cell_type": "code",
   "execution_count": 96,
   "id": "99e99217",
   "metadata": {},
   "outputs": [
    {
     "name": "stderr",
     "output_type": "stream",
     "text": [
      "2022-05-08 20:23:21,367 INFO 4D files: 278\n"
     ]
    }
   ],
   "source": [
    "# tof 4d files\n",
    "files_ = sorted(glob.glob('/mnt/ssd/data/tof/02_imported_4D_unfiltered/original/*clean.nrrd'))\n",
    "logging.info('4D files: {}'.format(len(files_)))"
   ]
  },
  {
   "cell_type": "markdown",
   "id": "a53295af",
   "metadata": {},
   "source": [
    "# Predict 4D Masks based on a 2D segmentation model"
   ]
  },
  {
   "cell_type": "code",
   "execution_count": 4,
   "id": "869577b0",
   "metadata": {},
   "outputs": [],
   "source": [
    "# define a path to a 2D segmentation experiment\n",
    "exp = '/mnt/ssd/git/rvip_landmark_detection/exp/seg/baseline_spacing1_2_dim224_rot_shift_hist/2022-05-05_23_33/'\n",
    "pred_path = 'exp/seg/baseline_spacing1_2_dim224_rot_shift_hist/2022-05-05_23_33/pred_4d_cv'"
   ]
  },
  {
   "cell_type": "code",
   "execution_count": 8,
   "id": "d4b73e18",
   "metadata": {
    "collapsed": true,
    "jupyter": {
     "outputs_hidden": true
    },
    "tags": []
   },
   "outputs": [
    {
     "name": "stderr",
     "output_type": "stream",
     "text": [
      "2022-05-16 15:55:16,743 INFO found: 4 cfgs.\n",
      "2022-05-16 15:55:16,743 INFO got 100 files for inference\n",
      "2022-05-16 15:55:16,774 INFO expect 25 patients for validation in fold 0\n",
      "2022-05-16 15:55:16,775 INFO 4d files filtered: 25\n",
      "2022-05-16 15:55:16,776 INFO Create model\n"
     ]
    },
    {
     "name": "stdout",
     "output_type": "stream",
     "text": [
      "build u-net for input shape:  (None, 224, 224, 1)\n"
     ]
    },
    {
     "name": "stderr",
     "output_type": "stream",
     "text": [
      "/home/sven/anaconda3/envs/dcmr/lib/python3.8/site-packages/keras/optimizer_v2/adam.py:105: UserWarning: The `lr` argument is deprecated, use `learning_rate` instead.\n",
      "  super(Adam, self).__init__(name, **kwargs)\n",
      "2022-05-16 15:55:17,421 INFO loaded model weights as h5 file\n",
      "2022-05-16 15:55:17,608 INFO found 25 4D files, will return one generator per file with t x z slices\n",
      "2022-05-16 15:55:17,907 INFO x_sliced: 300, example: data/interim/patient001_4d_t0_z0_img.nrrd\n",
      "2022-05-16 15:55:17,908 INFO inference mode, no masks given, will use x as placeholder for y in fix processing\n",
      "2022-05-16 15:55:17,908 INFO Create DataGenerator\n",
      "2022-05-16 15:55:17,909 INFO Datagenerator created with: \n",
      " shape: [224, 224]\n",
      " spacing: [1.2, 1.2]\n",
      " batchsize: 1\n",
      " Scaler: MinMax\n",
      " Images: 300 \n",
      " Augment: False \n",
      " Thread workers: 32\n",
      "2022-05-16 15:55:18,272 INFO x_sliced: 300, example: data/interim/patient002_4d_t0_z0_img.nrrd\n",
      "2022-05-16 15:55:18,272 INFO inference mode, no masks given, will use x as placeholder for y in fix processing\n",
      "2022-05-16 15:55:18,272 INFO Create DataGenerator\n",
      "2022-05-16 15:55:18,273 INFO Datagenerator created with: \n",
      " shape: [224, 224]\n",
      " spacing: [1.2, 1.2]\n",
      " batchsize: 1\n",
      " Scaler: MinMax\n",
      " Images: 300 \n",
      " Augment: False \n",
      " Thread workers: 32\n",
      "2022-05-16 15:55:18,816 INFO x_sliced: 350, example: data/interim/patient009_4d_t0_z0_img.nrrd\n",
      "2022-05-16 15:55:18,816 INFO inference mode, no masks given, will use x as placeholder for y in fix processing\n",
      "2022-05-16 15:55:18,816 INFO Create DataGenerator\n",
      "2022-05-16 15:55:18,817 INFO Datagenerator created with: \n",
      " shape: [224, 224]\n",
      " spacing: [1.2, 1.2]\n",
      " batchsize: 1\n",
      " Scaler: MinMax\n",
      " Images: 350 \n",
      " Augment: False \n",
      " Thread workers: 32\n",
      "2022-05-16 15:55:19,212 INFO x_sliced: 300, example: data/interim/patient016_4d_t0_z0_img.nrrd\n",
      "2022-05-16 15:55:19,212 INFO inference mode, no masks given, will use x as placeholder for y in fix processing\n",
      "2022-05-16 15:55:19,213 INFO Create DataGenerator\n",
      "2022-05-16 15:55:19,215 INFO Datagenerator created with: \n",
      " shape: [224, 224]\n",
      " spacing: [1.2, 1.2]\n",
      " batchsize: 1\n",
      " Scaler: MinMax\n",
      " Images: 300 \n",
      " Augment: False \n",
      " Thread workers: 32\n",
      "2022-05-16 15:55:19,362 INFO x_sliced: 104, example: data/interim/patient018_4d_t0_z0_img.nrrd\n",
      "2022-05-16 15:55:19,362 INFO inference mode, no masks given, will use x as placeholder for y in fix processing\n",
      "2022-05-16 15:55:19,363 INFO Create DataGenerator\n",
      "2022-05-16 15:55:19,363 INFO Datagenerator created with: \n",
      " shape: [224, 224]\n",
      " spacing: [1.2, 1.2]\n",
      " batchsize: 1\n",
      " Scaler: MinMax\n",
      " Images: 104 \n",
      " Augment: False \n",
      " Thread workers: 32\n",
      "2022-05-16 15:55:19,674 INFO x_sliced: 300, example: data/interim/patient021_4d_t0_z0_img.nrrd\n",
      "2022-05-16 15:55:19,675 INFO inference mode, no masks given, will use x as placeholder for y in fix processing\n",
      "2022-05-16 15:55:19,675 INFO Create DataGenerator\n",
      "2022-05-16 15:55:19,676 INFO Datagenerator created with: \n",
      " shape: [224, 224]\n",
      " spacing: [1.2, 1.2]\n",
      " batchsize: 1\n",
      " Scaler: MinMax\n",
      " Images: 300 \n",
      " Augment: False \n",
      " Thread workers: 32\n",
      "2022-05-16 15:55:19,870 INFO x_sliced: 196, example: data/interim/patient022_4d_t0_z0_img.nrrd\n",
      "2022-05-16 15:55:19,871 INFO inference mode, no masks given, will use x as placeholder for y in fix processing\n",
      "2022-05-16 15:55:19,871 INFO Create DataGenerator\n",
      "2022-05-16 15:55:19,871 INFO Datagenerator created with: \n",
      " shape: [224, 224]\n",
      " spacing: [1.2, 1.2]\n",
      " batchsize: 1\n",
      " Scaler: MinMax\n",
      " Images: 196 \n",
      " Augment: False \n",
      " Thread workers: 32\n",
      "2022-05-16 15:55:20,168 INFO x_sliced: 330, example: data/interim/patient029_4d_t0_z0_img.nrrd\n",
      "2022-05-16 15:55:20,168 INFO inference mode, no masks given, will use x as placeholder for y in fix processing\n",
      "2022-05-16 15:55:20,168 INFO Create DataGenerator\n",
      "2022-05-16 15:55:20,169 INFO Datagenerator created with: \n",
      " shape: [224, 224]\n",
      " spacing: [1.2, 1.2]\n",
      " batchsize: 1\n",
      " Scaler: MinMax\n",
      " Images: 330 \n",
      " Augment: False \n",
      " Thread workers: 32\n",
      "2022-05-16 15:55:20,707 INFO x_sliced: 280, example: data/interim/patient036_4d_t0_z0_img.nrrd\n",
      "2022-05-16 15:55:20,708 INFO inference mode, no masks given, will use x as placeholder for y in fix processing\n",
      "2022-05-16 15:55:20,708 INFO Create DataGenerator\n",
      "2022-05-16 15:55:20,709 INFO Datagenerator created with: \n",
      " shape: [224, 224]\n",
      " spacing: [1.2, 1.2]\n",
      " batchsize: 1\n",
      " Scaler: MinMax\n",
      " Images: 280 \n",
      " Augment: False \n",
      " Thread workers: 32\n",
      "2022-05-16 15:55:21,618 INFO x_sliced: 192, example: data/interim/patient038_4d_t0_z0_img.nrrd\n",
      "2022-05-16 15:55:21,619 INFO inference mode, no masks given, will use x as placeholder for y in fix processing\n",
      "2022-05-16 15:55:21,619 INFO Create DataGenerator\n",
      "2022-05-16 15:55:21,619 INFO Datagenerator created with: \n",
      " shape: [224, 224]\n",
      " spacing: [1.2, 1.2]\n",
      " batchsize: 1\n",
      " Scaler: MinMax\n",
      " Images: 192 \n",
      " Augment: False \n",
      " Thread workers: 32\n",
      "2022-05-16 15:55:21,738 INFO x_sliced: 102, example: data/interim/patient041_4d_t0_z0_img.nrrd\n",
      "2022-05-16 15:55:21,738 INFO inference mode, no masks given, will use x as placeholder for y in fix processing\n",
      "2022-05-16 15:55:21,738 INFO Create DataGenerator\n",
      "2022-05-16 15:55:21,739 INFO Datagenerator created with: \n",
      " shape: [224, 224]\n",
      " spacing: [1.2, 1.2]\n",
      " batchsize: 1\n",
      " Scaler: MinMax\n",
      " Images: 102 \n",
      " Augment: False \n",
      " Thread workers: 32\n",
      "2022-05-16 15:55:22,075 INFO x_sliced: 315, example: data/interim/patient042_4d_t0_z0_img.nrrd\n",
      "2022-05-16 15:55:22,076 INFO inference mode, no masks given, will use x as placeholder for y in fix processing\n",
      "2022-05-16 15:55:22,076 INFO Create DataGenerator\n",
      "2022-05-16 15:55:22,076 INFO Datagenerator created with: \n",
      " shape: [224, 224]\n",
      " spacing: [1.2, 1.2]\n",
      " batchsize: 1\n",
      " Scaler: MinMax\n",
      " Images: 315 \n",
      " Augment: False \n",
      " Thread workers: 32\n",
      "2022-05-16 15:55:22,320 INFO x_sliced: 245, example: data/interim/patient049_4d_t0_z0_img.nrrd\n",
      "2022-05-16 15:55:22,320 INFO inference mode, no masks given, will use x as placeholder for y in fix processing\n",
      "2022-05-16 15:55:22,321 INFO Create DataGenerator\n",
      "2022-05-16 15:55:22,321 INFO Datagenerator created with: \n",
      " shape: [224, 224]\n",
      " spacing: [1.2, 1.2]\n",
      " batchsize: 1\n",
      " Scaler: MinMax\n",
      " Images: 245 \n",
      " Augment: False \n",
      " Thread workers: 32\n",
      "2022-05-16 15:55:22,705 INFO x_sliced: 270, example: data/interim/patient056_4d_t0_z0_img.nrrd\n",
      "2022-05-16 15:55:22,705 INFO inference mode, no masks given, will use x as placeholder for y in fix processing\n",
      "2022-05-16 15:55:22,705 INFO Create DataGenerator\n",
      "2022-05-16 15:55:22,706 INFO Datagenerator created with: \n",
      " shape: [224, 224]\n",
      " spacing: [1.2, 1.2]\n",
      " batchsize: 1\n",
      " Scaler: MinMax\n",
      " Images: 270 \n",
      " Augment: False \n",
      " Thread workers: 32\n",
      "2022-05-16 15:55:23,100 INFO x_sliced: 270, example: data/interim/patient058_4d_t0_z0_img.nrrd\n",
      "2022-05-16 15:55:23,101 INFO inference mode, no masks given, will use x as placeholder for y in fix processing\n",
      "2022-05-16 15:55:23,101 INFO Create DataGenerator\n",
      "2022-05-16 15:55:23,102 INFO Datagenerator created with: \n",
      " shape: [224, 224]\n",
      " spacing: [1.2, 1.2]\n",
      " batchsize: 1\n",
      " Scaler: MinMax\n",
      " Images: 270 \n",
      " Augment: False \n",
      " Thread workers: 32\n",
      "2022-05-16 15:55:23,366 INFO x_sliced: 270, example: data/interim/patient061_4d_t0_z0_img.nrrd\n",
      "2022-05-16 15:55:23,366 INFO inference mode, no masks given, will use x as placeholder for y in fix processing\n",
      "2022-05-16 15:55:23,367 INFO Create DataGenerator\n",
      "2022-05-16 15:55:23,367 INFO Datagenerator created with: \n",
      " shape: [224, 224]\n",
      " spacing: [1.2, 1.2]\n",
      " batchsize: 1\n",
      " Scaler: MinMax\n",
      " Images: 270 \n",
      " Augment: False \n",
      " Thread workers: 32\n",
      "2022-05-16 15:55:23,643 INFO x_sliced: 300, example: data/interim/patient062_4d_t0_z0_img.nrrd\n",
      "2022-05-16 15:55:23,643 INFO inference mode, no masks given, will use x as placeholder for y in fix processing\n",
      "2022-05-16 15:55:23,643 INFO Create DataGenerator\n",
      "2022-05-16 15:55:23,644 INFO Datagenerator created with: \n",
      " shape: [224, 224]\n",
      " spacing: [1.2, 1.2]\n",
      " batchsize: 1\n",
      " Scaler: MinMax\n",
      " Images: 300 \n",
      " Augment: False \n",
      " Thread workers: 32\n",
      "2022-05-16 15:55:23,947 INFO x_sliced: 210, example: data/interim/patient069_4d_t0_z0_img.nrrd\n",
      "2022-05-16 15:55:23,947 INFO inference mode, no masks given, will use x as placeholder for y in fix processing\n",
      "2022-05-16 15:55:23,947 INFO Create DataGenerator\n",
      "2022-05-16 15:55:23,948 INFO Datagenerator created with: \n",
      " shape: [224, 224]\n",
      " spacing: [1.2, 1.2]\n",
      " batchsize: 1\n",
      " Scaler: MinMax\n",
      " Images: 210 \n",
      " Augment: False \n",
      " Thread workers: 32\n",
      "2022-05-16 15:55:24,369 INFO x_sliced: 240, example: data/interim/patient076_4d_t0_z0_img.nrrd\n",
      "2022-05-16 15:55:24,370 INFO inference mode, no masks given, will use x as placeholder for y in fix processing\n",
      "2022-05-16 15:55:24,370 INFO Create DataGenerator\n",
      "2022-05-16 15:55:24,371 INFO Datagenerator created with: \n",
      " shape: [224, 224]\n",
      " spacing: [1.2, 1.2]\n",
      " batchsize: 1\n",
      " Scaler: MinMax\n",
      " Images: 240 \n",
      " Augment: False \n",
      " Thread workers: 32\n",
      "2022-05-16 15:55:24,722 INFO x_sliced: 240, example: data/interim/patient078_4d_t0_z0_img.nrrd\n",
      "2022-05-16 15:55:24,723 INFO inference mode, no masks given, will use x as placeholder for y in fix processing\n",
      "2022-05-16 15:55:24,723 INFO Create DataGenerator\n",
      "2022-05-16 15:55:24,724 INFO Datagenerator created with: \n",
      " shape: [224, 224]\n",
      " spacing: [1.2, 1.2]\n",
      " batchsize: 1\n",
      " Scaler: MinMax\n",
      " Images: 240 \n",
      " Augment: False \n",
      " Thread workers: 32\n",
      "2022-05-16 15:55:25,034 INFO x_sliced: 272, example: data/interim/patient081_4d_t0_z0_img.nrrd\n",
      "2022-05-16 15:55:25,034 INFO inference mode, no masks given, will use x as placeholder for y in fix processing\n",
      "2022-05-16 15:55:25,035 INFO Create DataGenerator\n",
      "2022-05-16 15:55:25,035 INFO Datagenerator created with: \n",
      " shape: [224, 224]\n",
      " spacing: [1.2, 1.2]\n",
      " batchsize: 1\n",
      " Scaler: MinMax\n",
      " Images: 272 \n",
      " Augment: False \n",
      " Thread workers: 32\n",
      "2022-05-16 15:55:25,395 INFO x_sliced: 272, example: data/interim/patient082_4d_t0_z0_img.nrrd\n",
      "2022-05-16 15:55:25,396 INFO inference mode, no masks given, will use x as placeholder for y in fix processing\n",
      "2022-05-16 15:55:25,396 INFO Create DataGenerator\n",
      "2022-05-16 15:55:25,396 INFO Datagenerator created with: \n",
      " shape: [224, 224]\n",
      " spacing: [1.2, 1.2]\n",
      " batchsize: 1\n",
      " Scaler: MinMax\n",
      " Images: 272 \n",
      " Augment: False \n",
      " Thread workers: 32\n",
      "2022-05-16 15:55:25,758 INFO x_sliced: 180, example: data/interim/patient089_4d_t0_z0_img.nrrd\n",
      "2022-05-16 15:55:25,759 INFO inference mode, no masks given, will use x as placeholder for y in fix processing\n",
      "2022-05-16 15:55:25,759 INFO Create DataGenerator\n",
      "2022-05-16 15:55:25,759 INFO Datagenerator created with: \n",
      " shape: [224, 224]\n",
      " spacing: [1.2, 1.2]\n",
      " batchsize: 1\n",
      " Scaler: MinMax\n",
      " Images: 180 \n",
      " Augment: False \n",
      " Thread workers: 32\n",
      "2022-05-16 15:55:26,057 INFO x_sliced: 270, example: data/interim/patient096_4d_t0_z0_img.nrrd\n",
      "2022-05-16 15:55:26,058 INFO inference mode, no masks given, will use x as placeholder for y in fix processing\n",
      "2022-05-16 15:55:26,058 INFO Create DataGenerator\n",
      "2022-05-16 15:55:26,058 INFO Datagenerator created with: \n",
      " shape: [224, 224]\n",
      " spacing: [1.2, 1.2]\n",
      " batchsize: 1\n",
      " Scaler: MinMax\n",
      " Images: 270 \n",
      " Augment: False \n",
      " Thread workers: 32\n",
      "2022-05-16 15:55:26,277 INFO x_sliced: 154, example: data/interim/patient098_4d_t0_z0_img.nrrd\n",
      "2022-05-16 15:55:26,278 INFO inference mode, no masks given, will use x as placeholder for y in fix processing\n",
      "2022-05-16 15:55:26,278 INFO Create DataGenerator\n",
      "2022-05-16 15:55:26,278 INFO Datagenerator created with: \n",
      " shape: [224, 224]\n",
      " spacing: [1.2, 1.2]\n",
      " batchsize: 1\n",
      " Scaler: MinMax\n",
      " Images: 154 \n",
      " Augment: False \n",
      " Thread workers: 32\n",
      "2022-05-16 15:55:26,434 INFO size: (216, 256, 10, 30)\n",
      "2022-05-16 15:55:26,434 INFO spacing: (1.5625, 1.5625, 10.0, 1.0)\n",
      "2022-05-16 15:55:26,434 INFO origin: (0.0, 0.0, 0.0, 0.0)\n",
      "2022-05-16 15:55:26,435 INFO direction: (1.0, 0.0, 0.0, 0.0, 0.0, 1.0, 0.0, 0.0, 0.0, 0.0, 1.0, 0.0, 0.0, 0.0, 0.0, 1.0)\n",
      "2022-05-16 15:55:26,435 INFO pixel type: 16-bit signed integer\n",
      "2022-05-16 15:55:26,435 INFO number of pixel components: 1\n",
      "2022-05-16 15:55:31,009 INFO size: (232, 256, 10, 30)\n",
      "2022-05-16 15:55:31,009 INFO spacing: (1.3671875, 1.3671875, 10.0, 1.0)\n",
      "2022-05-16 15:55:31,009 INFO origin: (0.0, 0.0, 0.0, 0.0)\n",
      "2022-05-16 15:55:31,009 INFO direction: (1.0, 0.0, 0.0, 0.0, 0.0, 1.0, 0.0, 0.0, 0.0, 0.0, 1.0, 0.0, 0.0, 0.0, 0.0, 1.0)\n",
      "2022-05-16 15:55:31,010 INFO pixel type: 16-bit signed integer\n",
      "2022-05-16 15:55:31,010 INFO number of pixel components: 1\n"
     ]
    },
    {
     "name": "stdout",
     "output_type": "stream",
     "text": [
      "(224, 224, 10, 30)\n",
      "(1.2, 1.2, 10.0, 1)\n",
      "(224, 224, 10, 30)\n",
      "(1.2, 1.2, 10.0, 1)\n"
     ]
    },
    {
     "name": "stderr",
     "output_type": "stream",
     "text": [
      "2022-05-16 15:55:33,524 INFO size: (208, 256, 10, 35)\n",
      "2022-05-16 15:55:33,525 INFO spacing: (1.3671900033950806, 1.3671900033950806, 10.0, 1.0)\n",
      "2022-05-16 15:55:33,525 INFO origin: (0.0, 0.0, 0.0, 0.0)\n",
      "2022-05-16 15:55:33,526 INFO direction: (1.0, 0.0, 0.0, 0.0, 0.0, 1.0, 0.0, 0.0, 0.0, 0.0, 1.0, 0.0, 0.0, 0.0, 0.0, 1.0)\n",
      "2022-05-16 15:55:33,526 INFO pixel type: 32-bit float\n",
      "2022-05-16 15:55:33,526 INFO number of pixel components: 1\n"
     ]
    },
    {
     "name": "stdout",
     "output_type": "stream",
     "text": [
      "(224, 224, 10, 35)\n",
      "(1.2, 1.2, 10.0, 1)\n"
     ]
    },
    {
     "name": "stderr",
     "output_type": "stream",
     "text": [
      "2022-05-16 15:55:36,218 INFO size: (192, 256, 10, 30)\n",
      "2022-05-16 15:55:36,218 INFO spacing: (1.4453099966049194, 1.4453099966049194, 10.0, 1.0)\n",
      "2022-05-16 15:55:36,219 INFO origin: (0.0, 0.0, 0.0, 0.0)\n",
      "2022-05-16 15:55:36,219 INFO direction: (1.0, 0.0, 0.0, 0.0, 0.0, 1.0, 0.0, 0.0, 0.0, 0.0, 1.0, 0.0, 0.0, 0.0, 0.0, 1.0)\n",
      "2022-05-16 15:55:36,219 INFO pixel type: 32-bit float\n",
      "2022-05-16 15:55:36,219 INFO number of pixel components: 1\n",
      "2022-05-16 15:55:38,540 INFO size: (216, 256, 8, 13)\n",
      "2022-05-16 15:55:38,541 INFO spacing: (1.3671900033950806, 1.3671900033950806, 10.0, 1.0)\n",
      "2022-05-16 15:55:38,541 INFO origin: (0.0, 0.0, 0.0, 0.0)\n",
      "2022-05-16 15:55:38,541 INFO direction: (1.0, 0.0, 0.0, 0.0, 0.0, 1.0, 0.0, 0.0, 0.0, 0.0, 1.0, 0.0, 0.0, 0.0, 0.0, 1.0)\n",
      "2022-05-16 15:55:38,541 INFO pixel type: 32-bit float\n",
      "2022-05-16 15:55:38,542 INFO number of pixel components: 1\n"
     ]
    },
    {
     "name": "stdout",
     "output_type": "stream",
     "text": [
      "(224, 224, 10, 30)\n",
      "(1.2, 1.2, 10.0, 1)\n"
     ]
    },
    {
     "name": "stderr",
     "output_type": "stream",
     "text": [
      "2022-05-16 15:55:39,515 INFO size: (240, 256, 10, 30)\n",
      "2022-05-16 15:55:39,516 INFO spacing: (1.6796875, 1.6796875, 10.0, 1.0)\n",
      "2022-05-16 15:55:39,516 INFO origin: (0.0, 0.0, 0.0, 0.0)\n",
      "2022-05-16 15:55:39,516 INFO direction: (1.0, 0.0, 0.0, 0.0, 0.0, 1.0, 0.0, 0.0, 0.0, 0.0, 1.0, 0.0, 0.0, 0.0, 0.0, 1.0)\n",
      "2022-05-16 15:55:39,516 INFO pixel type: 16-bit signed integer\n",
      "2022-05-16 15:55:39,517 INFO number of pixel components: 1\n"
     ]
    },
    {
     "name": "stdout",
     "output_type": "stream",
     "text": [
      "(224, 224, 8, 13)\n",
      "(1.2, 1.2, 10.0, 1)\n"
     ]
    },
    {
     "name": "stderr",
     "output_type": "stream",
     "text": [
      "2022-05-16 15:55:41,741 INFO size: (200, 256, 7, 28)\n",
      "2022-05-16 15:55:41,742 INFO spacing: (1.40625, 1.40625, 10.0, 1.0)\n",
      "2022-05-16 15:55:41,742 INFO origin: (0.0, 0.0, 0.0, 0.0)\n",
      "2022-05-16 15:55:41,742 INFO direction: (1.0, 0.0, 0.0, 0.0, 0.0, 1.0, 0.0, 0.0, 0.0, 0.0, 1.0, 0.0, 0.0, 0.0, 0.0, 1.0)\n",
      "2022-05-16 15:55:41,743 INFO pixel type: 16-bit signed integer\n",
      "2022-05-16 15:55:41,743 INFO number of pixel components: 1\n"
     ]
    },
    {
     "name": "stdout",
     "output_type": "stream",
     "text": [
      "(224, 224, 10, 30)\n",
      "(1.2, 1.2, 10.0, 1)\n"
     ]
    },
    {
     "name": "stderr",
     "output_type": "stream",
     "text": [
      "2022-05-16 15:55:43,281 INFO size: (192, 256, 11, 30)\n",
      "2022-05-16 15:55:43,281 INFO spacing: (1.3671875, 1.3671875, 10.0, 1.0)\n",
      "2022-05-16 15:55:43,281 INFO origin: (0.0, 0.0, 0.0, 0.0)\n",
      "2022-05-16 15:55:43,282 INFO direction: (1.0, 0.0, 0.0, 0.0, 0.0, 1.0, 0.0, 0.0, 0.0, 0.0, 1.0, 0.0, 0.0, 0.0, 0.0, 1.0)\n",
      "2022-05-16 15:55:43,282 INFO pixel type: 16-bit signed integer\n",
      "2022-05-16 15:55:43,282 INFO number of pixel components: 1\n"
     ]
    },
    {
     "name": "stdout",
     "output_type": "stream",
     "text": [
      "(224, 224, 7, 28)\n",
      "(1.2, 1.2, 10.0, 1)\n",
      "(224, 224, 11, 30)\n",
      "(1.2, 1.2, 10.0, 1)\n"
     ]
    },
    {
     "name": "stderr",
     "output_type": "stream",
     "text": [
      "2022-05-16 15:55:45,827 INFO size: (216, 256, 8, 35)\n",
      "2022-05-16 15:55:45,828 INFO spacing: (1.4453099966049194, 1.4453099966049194, 10.0, 1.0)\n",
      "2022-05-16 15:55:45,828 INFO origin: (0.0, 0.0, 0.0, 0.0)\n",
      "2022-05-16 15:55:45,829 INFO direction: (1.0, 0.0, 0.0, 0.0, 0.0, 1.0, 0.0, 0.0, 0.0, 0.0, 1.0, 0.0, 0.0, 0.0, 0.0, 1.0)\n",
      "2022-05-16 15:55:45,829 INFO pixel type: 32-bit float\n",
      "2022-05-16 15:55:45,829 INFO number of pixel components: 1\n"
     ]
    },
    {
     "name": "stdout",
     "output_type": "stream",
     "text": [
      "(224, 224, 8, 35)\n",
      "(1.2, 1.2, 10.0, 1)\n"
     ]
    },
    {
     "name": "stderr",
     "output_type": "stream",
     "text": [
      "2022-05-16 15:55:48,150 INFO size: (276, 384, 8, 24)\n",
      "2022-05-16 15:55:48,150 INFO spacing: (0.8333330154418945, 0.8333330154418945, 10.0, 1.0)\n",
      "2022-05-16 15:55:48,151 INFO origin: (0.0, 0.0, 0.0, 0.0)\n",
      "2022-05-16 15:55:48,151 INFO direction: (1.0, 0.0, 0.0, 0.0, 0.0, 1.0, 0.0, 0.0, 0.0, 0.0, 1.0, 0.0, 0.0, 0.0, 0.0, 1.0)\n",
      "2022-05-16 15:55:48,151 INFO pixel type: 32-bit float\n",
      "2022-05-16 15:55:48,152 INFO number of pixel components: 1\n",
      "2022-05-16 15:55:49,581 INFO size: (154, 224, 6, 17)\n",
      "2022-05-16 15:55:49,581 INFO spacing: (1.7857099771499634, 1.7857099771499634, 10.0, 1.0)\n",
      "2022-05-16 15:55:49,582 INFO origin: (0.0, 0.0, 0.0, 0.0)\n",
      "2022-05-16 15:55:49,582 INFO direction: (1.0, 0.0, 0.0, 0.0, 0.0, 1.0, 0.0, 0.0, 0.0, 0.0, 1.0, 0.0, 0.0, 0.0, 0.0, 1.0)\n",
      "2022-05-16 15:55:49,582 INFO pixel type: 32-bit float\n",
      "2022-05-16 15:55:49,582 INFO number of pixel components: 1\n"
     ]
    },
    {
     "name": "stdout",
     "output_type": "stream",
     "text": [
      "(224, 224, 8, 24)\n",
      "(1.2, 1.2, 10.0, 1)\n"
     ]
    },
    {
     "name": "stderr",
     "output_type": "stream",
     "text": [
      "2022-05-16 15:55:50,550 INFO size: (232, 256, 9, 35)\n",
      "2022-05-16 15:55:50,550 INFO spacing: (1.7578125, 1.7578125, 10.0, 1.0)\n",
      "2022-05-16 15:55:50,550 INFO origin: (0.0, 0.0, 0.0, 0.0)\n",
      "2022-05-16 15:55:50,551 INFO direction: (1.0, 0.0, 0.0, 0.0, 0.0, 1.0, 0.0, 0.0, 0.0, 0.0, 1.0, 0.0, 0.0, 0.0, 0.0, 1.0)\n",
      "2022-05-16 15:55:50,551 INFO pixel type: 16-bit signed integer\n",
      "2022-05-16 15:55:50,551 INFO number of pixel components: 1\n"
     ]
    },
    {
     "name": "stdout",
     "output_type": "stream",
     "text": [
      "(224, 224, 6, 17)\n",
      "(1.2, 1.2, 10.0, 1)\n"
     ]
    },
    {
     "name": "stderr",
     "output_type": "stream",
     "text": [
      "2022-05-16 15:55:52,870 INFO size: (256, 216, 7, 35)\n",
      "2022-05-16 15:55:52,871 INFO spacing: (1.3671875, 1.3671875, 10.0, 1.0)\n",
      "2022-05-16 15:55:52,871 INFO origin: (0.0, 0.0, 0.0, 0.0)\n",
      "2022-05-16 15:55:52,871 INFO direction: (1.0, 0.0, 0.0, 0.0, 0.0, 1.0, 0.0, 0.0, 0.0, 0.0, 1.0, 0.0, 0.0, 0.0, 0.0, 1.0)\n",
      "2022-05-16 15:55:52,872 INFO pixel type: 16-bit signed integer\n",
      "2022-05-16 15:55:52,872 INFO number of pixel components: 1\n"
     ]
    },
    {
     "name": "stdout",
     "output_type": "stream",
     "text": [
      "(224, 224, 9, 35)\n",
      "(1.2, 1.2, 10.0, 1)\n",
      "(224, 224, 7, 35)\n",
      "(1.2, 1.2, 10.0, 1)\n"
     ]
    },
    {
     "name": "stderr",
     "output_type": "stream",
     "text": [
      "2022-05-16 15:55:54,821 INFO size: (216, 256, 9, 30)\n",
      "2022-05-16 15:55:54,821 INFO spacing: (1.3671900033950806, 1.3671900033950806, 10.0, 1.0)\n",
      "2022-05-16 15:55:54,822 INFO origin: (0.0, 0.0, 0.0, 0.0)\n",
      "2022-05-16 15:55:54,822 INFO direction: (1.0, 0.0, 0.0, 0.0, 0.0, 1.0, 0.0, 0.0, 0.0, 0.0, 1.0, 0.0, 0.0, 0.0, 0.0, 1.0)\n",
      "2022-05-16 15:55:54,823 INFO pixel type: 32-bit float\n",
      "2022-05-16 15:55:54,823 INFO number of pixel components: 1\n"
     ]
    },
    {
     "name": "stdout",
     "output_type": "stream",
     "text": [
      "(224, 224, 9, 30)\n",
      "(1.2, 1.2, 10.0, 1)\n"
     ]
    },
    {
     "name": "stderr",
     "output_type": "stream",
     "text": [
      "2022-05-16 15:55:56,960 INFO size: (216, 256, 9, 30)\n",
      "2022-05-16 15:55:56,960 INFO spacing: (1.40625, 1.40625, 10.0, 1.0)\n",
      "2022-05-16 15:55:56,961 INFO origin: (0.0, 0.0, 0.0, 0.0)\n",
      "2022-05-16 15:55:56,961 INFO direction: (1.0, 0.0, 0.0, 0.0, 0.0, 1.0, 0.0, 0.0, 0.0, 0.0, 1.0, 0.0, 0.0, 0.0, 0.0, 1.0)\n",
      "2022-05-16 15:55:56,961 INFO pixel type: 32-bit float\n",
      "2022-05-16 15:55:56,961 INFO number of pixel components: 1\n",
      "2022-05-16 15:55:58,981 INFO size: (216, 256, 9, 30)\n",
      "2022-05-16 15:55:58,981 INFO spacing: (1.3671875, 1.3671875, 10.0, 1.0)\n",
      "2022-05-16 15:55:58,982 INFO origin: (0.0, 0.0, 0.0, 0.0)\n",
      "2022-05-16 15:55:58,982 INFO direction: (1.0, 0.0, 0.0, 0.0, 0.0, 1.0, 0.0, 0.0, 0.0, 0.0, 1.0, 0.0, 0.0, 0.0, 0.0, 1.0)\n",
      "2022-05-16 15:55:58,983 INFO pixel type: 16-bit signed integer\n",
      "2022-05-16 15:55:58,984 INFO number of pixel components: 1\n"
     ]
    },
    {
     "name": "stdout",
     "output_type": "stream",
     "text": [
      "(224, 224, 9, 30)\n",
      "(1.2, 1.2, 10.0, 1)\n"
     ]
    },
    {
     "name": "stderr",
     "output_type": "stream",
     "text": [
      "2022-05-16 15:56:00,997 INFO size: (256, 216, 10, 30)\n",
      "2022-05-16 15:56:00,997 INFO spacing: (1.3671875, 1.3671875, 10.0, 1.0)\n",
      "2022-05-16 15:56:00,998 INFO origin: (0.0, 0.0, 0.0, 0.0)\n",
      "2022-05-16 15:56:00,998 INFO direction: (1.0, 0.0, 0.0, 0.0, 0.0, 1.0, 0.0, 0.0, 0.0, 0.0, 1.0, 0.0, 0.0, 0.0, 0.0, 1.0)\n",
      "2022-05-16 15:56:00,998 INFO pixel type: 16-bit signed integer\n",
      "2022-05-16 15:56:00,998 INFO number of pixel components: 1\n"
     ]
    },
    {
     "name": "stdout",
     "output_type": "stream",
     "text": [
      "(224, 224, 9, 30)\n",
      "(1.2, 1.2, 10.0, 1)\n"
     ]
    },
    {
     "name": "stderr",
     "output_type": "stream",
     "text": [
      "2022-05-16 15:56:03,219 INFO size: (216, 256, 7, 30)\n",
      "2022-05-16 15:56:03,220 INFO spacing: (1.5625, 1.5625, 10.0, 1.0)\n",
      "2022-05-16 15:56:03,220 INFO origin: (0.0, 0.0, 0.0, 0.0)\n",
      "2022-05-16 15:56:03,220 INFO direction: (1.0, 0.0, 0.0, 0.0, 0.0, 1.0, 0.0, 0.0, 0.0, 0.0, 1.0, 0.0, 0.0, 0.0, 0.0, 1.0)\n",
      "2022-05-16 15:56:03,221 INFO pixel type: 32-bit float\n",
      "2022-05-16 15:56:03,221 INFO number of pixel components: 1\n"
     ]
    },
    {
     "name": "stdout",
     "output_type": "stream",
     "text": [
      "(224, 224, 10, 30)\n",
      "(1.2, 1.2, 10.0, 1)\n",
      "(224, 224, 7, 30)\n",
      "(1.2, 1.2, 10.0, 1)\n"
     ]
    },
    {
     "name": "stderr",
     "output_type": "stream",
     "text": [
      "2022-05-16 15:56:04,982 INFO size: (256, 256, 8, 30)\n",
      "2022-05-16 15:56:04,983 INFO spacing: (1.5625, 1.5625, 10.0, 1.0)\n",
      "2022-05-16 15:56:04,983 INFO origin: (0.0, 0.0, 0.0, 0.0)\n",
      "2022-05-16 15:56:04,983 INFO direction: (1.0, 0.0, 0.0, 0.0, 0.0, 1.0, 0.0, 0.0, 0.0, 0.0, 1.0, 0.0, 0.0, 0.0, 0.0, 1.0)\n",
      "2022-05-16 15:56:04,983 INFO pixel type: 32-bit float\n",
      "2022-05-16 15:56:04,984 INFO number of pixel components: 1\n"
     ]
    },
    {
     "name": "stdout",
     "output_type": "stream",
     "text": [
      "(224, 224, 8, 30)\n",
      "(1.2, 1.2, 10.0, 1)\n"
     ]
    },
    {
     "name": "stderr",
     "output_type": "stream",
     "text": [
      "2022-05-16 15:56:06,911 INFO size: (216, 256, 8, 30)\n",
      "2022-05-16 15:56:06,911 INFO spacing: (1.3671900033950806, 1.3671900033950806, 10.0, 1.0)\n",
      "2022-05-16 15:56:06,911 INFO origin: (0.0, 0.0, 0.0, 0.0)\n",
      "2022-05-16 15:56:06,912 INFO direction: (1.0, 0.0, 0.0, 0.0, 0.0, 1.0, 0.0, 0.0, 0.0, 0.0, 1.0, 0.0, 0.0, 0.0, 0.0, 1.0)\n",
      "2022-05-16 15:56:06,912 INFO pixel type: 32-bit float\n",
      "2022-05-16 15:56:06,912 INFO number of pixel components: 1\n",
      "2022-05-16 15:56:08,766 INFO size: (154, 224, 17, 16)\n",
      "2022-05-16 15:56:08,766 INFO spacing: (1.6517900228500366, 1.6517900228500366, 5.0, 1.0)\n",
      "2022-05-16 15:56:08,767 INFO origin: (0.0, 0.0, 0.0, 0.0)\n",
      "2022-05-16 15:56:08,767 INFO direction: (1.0, 0.0, 0.0, 0.0, 0.0, 1.0, 0.0, 0.0, 0.0, 0.0, 1.0, 0.0, 0.0, 0.0, 0.0, 1.0)\n",
      "2022-05-16 15:56:08,767 INFO pixel type: 32-bit float\n",
      "2022-05-16 15:56:08,768 INFO number of pixel components: 1\n"
     ]
    },
    {
     "name": "stdout",
     "output_type": "stream",
     "text": [
      "(224, 224, 8, 30)\n",
      "(1.2, 1.2, 10.0, 1)\n"
     ]
    },
    {
     "name": "stderr",
     "output_type": "stream",
     "text": [
      "2022-05-16 15:56:10,811 INFO size: (224, 154, 16, 17)\n",
      "2022-05-16 15:56:10,812 INFO spacing: (1.7857099771499634, 1.7857099771499634, 5.0, 1.0)\n",
      "2022-05-16 15:56:10,812 INFO origin: (0.0, 0.0, 0.0, 0.0)\n",
      "2022-05-16 15:56:10,812 INFO direction: (1.0, 0.0, 0.0, 0.0, 0.0, 1.0, 0.0, 0.0, 0.0, 0.0, 1.0, 0.0, 0.0, 0.0, 0.0, 1.0)\n",
      "2022-05-16 15:56:10,812 INFO pixel type: 32-bit float\n",
      "2022-05-16 15:56:10,813 INFO number of pixel components: 1\n"
     ]
    },
    {
     "name": "stdout",
     "output_type": "stream",
     "text": [
      "(224, 224, 17, 16)\n",
      "(1.2, 1.2, 5.0, 1)\n",
      "(224, 224, 16, 17)\n",
      "(1.2, 1.2, 5.0, 1)\n"
     ]
    },
    {
     "name": "stderr",
     "output_type": "stream",
     "text": [
      "2022-05-16 15:56:12,983 INFO size: (264, 288, 6, 30)\n",
      "2022-05-16 15:56:12,984 INFO spacing: (1.4583300352096558, 1.4583300352096558, 10.0, 1.0)\n",
      "2022-05-16 15:56:12,984 INFO origin: (0.0, 0.0, 0.0, 0.0)\n",
      "2022-05-16 15:56:12,984 INFO direction: (1.0, 0.0, 0.0, 0.0, 0.0, 1.0, 0.0, 0.0, 0.0, 0.0, 1.0, 0.0, 0.0, 0.0, 0.0, 1.0)\n",
      "2022-05-16 15:56:12,985 INFO pixel type: 32-bit float\n",
      "2022-05-16 15:56:12,985 INFO number of pixel components: 1\n",
      "2022-05-16 15:56:14,494 INFO size: (174, 208, 18, 15)\n",
      "2022-05-16 15:56:14,494 INFO spacing: (1.6826900243759155, 1.6826900243759155, 5.0, 1.0)\n",
      "2022-05-16 15:56:14,495 INFO origin: (0.0, 0.0, 0.0, 0.0)\n",
      "2022-05-16 15:56:14,495 INFO direction: (1.0, 0.0, 0.0, 0.0, 0.0, 1.0, 0.0, 0.0, 0.0, 0.0, 1.0, 0.0, 0.0, 0.0, 0.0, 1.0)\n",
      "2022-05-16 15:56:14,495 INFO pixel type: 32-bit float\n",
      "2022-05-16 15:56:14,495 INFO number of pixel components: 1\n"
     ]
    },
    {
     "name": "stdout",
     "output_type": "stream",
     "text": [
      "(224, 224, 6, 30)\n",
      "(1.2, 1.2, 10.0, 1)\n"
     ]
    },
    {
     "name": "stderr",
     "output_type": "stream",
     "text": [
      "2022-05-16 15:56:16,507 INFO size: (216, 256, 7, 22)\n",
      "2022-05-16 15:56:16,507 INFO spacing: (1.25, 1.25, 10.0, 1.0)\n",
      "2022-05-16 15:56:16,507 INFO origin: (0.0, 0.0, 0.0, 0.0)\n",
      "2022-05-16 15:56:16,508 INFO direction: (1.0, 0.0, 0.0, 0.0, 0.0, 1.0, 0.0, 0.0, 0.0, 0.0, 1.0, 0.0, 0.0, 0.0, 0.0, 1.0)\n",
      "2022-05-16 15:56:16,508 INFO pixel type: 32-bit float\n",
      "2022-05-16 15:56:16,508 INFO number of pixel components: 1\n"
     ]
    },
    {
     "name": "stdout",
     "output_type": "stream",
     "text": [
      "(224, 224, 18, 15)\n",
      "(1.2, 1.2, 5.0, 1)\n"
     ]
    },
    {
     "name": "stderr",
     "output_type": "stream",
     "text": [
      "2022-05-16 15:56:17,648 INFO expect 25 patients for validation in fold 1\n",
      "2022-05-16 15:56:17,648 INFO 4d files filtered: 25\n",
      "2022-05-16 15:56:17,649 INFO Create model\n"
     ]
    },
    {
     "name": "stdout",
     "output_type": "stream",
     "text": [
      "(224, 224, 7, 22)\n",
      "(1.2, 1.2, 10.0, 1)\n",
      "build u-net for input shape:  (None, 224, 224, 1)\n"
     ]
    },
    {
     "name": "stderr",
     "output_type": "stream",
     "text": [
      "/home/sven/anaconda3/envs/dcmr/lib/python3.8/site-packages/keras/optimizer_v2/adam.py:105: UserWarning: The `lr` argument is deprecated, use `learning_rate` instead.\n",
      "  super(Adam, self).__init__(name, **kwargs)\n",
      "2022-05-16 15:56:18,274 INFO loaded model weights as h5 file\n",
      "2022-05-16 15:56:18,460 INFO found 25 4D files, will return one generator per file with t x z slices\n",
      "2022-05-16 15:56:18,769 INFO x_sliced: 280, example: data/interim/patient004_4d_t0_z0_img.nrrd\n",
      "2022-05-16 15:56:18,770 INFO inference mode, no masks given, will use x as placeholder for y in fix processing\n",
      "2022-05-16 15:56:18,770 INFO Create DataGenerator\n",
      "2022-05-16 15:56:18,770 INFO Datagenerator created with: \n",
      " shape: [224, 224]\n",
      " spacing: [1.2, 1.2]\n",
      " batchsize: 1\n",
      " Scaler: MinMax\n",
      " Images: 280 \n",
      " Augment: False \n",
      " Thread workers: 32\n",
      "2022-05-16 15:56:19,120 INFO x_sliced: 308, example: data/interim/patient006_4d_t0_z0_img.nrrd\n",
      "2022-05-16 15:56:19,120 INFO inference mode, no masks given, will use x as placeholder for y in fix processing\n",
      "2022-05-16 15:56:19,120 INFO Create DataGenerator\n",
      "2022-05-16 15:56:19,121 INFO Datagenerator created with: \n",
      " shape: [224, 224]\n",
      " spacing: [1.2, 1.2]\n",
      " batchsize: 1\n",
      " Scaler: MinMax\n",
      " Images: 308 \n",
      " Augment: False \n",
      " Thread workers: 32\n",
      "2022-05-16 15:56:19,511 INFO x_sliced: 300, example: data/interim/patient012_4d_t0_z0_img.nrrd\n",
      "2022-05-16 15:56:19,511 INFO inference mode, no masks given, will use x as placeholder for y in fix processing\n",
      "2022-05-16 15:56:19,512 INFO Create DataGenerator\n",
      "2022-05-16 15:56:19,512 INFO Datagenerator created with: \n",
      " shape: [224, 224]\n",
      " spacing: [1.2, 1.2]\n",
      " batchsize: 1\n",
      " Scaler: MinMax\n",
      " Images: 300 \n",
      " Augment: False \n",
      " Thread workers: 32\n",
      "2022-05-16 15:56:19,769 INFO x_sliced: 171, example: data/interim/patient017_4d_t0_z0_img.nrrd\n",
      "2022-05-16 15:56:19,770 INFO inference mode, no masks given, will use x as placeholder for y in fix processing\n",
      "2022-05-16 15:56:19,770 INFO Create DataGenerator\n",
      "2022-05-16 15:56:19,770 INFO Datagenerator created with: \n",
      " shape: [224, 224]\n",
      " spacing: [1.2, 1.2]\n",
      " batchsize: 1\n",
      " Scaler: MinMax\n",
      " Images: 171 \n",
      " Augment: False \n",
      " Thread workers: 32\n",
      "2022-05-16 15:56:20,255 INFO x_sliced: 330, example: data/interim/patient019_4d_t0_z0_img.nrrd\n",
      "2022-05-16 15:56:20,255 INFO inference mode, no masks given, will use x as placeholder for y in fix processing\n",
      "2022-05-16 15:56:20,255 INFO Create DataGenerator\n",
      "2022-05-16 15:56:20,256 INFO Datagenerator created with: \n",
      " shape: [224, 224]\n",
      " spacing: [1.2, 1.2]\n",
      " batchsize: 1\n",
      " Scaler: MinMax\n",
      " Images: 330 \n",
      " Augment: False \n",
      " Thread workers: 32\n",
      "2022-05-16 15:56:20,495 INFO x_sliced: 224, example: data/interim/patient024_4d_t0_z0_img.nrrd\n",
      "2022-05-16 15:56:20,495 INFO inference mode, no masks given, will use x as placeholder for y in fix processing\n",
      "2022-05-16 15:56:20,495 INFO Create DataGenerator\n",
      "2022-05-16 15:56:20,496 INFO Datagenerator created with: \n",
      " shape: [224, 224]\n",
      " spacing: [1.2, 1.2]\n",
      " batchsize: 1\n",
      " Scaler: MinMax\n",
      " Images: 224 \n",
      " Augment: False \n",
      " Thread workers: 32\n",
      "2022-05-16 15:56:20,758 INFO x_sliced: 280, example: data/interim/patient026_4d_t0_z0_img.nrrd\n",
      "2022-05-16 15:56:20,759 INFO inference mode, no masks given, will use x as placeholder for y in fix processing\n",
      "2022-05-16 15:56:20,759 INFO Create DataGenerator\n",
      "2022-05-16 15:56:20,760 INFO Datagenerator created with: \n",
      " shape: [224, 224]\n",
      " spacing: [1.2, 1.2]\n",
      " batchsize: 1\n",
      " Scaler: MinMax\n",
      " Images: 280 \n",
      " Augment: False \n",
      " Thread workers: 32\n",
      "2022-05-16 15:56:21,108 INFO x_sliced: 300, example: data/interim/patient032_4d_t0_z0_img.nrrd\n",
      "2022-05-16 15:56:21,109 INFO inference mode, no masks given, will use x as placeholder for y in fix processing\n",
      "2022-05-16 15:56:21,109 INFO Create DataGenerator\n",
      "2022-05-16 15:56:21,109 INFO Datagenerator created with: \n",
      " shape: [224, 224]\n",
      " spacing: [1.2, 1.2]\n",
      " batchsize: 1\n",
      " Scaler: MinMax\n",
      " Images: 300 \n",
      " Augment: False \n",
      " Thread workers: 32\n",
      "2022-05-16 15:56:21,425 INFO x_sliced: 210, example: data/interim/patient037_4d_t0_z0_img.nrrd\n",
      "2022-05-16 15:56:21,426 INFO inference mode, no masks given, will use x as placeholder for y in fix processing\n",
      "2022-05-16 15:56:21,426 INFO Create DataGenerator\n",
      "2022-05-16 15:56:21,426 INFO Datagenerator created with: \n",
      " shape: [224, 224]\n",
      " spacing: [1.2, 1.2]\n",
      " batchsize: 1\n",
      " Scaler: MinMax\n",
      " Images: 210 \n",
      " Augment: False \n",
      " Thread workers: 32\n",
      "2022-05-16 15:56:21,820 INFO x_sliced: 252, example: data/interim/patient039_4d_t0_z0_img.nrrd\n",
      "2022-05-16 15:56:21,820 INFO inference mode, no masks given, will use x as placeholder for y in fix processing\n",
      "2022-05-16 15:56:21,821 INFO Create DataGenerator\n",
      "2022-05-16 15:56:21,821 INFO Datagenerator created with: \n",
      " shape: [224, 224]\n",
      " spacing: [1.2, 1.2]\n",
      " batchsize: 1\n",
      " Scaler: MinMax\n",
      " Images: 252 \n",
      " Augment: False \n",
      " Thread workers: 32\n",
      "2022-05-16 15:56:22,068 INFO x_sliced: 270, example: data/interim/patient044_4d_t0_z0_img.nrrd\n",
      "2022-05-16 15:56:22,068 INFO inference mode, no masks given, will use x as placeholder for y in fix processing\n",
      "2022-05-16 15:56:22,068 INFO Create DataGenerator\n",
      "2022-05-16 15:56:22,069 INFO Datagenerator created with: \n",
      " shape: [224, 224]\n",
      " spacing: [1.2, 1.2]\n",
      " batchsize: 1\n",
      " Scaler: MinMax\n",
      " Images: 270 \n",
      " Augment: False \n",
      " Thread workers: 32\n",
      "2022-05-16 15:56:22,466 INFO x_sliced: 270, example: data/interim/patient046_4d_t0_z0_img.nrrd\n",
      "2022-05-16 15:56:22,466 INFO inference mode, no masks given, will use x as placeholder for y in fix processing\n",
      "2022-05-16 15:56:22,467 INFO Create DataGenerator\n",
      "2022-05-16 15:56:22,467 INFO Datagenerator created with: \n",
      " shape: [224, 224]\n",
      " spacing: [1.2, 1.2]\n",
      " batchsize: 1\n",
      " Scaler: MinMax\n",
      " Images: 270 \n",
      " Augment: False \n",
      " Thread workers: 32\n",
      "2022-05-16 15:56:22,717 INFO x_sliced: 160, example: data/interim/patient052_4d_t0_z0_img.nrrd\n",
      "2022-05-16 15:56:22,717 INFO inference mode, no masks given, will use x as placeholder for y in fix processing\n",
      "2022-05-16 15:56:22,718 INFO Create DataGenerator\n",
      "2022-05-16 15:56:22,718 INFO Datagenerator created with: \n",
      " shape: [224, 224]\n",
      " spacing: [1.2, 1.2]\n",
      " batchsize: 1\n",
      " Scaler: MinMax\n",
      " Images: 160 \n",
      " Augment: False \n",
      " Thread workers: 32\n",
      "2022-05-16 15:56:23,706 INFO x_sliced: 200, example: data/interim/patient057_4d_t0_z0_img.nrrd\n",
      "2022-05-16 15:56:23,706 INFO inference mode, no masks given, will use x as placeholder for y in fix processing\n",
      "2022-05-16 15:56:23,706 INFO Create DataGenerator\n",
      "2022-05-16 15:56:23,707 INFO Datagenerator created with: \n",
      " shape: [224, 224]\n",
      " spacing: [1.2, 1.2]\n",
      " batchsize: 1\n",
      " Scaler: MinMax\n",
      " Images: 200 \n",
      " Augment: False \n",
      " Thread workers: 32\n",
      "2022-05-16 15:56:24,076 INFO x_sliced: 270, example: data/interim/patient059_4d_t0_z0_img.nrrd\n",
      "2022-05-16 15:56:24,076 INFO inference mode, no masks given, will use x as placeholder for y in fix processing\n",
      "2022-05-16 15:56:24,076 INFO Create DataGenerator\n",
      "2022-05-16 15:56:24,077 INFO Datagenerator created with: \n",
      " shape: [224, 224]\n",
      " spacing: [1.2, 1.2]\n",
      " batchsize: 1\n",
      " Scaler: MinMax\n",
      " Images: 270 \n",
      " Augment: False \n",
      " Thread workers: 32\n",
      "2022-05-16 15:56:24,426 INFO x_sliced: 350, example: data/interim/patient064_4d_t0_z0_img.nrrd\n",
      "2022-05-16 15:56:24,426 INFO inference mode, no masks given, will use x as placeholder for y in fix processing\n",
      "2022-05-16 15:56:24,427 INFO Create DataGenerator\n",
      "2022-05-16 15:56:24,427 INFO Datagenerator created with: \n",
      " shape: [224, 224]\n",
      " spacing: [1.2, 1.2]\n",
      " batchsize: 1\n",
      " Scaler: MinMax\n",
      " Images: 350 \n",
      " Augment: False \n",
      " Thread workers: 32\n",
      "2022-05-16 15:56:24,712 INFO x_sliced: 270, example: data/interim/patient066_4d_t0_z0_img.nrrd\n",
      "2022-05-16 15:56:24,713 INFO inference mode, no masks given, will use x as placeholder for y in fix processing\n",
      "2022-05-16 15:56:24,713 INFO Create DataGenerator\n",
      "2022-05-16 15:56:24,713 INFO Datagenerator created with: \n",
      " shape: [224, 224]\n",
      " spacing: [1.2, 1.2]\n",
      " batchsize: 1\n",
      " Scaler: MinMax\n",
      " Images: 270 \n",
      " Augment: False \n",
      " Thread workers: 32\n",
      "2022-05-16 15:56:24,948 INFO x_sliced: 240, example: data/interim/patient072_4d_t0_z0_img.nrrd\n",
      "2022-05-16 15:56:24,948 INFO inference mode, no masks given, will use x as placeholder for y in fix processing\n",
      "2022-05-16 15:56:24,948 INFO Create DataGenerator\n",
      "2022-05-16 15:56:24,949 INFO Datagenerator created with: \n",
      " shape: [224, 224]\n",
      " spacing: [1.2, 1.2]\n",
      " batchsize: 1\n",
      " Scaler: MinMax\n",
      " Images: 240 \n",
      " Augment: False \n",
      " Thread workers: 32\n",
      "2022-05-16 15:56:25,220 INFO x_sliced: 200, example: data/interim/patient077_4d_t0_z0_img.nrrd\n",
      "2022-05-16 15:56:25,220 INFO inference mode, no masks given, will use x as placeholder for y in fix processing\n",
      "2022-05-16 15:56:25,220 INFO Create DataGenerator\n",
      "2022-05-16 15:56:25,221 INFO Datagenerator created with: \n",
      " shape: [224, 224]\n",
      " spacing: [1.2, 1.2]\n",
      " batchsize: 1\n",
      " Scaler: MinMax\n",
      " Images: 200 \n",
      " Augment: False \n",
      " Thread workers: 32\n",
      "2022-05-16 15:56:25,612 INFO x_sliced: 270, example: data/interim/patient079_4d_t0_z0_img.nrrd\n",
      "2022-05-16 15:56:25,613 INFO inference mode, no masks given, will use x as placeholder for y in fix processing\n",
      "2022-05-16 15:56:25,613 INFO Create DataGenerator\n",
      "2022-05-16 15:56:25,614 INFO Datagenerator created with: \n",
      " shape: [224, 224]\n",
      " spacing: [1.2, 1.2]\n",
      " batchsize: 1\n",
      " Scaler: MinMax\n",
      " Images: 270 \n",
      " Augment: False \n",
      " Thread workers: 32\n",
      "2022-05-16 15:56:26,317 INFO x_sliced: 420, example: data/interim/patient084_4d_t0_z0_img.nrrd\n",
      "2022-05-16 15:56:26,317 INFO inference mode, no masks given, will use x as placeholder for y in fix processing\n",
      "2022-05-16 15:56:26,317 INFO Create DataGenerator\n",
      "2022-05-16 15:56:26,318 INFO Datagenerator created with: \n",
      " shape: [224, 224]\n",
      " spacing: [1.2, 1.2]\n",
      " batchsize: 1\n",
      " Scaler: MinMax\n",
      " Images: 420 \n",
      " Augment: False \n",
      " Thread workers: 32\n",
      "2022-05-16 15:56:26,501 INFO x_sliced: 133, example: data/interim/patient086_4d_t0_z0_img.nrrd\n",
      "2022-05-16 15:56:26,501 INFO inference mode, no masks given, will use x as placeholder for y in fix processing\n",
      "2022-05-16 15:56:26,501 INFO Create DataGenerator\n",
      "2022-05-16 15:56:26,502 INFO Datagenerator created with: \n",
      " shape: [224, 224]\n",
      " spacing: [1.2, 1.2]\n",
      " batchsize: 1\n",
      " Scaler: MinMax\n",
      " Images: 133 \n",
      " Augment: False \n",
      " Thread workers: 32\n",
      "2022-05-16 15:56:26,739 INFO x_sliced: 225, example: data/interim/patient092_4d_t0_z0_img.nrrd\n",
      "2022-05-16 15:56:26,739 INFO inference mode, no masks given, will use x as placeholder for y in fix processing\n",
      "2022-05-16 15:56:26,739 INFO Create DataGenerator\n",
      "2022-05-16 15:56:26,740 INFO Datagenerator created with: \n",
      " shape: [224, 224]\n",
      " spacing: [1.2, 1.2]\n",
      " batchsize: 1\n",
      " Scaler: MinMax\n",
      " Images: 225 \n",
      " Augment: False \n",
      " Thread workers: 32\n",
      "2022-05-16 15:56:27,091 INFO x_sliced: 240, example: data/interim/patient097_4d_t0_z0_img.nrrd\n",
      "2022-05-16 15:56:27,092 INFO inference mode, no masks given, will use x as placeholder for y in fix processing\n",
      "2022-05-16 15:56:27,092 INFO Create DataGenerator\n",
      "2022-05-16 15:56:27,092 INFO Datagenerator created with: \n",
      " shape: [224, 224]\n",
      " spacing: [1.2, 1.2]\n",
      " batchsize: 1\n",
      " Scaler: MinMax\n",
      " Images: 240 \n",
      " Augment: False \n",
      " Thread workers: 32\n",
      "2022-05-16 15:56:27,433 INFO x_sliced: 304, example: data/interim/patient099_4d_t0_z0_img.nrrd\n",
      "2022-05-16 15:56:27,434 INFO inference mode, no masks given, will use x as placeholder for y in fix processing\n",
      "2022-05-16 15:56:27,434 INFO Create DataGenerator\n",
      "2022-05-16 15:56:27,435 INFO Datagenerator created with: \n",
      " shape: [224, 224]\n",
      " spacing: [1.2, 1.2]\n",
      " batchsize: 1\n",
      " Scaler: MinMax\n",
      " Images: 304 \n",
      " Augment: False \n",
      " Thread workers: 32\n",
      "2022-05-16 15:56:27,603 INFO size: (232, 256, 10, 28)\n",
      "2022-05-16 15:56:27,604 INFO spacing: (1.3671875, 1.3671875, 10.0, 1.0)\n",
      "2022-05-16 15:56:27,604 INFO origin: (0.0, 0.0, 0.0, 0.0)\n",
      "2022-05-16 15:56:27,604 INFO direction: (1.0, 0.0, 0.0, 0.0, 0.0, 1.0, 0.0, 0.0, 0.0, 0.0, 1.0, 0.0, 0.0, 0.0, 0.0, 1.0)\n",
      "2022-05-16 15:56:27,605 INFO pixel type: 16-bit signed integer\n",
      "2022-05-16 15:56:27,605 INFO number of pixel components: 1\n"
     ]
    },
    {
     "name": "stdout",
     "output_type": "stream",
     "text": [
      "(224, 224, 10, 28)\n",
      "(1.2, 1.2, 10.0, 1)\n"
     ]
    },
    {
     "name": "stderr",
     "output_type": "stream",
     "text": [
      "2022-05-16 15:56:30,440 INFO size: (232, 256, 11, 28)\n",
      "2022-05-16 15:56:30,441 INFO spacing: (1.7578125, 1.7578125, 10.0, 1.0)\n",
      "2022-05-16 15:56:30,441 INFO origin: (0.0, 0.0, 0.0, 0.0)\n",
      "2022-05-16 15:56:30,441 INFO direction: (1.0, 0.0, 0.0, 0.0, 0.0, 1.0, 0.0, 0.0, 0.0, 0.0, 1.0, 0.0, 0.0, 0.0, 0.0, 1.0)\n",
      "2022-05-16 15:56:30,442 INFO pixel type: 16-bit signed integer\n",
      "2022-05-16 15:56:30,442 INFO number of pixel components: 1\n"
     ]
    },
    {
     "name": "stdout",
     "output_type": "stream",
     "text": [
      "(224, 224, 11, 28)\n",
      "(1.2, 1.2, 10.0, 1)\n"
     ]
    },
    {
     "name": "stderr",
     "output_type": "stream",
     "text": [
      "2022-05-16 15:56:32,944 INFO size: (184, 256, 10, 30)\n",
      "2022-05-16 15:56:32,944 INFO spacing: (1.5625, 1.5625, 10.0, 1.0)\n",
      "2022-05-16 15:56:32,944 INFO origin: (0.0, 0.0, 0.0, 0.0)\n",
      "2022-05-16 15:56:32,945 INFO direction: (1.0, 0.0, 0.0, 0.0, 0.0, 1.0, 0.0, 0.0, 0.0, 0.0, 1.0, 0.0, 0.0, 0.0, 0.0, 1.0)\n",
      "2022-05-16 15:56:32,945 INFO pixel type: 32-bit float\n",
      "2022-05-16 15:56:32,945 INFO number of pixel components: 1\n",
      "2022-05-16 15:56:35,276 INFO size: (216, 256, 9, 19)\n",
      "2022-05-16 15:56:35,276 INFO spacing: (1.5625, 1.5625, 10.0, 1.0)\n",
      "2022-05-16 15:56:35,276 INFO origin: (0.0, 0.0, 0.0, 0.0)\n",
      "2022-05-16 15:56:35,277 INFO direction: (1.0, 0.0, 0.0, 0.0, 0.0, 1.0, 0.0, 0.0, 0.0, 0.0, 1.0, 0.0, 0.0, 0.0, 0.0, 1.0)\n",
      "2022-05-16 15:56:35,277 INFO pixel type: 32-bit float\n",
      "2022-05-16 15:56:35,277 INFO number of pixel components: 1\n"
     ]
    },
    {
     "name": "stdout",
     "output_type": "stream",
     "text": [
      "(224, 224, 10, 30)\n",
      "(1.2, 1.2, 10.0, 1)\n",
      "(224, 224, 9, 19)\n",
      "(1.2, 1.2, 10.0, 1)\n"
     ]
    },
    {
     "name": "stderr",
     "output_type": "stream",
     "text": [
      "2022-05-16 15:56:36,858 INFO size: (216, 256, 11, 30)\n",
      "2022-05-16 15:56:36,859 INFO spacing: (1.4453099966049194, 1.4453099966049194, 10.0, 1.0)\n",
      "2022-05-16 15:56:36,859 INFO origin: (0.0, 0.0, 0.0, 0.0)\n",
      "2022-05-16 15:56:36,859 INFO direction: (1.0, 0.0, 0.0, 0.0, 0.0, 1.0, 0.0, 0.0, 0.0, 0.0, 1.0, 0.0, 0.0, 0.0, 0.0, 1.0)\n",
      "2022-05-16 15:56:36,860 INFO pixel type: 32-bit float\n",
      "2022-05-16 15:56:36,860 INFO number of pixel components: 1\n",
      "2022-05-16 15:56:40,116 INFO size: (208, 256, 8, 28)\n",
      "2022-05-16 15:56:40,117 INFO spacing: (1.5625, 1.5625, 10.0, 1.0)\n",
      "2022-05-16 15:56:40,118 INFO origin: (0.0, 0.0, 0.0, 0.0)\n",
      "2022-05-16 15:56:40,118 INFO direction: (1.0, 0.0, 0.0, 0.0, 0.0, 1.0, 0.0, 0.0, 0.0, 0.0, 1.0, 0.0, 0.0, 0.0, 0.0, 1.0)\n",
      "2022-05-16 15:56:40,118 INFO pixel type: 16-bit signed integer\n",
      "2022-05-16 15:56:40,119 INFO number of pixel components: 1\n"
     ]
    },
    {
     "name": "stdout",
     "output_type": "stream",
     "text": [
      "(224, 224, 11, 30)\n",
      "(1.2, 1.2, 10.0, 1)\n"
     ]
    },
    {
     "name": "stderr",
     "output_type": "stream",
     "text": [
      "2022-05-16 15:56:42,835 INFO size: (216, 256, 10, 28)\n",
      "2022-05-16 15:56:42,836 INFO spacing: (1.3671875, 1.3671875, 10.0, 1.0)\n",
      "2022-05-16 15:56:42,836 INFO origin: (0.0, 0.0, 0.0, 0.0)\n",
      "2022-05-16 15:56:42,837 INFO direction: (1.0, 0.0, 0.0, 0.0, 0.0, 1.0, 0.0, 0.0, 0.0, 0.0, 1.0, 0.0, 0.0, 0.0, 0.0, 1.0)\n",
      "2022-05-16 15:56:42,837 INFO pixel type: 16-bit signed integer\n",
      "2022-05-16 15:56:42,837 INFO number of pixel components: 1\n"
     ]
    },
    {
     "name": "stdout",
     "output_type": "stream",
     "text": [
      "(224, 224, 8, 28)\n",
      "(1.2, 1.2, 10.0, 1)\n"
     ]
    },
    {
     "name": "stderr",
     "output_type": "stream",
     "text": [
      "2022-05-16 15:56:46,507 INFO size: (240, 256, 10, 30)\n",
      "2022-05-16 15:56:46,508 INFO spacing: (1.5625, 1.5625, 10.0, 1.0)\n",
      "2022-05-16 15:56:46,508 INFO origin: (0.0, 0.0, 0.0, 0.0)\n",
      "2022-05-16 15:56:46,508 INFO direction: (1.0, 0.0, 0.0, 0.0, 0.0, 1.0, 0.0, 0.0, 0.0, 0.0, 1.0, 0.0, 0.0, 0.0, 0.0, 1.0)\n",
      "2022-05-16 15:56:46,509 INFO pixel type: 16-bit signed integer\n",
      "2022-05-16 15:56:46,509 INFO number of pixel components: 1\n"
     ]
    },
    {
     "name": "stdout",
     "output_type": "stream",
     "text": [
      "(224, 224, 10, 28)\n",
      "(1.2, 1.2, 10.0, 1)\n"
     ]
    },
    {
     "name": "stderr",
     "output_type": "stream",
     "text": [
      "2022-05-16 15:56:48,892 INFO size: (216, 256, 7, 30)\n",
      "2022-05-16 15:56:48,893 INFO spacing: (1.875, 1.875, 10.0, 1.0)\n",
      "2022-05-16 15:56:48,893 INFO origin: (0.0, 0.0, 0.0, 0.0)\n",
      "2022-05-16 15:56:48,893 INFO direction: (1.0, 0.0, 0.0, 0.0, 0.0, 1.0, 0.0, 0.0, 0.0, 0.0, 1.0, 0.0, 0.0, 0.0, 0.0, 1.0)\n",
      "2022-05-16 15:56:48,894 INFO pixel type: 32-bit float\n",
      "2022-05-16 15:56:48,894 INFO number of pixel components: 1\n"
     ]
    },
    {
     "name": "stdout",
     "output_type": "stream",
     "text": [
      "(224, 224, 10, 30)\n",
      "(1.2, 1.2, 10.0, 1)\n",
      "(224, 224, 7, 30)\n",
      "(1.2, 1.2, 10.0, 1)\n"
     ]
    },
    {
     "name": "stderr",
     "output_type": "stream",
     "text": [
      "2022-05-16 15:56:50,709 INFO size: (208, 256, 9, 28)\n",
      "2022-05-16 15:56:50,710 INFO spacing: (1.6406199932098389, 1.6406199932098389, 10.0, 1.0)\n",
      "2022-05-16 15:56:50,710 INFO origin: (0.0, 0.0, 0.0, 0.0)\n",
      "2022-05-16 15:56:50,710 INFO direction: (1.0, 0.0, 0.0, 0.0, 0.0, 1.0, 0.0, 0.0, 0.0, 0.0, 1.0, 0.0, 0.0, 0.0, 0.0, 1.0)\n",
      "2022-05-16 15:56:50,711 INFO pixel type: 32-bit float\n",
      "2022-05-16 15:56:50,711 INFO number of pixel components: 1\n",
      "2022-05-16 15:56:52,638 INFO size: (256, 216, 9, 30)\n",
      "2022-05-16 15:56:52,639 INFO spacing: (1.3671875, 1.3671875, 10.0, 1.0)\n",
      "2022-05-16 15:56:52,639 INFO origin: (0.0, 0.0, 0.0, 0.0)\n",
      "2022-05-16 15:56:52,640 INFO direction: (1.0, 0.0, 0.0, 0.0, 0.0, 1.0, 0.0, 0.0, 0.0, 0.0, 1.0, 0.0, 0.0, 0.0, 0.0, 1.0)\n",
      "2022-05-16 15:56:52,640 INFO pixel type: 16-bit signed integer\n",
      "2022-05-16 15:56:52,640 INFO number of pixel components: 1\n"
     ]
    },
    {
     "name": "stdout",
     "output_type": "stream",
     "text": [
      "(224, 224, 9, 28)\n",
      "(1.2, 1.2, 10.0, 1)\n",
      "(224, 224, 9, 30)\n",
      "(1.2, 1.2, 10.0, 1)\n"
     ]
    },
    {
     "name": "stderr",
     "output_type": "stream",
     "text": [
      "2022-05-16 15:56:54,790 INFO size: (256, 216, 9, 30)\n",
      "2022-05-16 15:56:54,790 INFO spacing: (1.5625, 1.5625, 10.0, 1.0)\n",
      "2022-05-16 15:56:54,791 INFO origin: (0.0, 0.0, 0.0, 0.0)\n",
      "2022-05-16 15:56:54,791 INFO direction: (1.0, 0.0, 0.0, 0.0, 0.0, 1.0, 0.0, 0.0, 0.0, 0.0, 1.0, 0.0, 0.0, 0.0, 0.0, 1.0)\n",
      "2022-05-16 15:56:54,791 INFO pixel type: 32-bit float\n",
      "2022-05-16 15:56:54,792 INFO number of pixel components: 1\n",
      "2022-05-16 15:56:56,864 INFO size: (216, 256, 8, 20)\n",
      "2022-05-16 15:56:56,864 INFO spacing: (1.4843800067901611, 1.4843800067901611, 10.0, 1.0)\n",
      "2022-05-16 15:56:56,865 INFO origin: (0.0, 0.0, 0.0, 0.0)\n",
      "2022-05-16 15:56:56,865 INFO direction: (1.0, 0.0, 0.0, 0.0, 0.0, 1.0, 0.0, 0.0, 0.0, 0.0, 1.0, 0.0, 0.0, 0.0, 0.0, 1.0)\n",
      "2022-05-16 15:56:56,865 INFO pixel type: 32-bit float\n",
      "2022-05-16 15:56:56,866 INFO number of pixel components: 1\n"
     ]
    },
    {
     "name": "stdout",
     "output_type": "stream",
     "text": [
      "(224, 224, 9, 30)\n",
      "(1.2, 1.2, 10.0, 1)\n",
      "(224, 224, 8, 20)\n",
      "(1.2, 1.2, 10.0, 1)\n"
     ]
    },
    {
     "name": "stderr",
     "output_type": "stream",
     "text": [
      "2022-05-16 15:56:58,871 INFO size: (428, 512, 8, 25)\n",
      "2022-05-16 15:56:58,872 INFO spacing: (0.703125, 0.703125, 10.0, 1.0)\n",
      "2022-05-16 15:56:58,872 INFO origin: (0.0, 0.0, 0.0, 0.0)\n",
      "2022-05-16 15:56:58,872 INFO direction: (1.0, 0.0, 0.0, 0.0, 0.0, 1.0, 0.0, 0.0, 0.0, 0.0, 1.0, 0.0, 0.0, 0.0, 0.0, 1.0)\n",
      "2022-05-16 15:56:58,873 INFO pixel type: 32-bit float\n",
      "2022-05-16 15:56:58,873 INFO number of pixel components: 1\n"
     ]
    },
    {
     "name": "stdout",
     "output_type": "stream",
     "text": [
      "(224, 224, 8, 25)\n",
      "(1.2, 1.2, 10.0, 1)\n"
     ]
    },
    {
     "name": "stderr",
     "output_type": "stream",
     "text": [
      "2022-05-16 15:57:00,594 INFO size: (256, 216, 9, 30)\n",
      "2022-05-16 15:57:00,594 INFO spacing: (1.3671900033950806, 1.3671900033950806, 10.0, 1.0)\n",
      "2022-05-16 15:57:00,594 INFO origin: (0.0, 0.0, 0.0, 0.0)\n",
      "2022-05-16 15:57:00,595 INFO direction: (1.0, 0.0, 0.0, 0.0, 0.0, 1.0, 0.0, 0.0, 0.0, 0.0, 1.0, 0.0, 0.0, 0.0, 0.0, 1.0)\n",
      "2022-05-16 15:57:00,595 INFO pixel type: 32-bit float\n",
      "2022-05-16 15:57:00,595 INFO number of pixel components: 1\n",
      "2022-05-16 15:57:02,678 INFO size: (216, 256, 10, 35)\n",
      "2022-05-16 15:57:02,678 INFO spacing: (1.4453125, 1.4453125, 10.0, 1.0)\n",
      "2022-05-16 15:57:02,679 INFO origin: (0.0, 0.0, 0.0, 0.0)\n",
      "2022-05-16 15:57:02,679 INFO direction: (1.0, 0.0, 0.0, 0.0, 0.0, 1.0, 0.0, 0.0, 0.0, 0.0, 1.0, 0.0, 0.0, 0.0, 0.0, 1.0)\n",
      "2022-05-16 15:57:02,679 INFO pixel type: 16-bit signed integer\n",
      "2022-05-16 15:57:02,680 INFO number of pixel components: 1\n"
     ]
    },
    {
     "name": "stdout",
     "output_type": "stream",
     "text": [
      "(224, 224, 9, 30)\n",
      "(1.2, 1.2, 10.0, 1)\n"
     ]
    },
    {
     "name": "stderr",
     "output_type": "stream",
     "text": [
      "2022-05-16 15:57:05,409 INFO size: (240, 256, 9, 30)\n",
      "2022-05-16 15:57:05,410 INFO spacing: (1.3671875, 1.3671875, 10.0, 1.0)\n",
      "2022-05-16 15:57:05,410 INFO origin: (0.0, 0.0, 0.0, 0.0)\n",
      "2022-05-16 15:57:05,410 INFO direction: (1.0, 0.0, 0.0, 0.0, 0.0, 1.0, 0.0, 0.0, 0.0, 0.0, 1.0, 0.0, 0.0, 0.0, 0.0, 1.0)\n",
      "2022-05-16 15:57:05,411 INFO pixel type: 16-bit signed integer\n",
      "2022-05-16 15:57:05,411 INFO number of pixel components: 1\n"
     ]
    },
    {
     "name": "stdout",
     "output_type": "stream",
     "text": [
      "(224, 224, 10, 35)\n",
      "(1.2, 1.2, 10.0, 1)\n"
     ]
    },
    {
     "name": "stderr",
     "output_type": "stream",
     "text": [
      "2022-05-16 15:57:07,441 INFO size: (216, 256, 8, 30)\n",
      "2022-05-16 15:57:07,442 INFO spacing: (1.5625, 1.5625, 10.0, 1.0)\n",
      "2022-05-16 15:57:07,442 INFO origin: (0.0, 0.0, 0.0, 0.0)\n",
      "2022-05-16 15:57:07,442 INFO direction: (1.0, 0.0, 0.0, 0.0, 0.0, 1.0, 0.0, 0.0, 0.0, 0.0, 1.0, 0.0, 0.0, 0.0, 0.0, 1.0)\n",
      "2022-05-16 15:57:07,443 INFO pixel type: 16-bit signed integer\n",
      "2022-05-16 15:57:07,443 INFO number of pixel components: 1\n"
     ]
    },
    {
     "name": "stdout",
     "output_type": "stream",
     "text": [
      "(224, 224, 9, 30)\n",
      "(1.2, 1.2, 10.0, 1)\n"
     ]
    },
    {
     "name": "stderr",
     "output_type": "stream",
     "text": [
      "2022-05-16 15:57:09,318 INFO size: (214, 256, 8, 25)\n",
      "2022-05-16 15:57:09,318 INFO spacing: (1.40625, 1.40625, 10.0, 1.0)\n",
      "2022-05-16 15:57:09,319 INFO origin: (0.0, 0.0, 0.0, 0.0)\n",
      "2022-05-16 15:57:09,319 INFO direction: (1.0, 0.0, 0.0, 0.0, 0.0, 1.0, 0.0, 0.0, 0.0, 0.0, 1.0, 0.0, 0.0, 0.0, 0.0, 1.0)\n",
      "2022-05-16 15:57:09,319 INFO pixel type: 32-bit float\n",
      "2022-05-16 15:57:09,319 INFO number of pixel components: 1\n"
     ]
    },
    {
     "name": "stdout",
     "output_type": "stream",
     "text": [
      "(224, 224, 8, 30)\n",
      "(1.2, 1.2, 10.0, 1)\n",
      "(224, 224, 8, 25)\n",
      "(1.2, 1.2, 10.0, 1)\n"
     ]
    },
    {
     "name": "stderr",
     "output_type": "stream",
     "text": [
      "2022-05-16 15:57:11,004 INFO size: (216, 256, 9, 30)\n",
      "2022-05-16 15:57:11,005 INFO spacing: (1.3671900033950806, 1.3671900033950806, 10.0, 1.0)\n",
      "2022-05-16 15:57:11,005 INFO origin: (0.0, 0.0, 0.0, 0.0)\n",
      "2022-05-16 15:57:11,005 INFO direction: (1.0, 0.0, 0.0, 0.0, 0.0, 1.0, 0.0, 0.0, 0.0, 0.0, 1.0, 0.0, 0.0, 0.0, 0.0, 1.0)\n",
      "2022-05-16 15:57:11,006 INFO pixel type: 32-bit float\n",
      "2022-05-16 15:57:11,006 INFO number of pixel components: 1\n"
     ]
    },
    {
     "name": "stdout",
     "output_type": "stream",
     "text": [
      "(224, 224, 9, 30)\n",
      "(1.2, 1.2, 10.0, 1)\n"
     ]
    },
    {
     "name": "stderr",
     "output_type": "stream",
     "text": [
      "2022-05-16 15:57:13,262 INFO size: (208, 256, 12, 35)\n",
      "2022-05-16 15:57:13,262 INFO spacing: (1.3671900033950806, 1.3671900033950806, 5.0, 1.0)\n",
      "2022-05-16 15:57:13,262 INFO origin: (0.0, 0.0, 0.0, 0.0)\n",
      "2022-05-16 15:57:13,263 INFO direction: (1.0, 0.0, 0.0, 0.0, 0.0, 1.0, 0.0, 0.0, 0.0, 0.0, 1.0, 0.0, 0.0, 0.0, 0.0, 1.0)\n",
      "2022-05-16 15:57:13,263 INFO pixel type: 32-bit float\n",
      "2022-05-16 15:57:13,263 INFO number of pixel components: 1\n",
      "2022-05-16 15:57:16,291 INFO size: (192, 256, 7, 19)\n",
      "2022-05-16 15:57:16,291 INFO spacing: (1.5625, 1.5625, 10.0, 1.0)\n",
      "2022-05-16 15:57:16,292 INFO origin: (0.0, 0.0, 0.0, 0.0)\n",
      "2022-05-16 15:57:16,292 INFO direction: (1.0, 0.0, 0.0, 0.0, 0.0, 1.0, 0.0, 0.0, 0.0, 0.0, 1.0, 0.0, 0.0, 0.0, 0.0, 1.0)\n",
      "2022-05-16 15:57:16,292 INFO pixel type: 32-bit float\n",
      "2022-05-16 15:57:16,292 INFO number of pixel components: 1\n"
     ]
    },
    {
     "name": "stdout",
     "output_type": "stream",
     "text": [
      "(224, 224, 12, 35)\n",
      "(1.2, 1.2, 5.0, 1)\n"
     ]
    },
    {
     "name": "stderr",
     "output_type": "stream",
     "text": [
      "2022-05-16 15:57:17,434 INFO size: (174, 208, 15, 15)\n",
      "2022-05-16 15:57:17,434 INFO spacing: (1.6826900243759155, 1.6826900243759155, 5.0, 1.0)\n",
      "2022-05-16 15:57:17,434 INFO origin: (0.0, 0.0, 0.0, 0.0)\n",
      "2022-05-16 15:57:17,435 INFO direction: (1.0, 0.0, 0.0, 0.0, 0.0, 1.0, 0.0, 0.0, 0.0, 0.0, 1.0, 0.0, 0.0, 0.0, 0.0, 1.0)\n",
      "2022-05-16 15:57:17,435 INFO pixel type: 32-bit float\n",
      "2022-05-16 15:57:17,435 INFO number of pixel components: 1\n"
     ]
    },
    {
     "name": "stdout",
     "output_type": "stream",
     "text": [
      "(224, 224, 7, 19)\n",
      "(1.2, 1.2, 10.0, 1)\n",
      "(224, 224, 15, 15)\n",
      "(1.2, 1.2, 5.0, 1)\n"
     ]
    },
    {
     "name": "stderr",
     "output_type": "stream",
     "text": [
      "2022-05-16 15:57:19,249 INFO size: (216, 256, 8, 30)\n",
      "2022-05-16 15:57:19,250 INFO spacing: (1.4843800067901611, 1.4843800067901611, 10.0, 1.0)\n",
      "2022-05-16 15:57:19,250 INFO origin: (0.0, 0.0, 0.0, 0.0)\n",
      "2022-05-16 15:57:19,250 INFO direction: (1.0, 0.0, 0.0, 0.0, 0.0, 1.0, 0.0, 0.0, 0.0, 0.0, 1.0, 0.0, 0.0, 0.0, 0.0, 1.0)\n",
      "2022-05-16 15:57:19,251 INFO pixel type: 32-bit float\n",
      "2022-05-16 15:57:19,251 INFO number of pixel components: 1\n",
      "2022-05-16 15:57:21,176 INFO size: (154, 224, 16, 19)\n",
      "2022-05-16 15:57:21,176 INFO spacing: (1.7857099771499634, 1.7857099771499634, 5.0, 1.0)\n",
      "2022-05-16 15:57:21,177 INFO origin: (0.0, 0.0, 0.0, 0.0)\n",
      "2022-05-16 15:57:21,177 INFO direction: (1.0, 0.0, 0.0, 0.0, 0.0, 1.0, 0.0, 0.0, 0.0, 0.0, 1.0, 0.0, 0.0, 0.0, 0.0, 1.0)\n",
      "2022-05-16 15:57:21,177 INFO pixel type: 32-bit float\n",
      "2022-05-16 15:57:21,177 INFO number of pixel components: 1\n"
     ]
    },
    {
     "name": "stdout",
     "output_type": "stream",
     "text": [
      "(224, 224, 8, 30)\n",
      "(1.2, 1.2, 10.0, 1)\n"
     ]
    },
    {
     "name": "stderr",
     "output_type": "stream",
     "text": [
      "2022-05-16 15:57:23,315 INFO expect 25 patients for validation in fold 2\n",
      "2022-05-16 15:57:23,316 INFO 4d files filtered: 25\n",
      "2022-05-16 15:57:23,316 INFO Create model\n"
     ]
    },
    {
     "name": "stdout",
     "output_type": "stream",
     "text": [
      "(224, 224, 16, 19)\n",
      "(1.2, 1.2, 5.0, 1)\n",
      "build u-net for input shape:  (None, 224, 224, 1)\n"
     ]
    },
    {
     "name": "stderr",
     "output_type": "stream",
     "text": [
      "/home/sven/anaconda3/envs/dcmr/lib/python3.8/site-packages/keras/optimizer_v2/adam.py:105: UserWarning: The `lr` argument is deprecated, use `learning_rate` instead.\n",
      "  super(Adam, self).__init__(name, **kwargs)\n",
      "2022-05-16 15:57:23,945 INFO loaded model weights as h5 file\n",
      "2022-05-16 15:57:24,119 INFO found 25 4D files, will return one generator per file with t x z slices\n",
      "2022-05-16 15:57:24,440 INFO x_sliced: 300, example: data/interim/patient003_4d_t0_z0_img.nrrd\n",
      "2022-05-16 15:57:24,441 INFO inference mode, no masks given, will use x as placeholder for y in fix processing\n",
      "2022-05-16 15:57:24,441 INFO Create DataGenerator\n",
      "2022-05-16 15:57:24,442 INFO Datagenerator created with: \n",
      " shape: [224, 224]\n",
      " spacing: [1.2, 1.2]\n",
      " batchsize: 1\n",
      " Scaler: MinMax\n",
      " Images: 300 \n",
      " Augment: False \n",
      " Thread workers: 32\n",
      "2022-05-16 15:57:24,756 INFO x_sliced: 300, example: data/interim/patient005_4d_t0_z0_img.nrrd\n",
      "2022-05-16 15:57:24,756 INFO inference mode, no masks given, will use x as placeholder for y in fix processing\n",
      "2022-05-16 15:57:24,756 INFO Create DataGenerator\n",
      "2022-05-16 15:57:24,757 INFO Datagenerator created with: \n",
      " shape: [224, 224]\n",
      " spacing: [1.2, 1.2]\n",
      " batchsize: 1\n",
      " Scaler: MinMax\n",
      " Images: 300 \n",
      " Augment: False \n",
      " Thread workers: 32\n",
      "2022-05-16 15:57:25,150 INFO x_sliced: 280, example: data/interim/patient010_4d_t0_z0_img.nrrd\n",
      "2022-05-16 15:57:25,151 INFO inference mode, no masks given, will use x as placeholder for y in fix processing\n",
      "2022-05-16 15:57:25,151 INFO Create DataGenerator\n",
      "2022-05-16 15:57:25,152 INFO Datagenerator created with: \n",
      " shape: [224, 224]\n",
      " spacing: [1.2, 1.2]\n",
      " batchsize: 1\n",
      " Scaler: MinMax\n",
      " Images: 280 \n",
      " Augment: False \n",
      " Thread workers: 32\n",
      "2022-05-16 15:57:25,567 INFO x_sliced: 300, example: data/interim/patient014_4d_t0_z0_img.nrrd\n",
      "2022-05-16 15:57:25,568 INFO inference mode, no masks given, will use x as placeholder for y in fix processing\n",
      "2022-05-16 15:57:25,568 INFO Create DataGenerator\n",
      "2022-05-16 15:57:25,569 INFO Datagenerator created with: \n",
      " shape: [224, 224]\n",
      " spacing: [1.2, 1.2]\n",
      " batchsize: 1\n",
      " Scaler: MinMax\n",
      " Images: 300 \n",
      " Augment: False \n",
      " Thread workers: 32\n",
      "2022-05-16 15:57:25,797 INFO x_sliced: 160, example: data/interim/patient020_4d_t0_z0_img.nrrd\n",
      "2022-05-16 15:57:25,797 INFO inference mode, no masks given, will use x as placeholder for y in fix processing\n",
      "2022-05-16 15:57:25,797 INFO Create DataGenerator\n",
      "2022-05-16 15:57:25,798 INFO Datagenerator created with: \n",
      " shape: [224, 224]\n",
      " spacing: [1.2, 1.2]\n",
      " batchsize: 1\n",
      " Scaler: MinMax\n",
      " Images: 160 \n",
      " Augment: False \n",
      " Thread workers: 32\n",
      "2022-05-16 15:57:26,025 INFO x_sliced: 225, example: data/interim/patient023_4d_t0_z0_img.nrrd\n",
      "2022-05-16 15:57:26,025 INFO inference mode, no masks given, will use x as placeholder for y in fix processing\n",
      "2022-05-16 15:57:26,025 INFO Create DataGenerator\n",
      "2022-05-16 15:57:26,026 INFO Datagenerator created with: \n",
      " shape: [224, 224]\n",
      " spacing: [1.2, 1.2]\n",
      " batchsize: 1\n",
      " Scaler: MinMax\n",
      " Images: 225 \n",
      " Augment: False \n",
      " Thread workers: 32\n",
      "2022-05-16 15:57:26,271 INFO x_sliced: 225, example: data/interim/patient025_4d_t0_z0_img.nrrd\n",
      "2022-05-16 15:57:26,272 INFO inference mode, no masks given, will use x as placeholder for y in fix processing\n",
      "2022-05-16 15:57:26,272 INFO Create DataGenerator\n",
      "2022-05-16 15:57:26,273 INFO Datagenerator created with: \n",
      " shape: [224, 224]\n",
      " spacing: [1.2, 1.2]\n",
      " batchsize: 1\n",
      " Scaler: MinMax\n",
      " Images: 225 \n",
      " Augment: False \n",
      " Thread workers: 32\n",
      "2022-05-16 15:57:26,665 INFO x_sliced: 350, example: data/interim/patient030_4d_t0_z0_img.nrrd\n",
      "2022-05-16 15:57:26,666 INFO inference mode, no masks given, will use x as placeholder for y in fix processing\n",
      "2022-05-16 15:57:26,666 INFO Create DataGenerator\n",
      "2022-05-16 15:57:26,667 INFO Datagenerator created with: \n",
      " shape: [224, 224]\n",
      " spacing: [1.2, 1.2]\n",
      " batchsize: 1\n",
      " Scaler: MinMax\n",
      " Images: 350 \n",
      " Augment: False \n",
      " Thread workers: 32\n",
      "2022-05-16 15:57:27,176 INFO x_sliced: 300, example: data/interim/patient034_4d_t0_z0_img.nrrd\n",
      "2022-05-16 15:57:27,176 INFO inference mode, no masks given, will use x as placeholder for y in fix processing\n",
      "2022-05-16 15:57:27,176 INFO Create DataGenerator\n",
      "2022-05-16 15:57:27,177 INFO Datagenerator created with: \n",
      " shape: [224, 224]\n",
      " spacing: [1.2, 1.2]\n",
      " batchsize: 1\n",
      " Scaler: MinMax\n",
      " Images: 300 \n",
      " Augment: False \n",
      " Thread workers: 32\n",
      "2022-05-16 15:57:27,775 INFO x_sliced: 350, example: data/interim/patient040_4d_t0_z0_img.nrrd\n",
      "2022-05-16 15:57:27,776 INFO inference mode, no masks given, will use x as placeholder for y in fix processing\n",
      "2022-05-16 15:57:27,776 INFO Create DataGenerator\n",
      "2022-05-16 15:57:27,777 INFO Datagenerator created with: \n",
      " shape: [224, 224]\n",
      " spacing: [1.2, 1.2]\n",
      " batchsize: 1\n",
      " Scaler: MinMax\n",
      " Images: 350 \n",
      " Augment: False \n",
      " Thread workers: 32\n",
      "2022-05-16 15:57:27,957 INFO x_sliced: 156, example: data/interim/patient043_4d_t0_z0_img.nrrd\n",
      "2022-05-16 15:57:27,957 INFO inference mode, no masks given, will use x as placeholder for y in fix processing\n",
      "2022-05-16 15:57:27,958 INFO Create DataGenerator\n",
      "2022-05-16 15:57:27,958 INFO Datagenerator created with: \n",
      " shape: [224, 224]\n",
      " spacing: [1.2, 1.2]\n",
      " batchsize: 1\n",
      " Scaler: MinMax\n",
      " Images: 156 \n",
      " Augment: False \n",
      " Thread workers: 32\n",
      "2022-05-16 15:57:28,362 INFO x_sliced: 280, example: data/interim/patient045_4d_t0_z0_img.nrrd\n",
      "2022-05-16 15:57:28,362 INFO inference mode, no masks given, will use x as placeholder for y in fix processing\n",
      "2022-05-16 15:57:28,362 INFO Create DataGenerator\n",
      "2022-05-16 15:57:28,363 INFO Datagenerator created with: \n",
      " shape: [224, 224]\n",
      " spacing: [1.2, 1.2]\n",
      " batchsize: 1\n",
      " Scaler: MinMax\n",
      " Images: 280 \n",
      " Augment: False \n",
      " Thread workers: 32\n",
      "2022-05-16 15:57:28,700 INFO x_sliced: 300, example: data/interim/patient050_4d_t0_z0_img.nrrd\n",
      "2022-05-16 15:57:28,701 INFO inference mode, no masks given, will use x as placeholder for y in fix processing\n",
      "2022-05-16 15:57:28,701 INFO Create DataGenerator\n",
      "2022-05-16 15:57:28,702 INFO Datagenerator created with: \n",
      " shape: [224, 224]\n",
      " spacing: [1.2, 1.2]\n",
      " batchsize: 1\n",
      " Scaler: MinMax\n",
      " Images: 300 \n",
      " Augment: False \n",
      " Thread workers: 32\n",
      "2022-05-16 15:57:29,058 INFO x_sliced: 240, example: data/interim/patient054_4d_t0_z0_img.nrrd\n",
      "2022-05-16 15:57:29,058 INFO inference mode, no masks given, will use x as placeholder for y in fix processing\n",
      "2022-05-16 15:57:29,058 INFO Create DataGenerator\n",
      "2022-05-16 15:57:29,059 INFO Datagenerator created with: \n",
      " shape: [224, 224]\n",
      " spacing: [1.2, 1.2]\n",
      " batchsize: 1\n",
      " Scaler: MinMax\n",
      " Images: 240 \n",
      " Augment: False \n",
      " Thread workers: 32\n",
      "2022-05-16 15:57:29,464 INFO x_sliced: 270, example: data/interim/patient060_4d_t0_z0_img.nrrd\n",
      "2022-05-16 15:57:29,464 INFO inference mode, no masks given, will use x as placeholder for y in fix processing\n",
      "2022-05-16 15:57:29,465 INFO Create DataGenerator\n",
      "2022-05-16 15:57:29,465 INFO Datagenerator created with: \n",
      " shape: [224, 224]\n",
      " spacing: [1.2, 1.2]\n",
      " batchsize: 1\n",
      " Scaler: MinMax\n",
      " Images: 270 \n",
      " Augment: False \n",
      " Thread workers: 32\n",
      "2022-05-16 15:57:29,742 INFO x_sliced: 280, example: data/interim/patient063_4d_t0_z0_img.nrrd\n",
      "2022-05-16 15:57:29,742 INFO inference mode, no masks given, will use x as placeholder for y in fix processing\n",
      "2022-05-16 15:57:29,742 INFO Create DataGenerator\n",
      "2022-05-16 15:57:29,743 INFO Datagenerator created with: \n",
      " shape: [224, 224]\n",
      " spacing: [1.2, 1.2]\n",
      " batchsize: 1\n",
      " Scaler: MinMax\n",
      " Images: 280 \n",
      " Augment: False \n",
      " Thread workers: 32\n",
      "2022-05-16 15:57:29,956 INFO x_sliced: 240, example: data/interim/patient065_4d_t0_z0_img.nrrd\n",
      "2022-05-16 15:57:29,956 INFO inference mode, no masks given, will use x as placeholder for y in fix processing\n",
      "2022-05-16 15:57:29,956 INFO Create DataGenerator\n",
      "2022-05-16 15:57:29,957 INFO Datagenerator created with: \n",
      " shape: [224, 224]\n",
      " spacing: [1.2, 1.2]\n",
      " batchsize: 1\n",
      " Scaler: MinMax\n",
      " Images: 240 \n",
      " Augment: False \n",
      " Thread workers: 32\n",
      "2022-05-16 15:57:30,207 INFO x_sliced: 168, example: data/interim/patient070_4d_t0_z0_img.nrrd\n",
      "2022-05-16 15:57:30,207 INFO inference mode, no masks given, will use x as placeholder for y in fix processing\n",
      "2022-05-16 15:57:30,207 INFO Create DataGenerator\n",
      "2022-05-16 15:57:30,208 INFO Datagenerator created with: \n",
      " shape: [224, 224]\n",
      " spacing: [1.2, 1.2]\n",
      " batchsize: 1\n",
      " Scaler: MinMax\n",
      " Images: 168 \n",
      " Augment: False \n",
      " Thread workers: 32\n",
      "2022-05-16 15:57:30,653 INFO x_sliced: 240, example: data/interim/patient074_4d_t0_z0_img.nrrd\n",
      "2022-05-16 15:57:30,653 INFO inference mode, no masks given, will use x as placeholder for y in fix processing\n",
      "2022-05-16 15:57:30,654 INFO Create DataGenerator\n",
      "2022-05-16 15:57:30,654 INFO Datagenerator created with: \n",
      " shape: [224, 224]\n",
      " spacing: [1.2, 1.2]\n",
      " batchsize: 1\n",
      " Scaler: MinMax\n",
      " Images: 240 \n",
      " Augment: False \n",
      " Thread workers: 32\n",
      "2022-05-16 15:57:30,825 INFO x_sliced: 126, example: data/interim/patient080_4d_t0_z0_img.nrrd\n",
      "2022-05-16 15:57:30,826 INFO inference mode, no masks given, will use x as placeholder for y in fix processing\n",
      "2022-05-16 15:57:30,826 INFO Create DataGenerator\n",
      "2022-05-16 15:57:30,826 INFO Datagenerator created with: \n",
      " shape: [224, 224]\n",
      " spacing: [1.2, 1.2]\n",
      " batchsize: 1\n",
      " Scaler: MinMax\n",
      " Images: 126 \n",
      " Augment: False \n",
      " Thread workers: 32\n",
      "2022-05-16 15:57:30,967 INFO x_sliced: 102, example: data/interim/patient083_4d_t0_z0_img.nrrd\n",
      "2022-05-16 15:57:30,967 INFO inference mode, no masks given, will use x as placeholder for y in fix processing\n",
      "2022-05-16 15:57:30,967 INFO Create DataGenerator\n",
      "2022-05-16 15:57:30,968 INFO Datagenerator created with: \n",
      " shape: [224, 224]\n",
      " spacing: [1.2, 1.2]\n",
      " batchsize: 1\n",
      " Scaler: MinMax\n",
      " Images: 102 \n",
      " Augment: False \n",
      " Thread workers: 32\n",
      "2022-05-16 15:57:31,658 INFO x_sliced: 450, example: data/interim/patient085_4d_t0_z0_img.nrrd\n",
      "2022-05-16 15:57:31,659 INFO inference mode, no masks given, will use x as placeholder for y in fix processing\n",
      "2022-05-16 15:57:31,659 INFO Create DataGenerator\n",
      "2022-05-16 15:57:31,660 INFO Datagenerator created with: \n",
      " shape: [224, 224]\n",
      " spacing: [1.2, 1.2]\n",
      " batchsize: 1\n",
      " Scaler: MinMax\n",
      " Images: 450 \n",
      " Augment: False \n",
      " Thread workers: 32\n",
      "2022-05-16 15:57:31,774 INFO x_sliced: 84, example: data/interim/patient090_4d_t0_z0_img.nrrd\n",
      "2022-05-16 15:57:31,774 INFO inference mode, no masks given, will use x as placeholder for y in fix processing\n",
      "2022-05-16 15:57:31,775 INFO Create DataGenerator\n",
      "2022-05-16 15:57:31,775 INFO Datagenerator created with: \n",
      " shape: [224, 224]\n",
      " spacing: [1.2, 1.2]\n",
      " batchsize: 1\n",
      " Scaler: MinMax\n",
      " Images: 84 \n",
      " Augment: False \n",
      " Thread workers: 32\n",
      "2022-05-16 15:57:31,912 INFO x_sliced: 140, example: data/interim/patient094_4d_t0_z0_img.nrrd\n",
      "2022-05-16 15:57:31,912 INFO inference mode, no masks given, will use x as placeholder for y in fix processing\n",
      "2022-05-16 15:57:31,912 INFO Create DataGenerator\n",
      "2022-05-16 15:57:31,913 INFO Datagenerator created with: \n",
      " shape: [224, 224]\n",
      " spacing: [1.2, 1.2]\n",
      " batchsize: 1\n",
      " Scaler: MinMax\n",
      " Images: 140 \n",
      " Augment: False \n",
      " Thread workers: 32\n",
      "2022-05-16 15:57:32,450 INFO x_sliced: 272, example: data/interim/patient100_4d_t0_z0_img.nrrd\n",
      "2022-05-16 15:57:32,450 INFO inference mode, no masks given, will use x as placeholder for y in fix processing\n",
      "2022-05-16 15:57:32,450 INFO Create DataGenerator\n",
      "2022-05-16 15:57:32,451 INFO Datagenerator created with: \n",
      " shape: [224, 224]\n",
      " spacing: [1.2, 1.2]\n",
      " batchsize: 1\n",
      " Scaler: MinMax\n",
      " Images: 272 \n",
      " Augment: False \n",
      " Thread workers: 32\n",
      "2022-05-16 15:57:32,614 INFO size: (256, 256, 10, 30)\n",
      "2022-05-16 15:57:32,615 INFO spacing: (1.5625, 1.5625, 10.0, 1.0)\n",
      "2022-05-16 15:57:32,615 INFO origin: (0.0, 0.0, 0.0, 0.0)\n",
      "2022-05-16 15:57:32,615 INFO direction: (1.0, 0.0, 0.0, 0.0, 0.0, 1.0, 0.0, 0.0, 0.0, 0.0, 1.0, 0.0, 0.0, 0.0, 0.0, 1.0)\n",
      "2022-05-16 15:57:32,616 INFO pixel type: 16-bit signed integer\n",
      "2022-05-16 15:57:32,616 INFO number of pixel components: 1\n",
      "2022-05-16 15:57:36,799 INFO size: (256, 216, 10, 30)\n",
      "2022-05-16 15:57:36,799 INFO spacing: (1.40625, 1.40625, 10.0, 1.0)\n",
      "2022-05-16 15:57:36,799 INFO origin: (0.0, 0.0, 0.0, 0.0)\n",
      "2022-05-16 15:57:36,799 INFO direction: (1.0, 0.0, 0.0, 0.0, 0.0, 1.0, 0.0, 0.0, 0.0, 0.0, 1.0, 0.0, 0.0, 0.0, 0.0, 1.0)\n",
      "2022-05-16 15:57:36,800 INFO pixel type: 16-bit signed integer\n",
      "2022-05-16 15:57:36,800 INFO number of pixel components: 1\n"
     ]
    },
    {
     "name": "stdout",
     "output_type": "stream",
     "text": [
      "(224, 224, 10, 30)\n",
      "(1.2, 1.2, 10.0, 1)\n",
      "(224, 224, 10, 30)\n",
      "(1.2, 1.2, 10.0, 1)\n"
     ]
    },
    {
     "name": "stderr",
     "output_type": "stream",
     "text": [
      "2022-05-16 15:57:39,233 INFO size: (208, 256, 10, 28)\n",
      "2022-05-16 15:57:39,233 INFO spacing: (1.5625, 1.5625, 10.0, 1.0)\n",
      "2022-05-16 15:57:39,233 INFO origin: (0.0, 0.0, 0.0, 0.0)\n",
      "2022-05-16 15:57:39,234 INFO direction: (1.0, 0.0, 0.0, 0.0, 0.0, 1.0, 0.0, 0.0, 0.0, 0.0, 1.0, 0.0, 0.0, 0.0, 0.0, 1.0)\n",
      "2022-05-16 15:57:39,234 INFO pixel type: 32-bit float\n",
      "2022-05-16 15:57:39,234 INFO number of pixel components: 1\n"
     ]
    },
    {
     "name": "stdout",
     "output_type": "stream",
     "text": [
      "(224, 224, 10, 28)\n",
      "(1.2, 1.2, 10.0, 1)\n"
     ]
    },
    {
     "name": "stderr",
     "output_type": "stream",
     "text": [
      "2022-05-16 15:57:41,659 INFO size: (256, 216, 10, 30)\n",
      "2022-05-16 15:57:41,659 INFO spacing: (1.3671900033950806, 1.3671900033950806, 10.0, 1.0)\n",
      "2022-05-16 15:57:41,660 INFO origin: (0.0, 0.0, 0.0, 0.0)\n",
      "2022-05-16 15:57:41,660 INFO direction: (1.0, 0.0, 0.0, 0.0, 0.0, 1.0, 0.0, 0.0, 0.0, 0.0, 1.0, 0.0, 0.0, 0.0, 0.0, 1.0)\n",
      "2022-05-16 15:57:41,660 INFO pixel type: 32-bit float\n",
      "2022-05-16 15:57:41,661 INFO number of pixel components: 1\n",
      "2022-05-16 15:57:43,966 INFO size: (208, 256, 8, 20)\n",
      "2022-05-16 15:57:43,966 INFO spacing: (1.7578099966049194, 1.7578099966049194, 10.0, 1.0)\n",
      "2022-05-16 15:57:43,967 INFO origin: (0.0, 0.0, 0.0, 0.0)\n",
      "2022-05-16 15:57:43,967 INFO direction: (1.0, 0.0, 0.0, 0.0, 0.0, 1.0, 0.0, 0.0, 0.0, 0.0, 1.0, 0.0, 0.0, 0.0, 0.0, 1.0)\n",
      "2022-05-16 15:57:43,967 INFO pixel type: 32-bit float\n",
      "2022-05-16 15:57:43,967 INFO number of pixel components: 1\n"
     ]
    },
    {
     "name": "stdout",
     "output_type": "stream",
     "text": [
      "(224, 224, 10, 30)\n",
      "(1.2, 1.2, 10.0, 1)\n"
     ]
    },
    {
     "name": "stderr",
     "output_type": "stream",
     "text": [
      "2022-05-16 15:57:45,299 INFO size: (216, 256, 9, 25)\n",
      "2022-05-16 15:57:45,300 INFO spacing: (1.4453125, 1.4453125, 10.0, 1.0)\n",
      "2022-05-16 15:57:45,300 INFO origin: (0.0, 0.0, 0.0, 0.0)\n",
      "2022-05-16 15:57:45,300 INFO direction: (1.0, 0.0, 0.0, 0.0, 0.0, 1.0, 0.0, 0.0, 0.0, 0.0, 1.0, 0.0, 0.0, 0.0, 0.0, 1.0)\n",
      "2022-05-16 15:57:45,301 INFO pixel type: 16-bit signed integer\n",
      "2022-05-16 15:57:45,301 INFO number of pixel components: 1\n"
     ]
    },
    {
     "name": "stdout",
     "output_type": "stream",
     "text": [
      "(224, 224, 8, 20)\n",
      "(1.2, 1.2, 10.0, 1)\n"
     ]
    },
    {
     "name": "stderr",
     "output_type": "stream",
     "text": [
      "2022-05-16 15:57:47,053 INFO size: (256, 256, 9, 25)\n",
      "2022-05-16 15:57:47,053 INFO spacing: (1.3671875, 1.3671875, 10.0, 1.0)\n",
      "2022-05-16 15:57:47,053 INFO origin: (0.0, 0.0, 0.0, 0.0)\n",
      "2022-05-16 15:57:47,054 INFO direction: (1.0, 0.0, 0.0, 0.0, 0.0, 1.0, 0.0, 0.0, 0.0, 0.0, 1.0, 0.0, 0.0, 0.0, 0.0, 1.0)\n",
      "2022-05-16 15:57:47,054 INFO pixel type: 16-bit signed integer\n",
      "2022-05-16 15:57:47,054 INFO number of pixel components: 1\n"
     ]
    },
    {
     "name": "stdout",
     "output_type": "stream",
     "text": [
      "(224, 224, 9, 25)\n",
      "(1.2, 1.2, 10.0, 1)\n"
     ]
    },
    {
     "name": "stderr",
     "output_type": "stream",
     "text": [
      "2022-05-16 15:57:48,854 INFO size: (216, 256, 10, 35)\n",
      "2022-05-16 15:57:48,855 INFO spacing: (1.4453125, 1.4453125, 10.0, 1.0)\n",
      "2022-05-16 15:57:48,855 INFO origin: (0.0, 0.0, 0.0, 0.0)\n",
      "2022-05-16 15:57:48,855 INFO direction: (1.0, 0.0, 0.0, 0.0, 0.0, 1.0, 0.0, 0.0, 0.0, 0.0, 1.0, 0.0, 0.0, 0.0, 0.0, 1.0)\n",
      "2022-05-16 15:57:48,856 INFO pixel type: 16-bit signed integer\n",
      "2022-05-16 15:57:48,856 INFO number of pixel components: 1\n"
     ]
    },
    {
     "name": "stdout",
     "output_type": "stream",
     "text": [
      "(224, 224, 9, 25)\n",
      "(1.2, 1.2, 10.0, 1)\n",
      "(224, 224, 10, 35)\n",
      "(1.2, 1.2, 10.0, 1)\n"
     ]
    },
    {
     "name": "stderr",
     "output_type": "stream",
     "text": [
      "2022-05-16 15:57:51,638 INFO size: (224, 256, 10, 30)\n",
      "2022-05-16 15:57:51,639 INFO spacing: (1.5625, 1.5625, 10.0, 1.0)\n",
      "2022-05-16 15:57:51,639 INFO origin: (0.0, 0.0, 0.0, 0.0)\n",
      "2022-05-16 15:57:51,639 INFO direction: (1.0, 0.0, 0.0, 0.0, 0.0, 1.0, 0.0, 0.0, 0.0, 0.0, 1.0, 0.0, 0.0, 0.0, 0.0, 1.0)\n",
      "2022-05-16 15:57:51,640 INFO pixel type: 32-bit float\n",
      "2022-05-16 15:57:51,640 INFO number of pixel components: 1\n"
     ]
    },
    {
     "name": "stdout",
     "output_type": "stream",
     "text": [
      "(224, 224, 10, 30)\n",
      "(1.2, 1.2, 10.0, 1)\n"
     ]
    },
    {
     "name": "stderr",
     "output_type": "stream",
     "text": [
      "2022-05-16 15:57:54,181 INFO size: (208, 256, 10, 35)\n",
      "2022-05-16 15:57:54,181 INFO spacing: (1.4843800067901611, 1.4843800067901611, 10.0, 1.0)\n",
      "2022-05-16 15:57:54,182 INFO origin: (0.0, 0.0, 0.0, 0.0)\n",
      "2022-05-16 15:57:54,182 INFO direction: (1.0, 0.0, 0.0, 0.0, 0.0, 1.0, 0.0, 0.0, 0.0, 0.0, 1.0, 0.0, 0.0, 0.0, 0.0, 1.0)\n",
      "2022-05-16 15:57:54,182 INFO pixel type: 32-bit float\n",
      "2022-05-16 15:57:54,182 INFO number of pixel components: 1\n",
      "2022-05-16 15:57:57,193 INFO size: (174, 224, 12, 13)\n",
      "2022-05-16 15:57:57,194 INFO spacing: (1.9196399450302124, 1.9196399450302124, 6.5, 1.0)\n",
      "2022-05-16 15:57:57,194 INFO origin: (0.0, 0.0, 0.0, 0.0)\n",
      "2022-05-16 15:57:57,194 INFO direction: (1.0, 0.0, 0.0, 0.0, 0.0, 1.0, 0.0, 0.0, 0.0, 0.0, 1.0, 0.0, 0.0, 0.0, 0.0, 1.0)\n",
      "2022-05-16 15:57:57,195 INFO pixel type: 32-bit float\n",
      "2022-05-16 15:57:57,195 INFO number of pixel components: 1\n"
     ]
    },
    {
     "name": "stdout",
     "output_type": "stream",
     "text": [
      "(224, 224, 10, 35)\n",
      "(1.2, 1.2, 10.0, 1)\n",
      "(224, 224, 12, 13)\n",
      "(1.2, 1.2, 6.5, 1)\n"
     ]
    },
    {
     "name": "stderr",
     "output_type": "stream",
     "text": [
      "2022-05-16 15:57:59,157 INFO size: (208, 256, 8, 35)\n",
      "2022-05-16 15:57:59,158 INFO spacing: (1.5625, 1.5625, 10.0, 1.0)\n",
      "2022-05-16 15:57:59,158 INFO origin: (0.0, 0.0, 0.0, 0.0)\n",
      "2022-05-16 15:57:59,158 INFO direction: (1.0, 0.0, 0.0, 0.0, 0.0, 1.0, 0.0, 0.0, 0.0, 0.0, 1.0, 0.0, 0.0, 0.0, 0.0, 1.0)\n",
      "2022-05-16 15:57:59,159 INFO pixel type: 32-bit float\n",
      "2022-05-16 15:57:59,159 INFO number of pixel components: 1\n",
      "2022-05-16 15:58:01,688 INFO size: (248, 256, 10, 30)\n",
      "2022-05-16 15:58:01,688 INFO spacing: (1.3671875, 1.3671875, 10.0, 1.0)\n",
      "2022-05-16 15:58:01,689 INFO origin: (0.0, 0.0, 0.0, 0.0)\n",
      "2022-05-16 15:58:01,689 INFO direction: (1.0, 0.0, 0.0, 0.0, 0.0, 1.0, 0.0, 0.0, 0.0, 0.0, 1.0, 0.0, 0.0, 0.0, 0.0, 1.0)\n",
      "2022-05-16 15:58:01,689 INFO pixel type: 16-bit signed integer\n",
      "2022-05-16 15:58:01,689 INFO number of pixel components: 1\n"
     ]
    },
    {
     "name": "stdout",
     "output_type": "stream",
     "text": [
      "(224, 224, 8, 35)\n",
      "(1.2, 1.2, 10.0, 1)\n",
      "(224, 224, 10, 30)\n",
      "(1.2, 1.2, 10.0, 1)\n"
     ]
    },
    {
     "name": "stderr",
     "output_type": "stream",
     "text": [
      "2022-05-16 15:58:04,422 INFO size: (216, 256, 8, 30)\n",
      "2022-05-16 15:58:04,422 INFO spacing: (1.4843800067901611, 1.4843800067901611, 10.0, 1.0)\n",
      "2022-05-16 15:58:04,423 INFO origin: (0.0, 0.0, 0.0, 0.0)\n",
      "2022-05-16 15:58:04,423 INFO direction: (1.0, 0.0, 0.0, 0.0, 0.0, 1.0, 0.0, 0.0, 0.0, 0.0, 1.0, 0.0, 0.0, 0.0, 0.0, 1.0)\n",
      "2022-05-16 15:58:04,423 INFO pixel type: 32-bit float\n",
      "2022-05-16 15:58:04,424 INFO number of pixel components: 1\n"
     ]
    },
    {
     "name": "stdout",
     "output_type": "stream",
     "text": [
      "(224, 224, 8, 30)\n",
      "(1.2, 1.2, 10.0, 1)\n"
     ]
    },
    {
     "name": "stderr",
     "output_type": "stream",
     "text": [
      "2022-05-16 15:58:06,425 INFO size: (216, 256, 9, 30)\n",
      "2022-05-16 15:58:06,426 INFO spacing: (1.5625, 1.5625, 10.0, 1.0)\n",
      "2022-05-16 15:58:06,426 INFO origin: (0.0, 0.0, 0.0, 0.0)\n",
      "2022-05-16 15:58:06,426 INFO direction: (1.0, 0.0, 0.0, 0.0, 0.0, 1.0, 0.0, 0.0, 0.0, 0.0, 1.0, 0.0, 0.0, 0.0, 0.0, 1.0)\n",
      "2022-05-16 15:58:06,426 INFO pixel type: 32-bit float\n",
      "2022-05-16 15:58:06,427 INFO number of pixel components: 1\n"
     ]
    },
    {
     "name": "stdout",
     "output_type": "stream",
     "text": [
      "(224, 224, 9, 30)\n",
      "(1.2, 1.2, 10.0, 1)\n"
     ]
    },
    {
     "name": "stderr",
     "output_type": "stream",
     "text": [
      "2022-05-16 15:58:08,955 INFO size: (256, 176, 8, 35)\n",
      "2022-05-16 15:58:08,956 INFO spacing: (1.3671875, 1.3671875, 10.0, 1.0)\n",
      "2022-05-16 15:58:08,956 INFO origin: (0.0, 0.0, 0.0, 0.0)\n",
      "2022-05-16 15:58:08,957 INFO direction: (1.0, 0.0, 0.0, 0.0, 0.0, 1.0, 0.0, 0.0, 0.0, 0.0, 1.0, 0.0, 0.0, 0.0, 0.0, 1.0)\n",
      "2022-05-16 15:58:08,957 INFO pixel type: 16-bit signed integer\n",
      "2022-05-16 15:58:08,958 INFO number of pixel components: 1\n",
      "2022-05-16 15:58:11,086 INFO size: (210, 224, 8, 30)\n",
      "2022-05-16 15:58:11,087 INFO spacing: (1.875, 1.875, 10.0, 1.0)\n",
      "2022-05-16 15:58:11,087 INFO origin: (0.0, 0.0, 0.0, 0.0)\n",
      "2022-05-16 15:58:11,087 INFO direction: (1.0, 0.0, 0.0, 0.0, 0.0, 1.0, 0.0, 0.0, 0.0, 0.0, 1.0, 0.0, 0.0, 0.0, 0.0, 1.0)\n",
      "2022-05-16 15:58:11,088 INFO pixel type: 16-bit signed integer\n",
      "2022-05-16 15:58:11,088 INFO number of pixel components: 1\n"
     ]
    },
    {
     "name": "stdout",
     "output_type": "stream",
     "text": [
      "(224, 224, 8, 35)\n",
      "(1.2, 1.2, 10.0, 1)\n"
     ]
    },
    {
     "name": "stderr",
     "output_type": "stream",
     "text": [
      "2022-05-16 15:58:13,264 INFO size: (208, 256, 6, 28)\n",
      "2022-05-16 15:58:13,264 INFO spacing: (1.5625, 1.5625, 10.0, 1.0)\n",
      "2022-05-16 15:58:13,264 INFO origin: (0.0, 0.0, 0.0, 0.0)\n",
      "2022-05-16 15:58:13,265 INFO direction: (1.0, 0.0, 0.0, 0.0, 0.0, 1.0, 0.0, 0.0, 0.0, 0.0, 1.0, 0.0, 0.0, 0.0, 0.0, 1.0)\n",
      "2022-05-16 15:58:13,265 INFO pixel type: 32-bit float\n",
      "2022-05-16 15:58:13,265 INFO number of pixel components: 1\n"
     ]
    },
    {
     "name": "stdout",
     "output_type": "stream",
     "text": [
      "(224, 224, 8, 30)\n",
      "(1.2, 1.2, 10.0, 1)\n",
      "(224, 224, 6, 28)\n",
      "(1.2, 1.2, 10.0, 1)\n"
     ]
    },
    {
     "name": "stderr",
     "output_type": "stream",
     "text": [
      "2022-05-16 15:58:14,774 INFO size: (256, 256, 8, 30)\n",
      "2022-05-16 15:58:14,774 INFO spacing: (1.5625, 1.5625, 10.0, 1.0)\n",
      "2022-05-16 15:58:14,775 INFO origin: (0.0, 0.0, 0.0, 0.0)\n",
      "2022-05-16 15:58:14,775 INFO direction: (1.0, 0.0, 0.0, 0.0, 0.0, 1.0, 0.0, 0.0, 0.0, 0.0, 1.0, 0.0, 0.0, 0.0, 0.0, 1.0)\n",
      "2022-05-16 15:58:14,775 INFO pixel type: 32-bit float\n",
      "2022-05-16 15:58:14,775 INFO number of pixel components: 1\n",
      "2022-05-16 15:58:16,804 INFO size: (216, 256, 6, 21)\n",
      "2022-05-16 15:58:16,805 INFO spacing: (1.7578099966049194, 1.7578099966049194, 10.0, 1.0)\n",
      "2022-05-16 15:58:16,805 INFO origin: (0.0, 0.0, 0.0, 0.0)\n",
      "2022-05-16 15:58:16,805 INFO direction: (1.0, 0.0, 0.0, 0.0, 0.0, 1.0, 0.0, 0.0, 0.0, 0.0, 1.0, 0.0, 0.0, 0.0, 0.0, 1.0)\n",
      "2022-05-16 15:58:16,806 INFO pixel type: 32-bit float\n",
      "2022-05-16 15:58:16,806 INFO number of pixel components: 1\n"
     ]
    },
    {
     "name": "stdout",
     "output_type": "stream",
     "text": [
      "(224, 224, 8, 30)\n",
      "(1.2, 1.2, 10.0, 1)\n"
     ]
    },
    {
     "name": "stderr",
     "output_type": "stream",
     "text": [
      "2022-05-16 15:58:17,879 INFO size: (208, 256, 6, 17)\n",
      "2022-05-16 15:58:17,879 INFO spacing: (1.5625, 1.5625, 10.0, 1.0)\n",
      "2022-05-16 15:58:17,880 INFO origin: (0.0, 0.0, 0.0, 0.0)\n",
      "2022-05-16 15:58:17,880 INFO direction: (1.0, 0.0, 0.0, 0.0, 0.0, 1.0, 0.0, 0.0, 0.0, 0.0, 1.0, 0.0, 0.0, 0.0, 0.0, 1.0)\n",
      "2022-05-16 15:58:17,880 INFO pixel type: 32-bit float\n",
      "2022-05-16 15:58:17,880 INFO number of pixel components: 1\n"
     ]
    },
    {
     "name": "stdout",
     "output_type": "stream",
     "text": [
      "(224, 224, 6, 21)\n",
      "(1.2, 1.2, 10.0, 1)\n",
      "(224, 224, 6, 17)\n",
      "(1.2, 1.2, 10.0, 1)\n"
     ]
    },
    {
     "name": "stderr",
     "output_type": "stream",
     "text": [
      "2022-05-16 15:58:19,059 INFO size: (184, 288, 15, 30)\n",
      "2022-05-16 15:58:19,060 INFO spacing: (1.2152800559997559, 1.2152800559997559, 5.0, 1.0)\n",
      "2022-05-16 15:58:19,060 INFO origin: (0.0, 0.0, 0.0, 0.0)\n",
      "2022-05-16 15:58:19,061 INFO direction: (1.0, 0.0, 0.0, 0.0, 0.0, 1.0, 0.0, 0.0, 0.0, 0.0, 1.0, 0.0, 0.0, 0.0, 0.0, 1.0)\n",
      "2022-05-16 15:58:19,061 INFO pixel type: 32-bit float\n",
      "2022-05-16 15:58:19,061 INFO number of pixel components: 1\n",
      "2022-05-16 15:58:22,362 INFO size: (154, 224, 7, 12)\n",
      "2022-05-16 15:58:22,363 INFO spacing: (1.7857099771499634, 1.7857099771499634, 10.0, 1.0)\n",
      "2022-05-16 15:58:22,363 INFO origin: (0.0, 0.0, 0.0, 0.0)\n",
      "2022-05-16 15:58:22,363 INFO direction: (1.0, 0.0, 0.0, 0.0, 0.0, 1.0, 0.0, 0.0, 0.0, 0.0, 1.0, 0.0, 0.0, 0.0, 0.0, 1.0)\n",
      "2022-05-16 15:58:22,363 INFO pixel type: 32-bit float\n",
      "2022-05-16 15:58:22,364 INFO number of pixel components: 1\n"
     ]
    },
    {
     "name": "stdout",
     "output_type": "stream",
     "text": [
      "(224, 224, 15, 30)\n",
      "(1.2, 1.2, 5.0, 1)\n"
     ]
    },
    {
     "name": "stderr",
     "output_type": "stream",
     "text": [
      "2022-05-16 15:58:23,115 INFO size: (208, 174, 10, 14)\n",
      "2022-05-16 15:58:23,115 INFO spacing: (1.6826900243759155, 1.6826900243759155, 5.0, 1.0)\n",
      "2022-05-16 15:58:23,115 INFO origin: (0.0, 0.0, 0.0, 0.0)\n",
      "2022-05-16 15:58:23,116 INFO direction: (1.0, 0.0, 0.0, 0.0, 0.0, 1.0, 0.0, 0.0, 0.0, 0.0, 1.0, 0.0, 0.0, 0.0, 0.0, 1.0)\n",
      "2022-05-16 15:58:23,116 INFO pixel type: 32-bit float\n",
      "2022-05-16 15:58:23,116 INFO number of pixel components: 1\n"
     ]
    },
    {
     "name": "stdout",
     "output_type": "stream",
     "text": [
      "(224, 224, 7, 12)\n",
      "(1.2, 1.2, 10.0, 1)\n",
      "(224, 224, 10, 14)\n",
      "(1.2, 1.2, 5.0, 1)\n"
     ]
    },
    {
     "name": "stderr",
     "output_type": "stream",
     "text": [
      "2022-05-16 15:58:24,476 INFO size: (216, 304, 8, 34)\n",
      "2022-05-16 15:58:24,477 INFO spacing: (1.315790057182312, 1.315790057182312, 10.0, 1.0)\n",
      "2022-05-16 15:58:24,477 INFO origin: (0.0, 0.0, 0.0, 0.0)\n",
      "2022-05-16 15:58:24,477 INFO direction: (1.0, 0.0, 0.0, 0.0, 0.0, 1.0, 0.0, 0.0, 0.0, 0.0, 1.0, 0.0, 0.0, 0.0, 0.0, 1.0)\n",
      "2022-05-16 15:58:24,478 INFO pixel type: 32-bit float\n",
      "2022-05-16 15:58:24,478 INFO number of pixel components: 1\n",
      "2022-05-16 15:58:26,463 INFO expect 25 patients for validation in fold 3\n",
      "2022-05-16 15:58:26,464 INFO 4d files filtered: 25\n",
      "2022-05-16 15:58:26,464 INFO Create model\n"
     ]
    },
    {
     "name": "stdout",
     "output_type": "stream",
     "text": [
      "(224, 224, 8, 34)\n",
      "(1.2, 1.2, 10.0, 1)\n",
      "build u-net for input shape:  (None, 224, 224, 1)\n"
     ]
    },
    {
     "name": "stderr",
     "output_type": "stream",
     "text": [
      "/home/sven/anaconda3/envs/dcmr/lib/python3.8/site-packages/keras/optimizer_v2/adam.py:105: UserWarning: The `lr` argument is deprecated, use `learning_rate` instead.\n",
      "  super(Adam, self).__init__(name, **kwargs)\n",
      "2022-05-16 15:58:27,090 INFO loaded model weights as h5 file\n",
      "2022-05-16 15:58:27,167 INFO found 25 4D files, will return one generator per file with t x z slices\n",
      "2022-05-16 15:58:27,311 INFO x_sliced: 160, example: data/interim/patient007_4d_t0_z0_img.nrrd\n",
      "2022-05-16 15:58:27,311 INFO inference mode, no masks given, will use x as placeholder for y in fix processing\n",
      "2022-05-16 15:58:27,311 INFO Create DataGenerator\n",
      "2022-05-16 15:58:27,312 INFO Datagenerator created with: \n",
      " shape: [224, 224]\n",
      " spacing: [1.2, 1.2]\n",
      " batchsize: 1\n",
      " Scaler: MinMax\n",
      " Images: 160 \n",
      " Augment: False \n",
      " Thread workers: 32\n",
      "2022-05-16 15:58:27,589 INFO x_sliced: 280, example: data/interim/patient008_4d_t0_z0_img.nrrd\n",
      "2022-05-16 15:58:27,590 INFO inference mode, no masks given, will use x as placeholder for y in fix processing\n",
      "2022-05-16 15:58:27,590 INFO Create DataGenerator\n",
      "2022-05-16 15:58:27,590 INFO Datagenerator created with: \n",
      " shape: [224, 224]\n",
      " spacing: [1.2, 1.2]\n",
      " batchsize: 1\n",
      " Scaler: MinMax\n",
      " Images: 280 \n",
      " Augment: False \n",
      " Thread workers: 32\n",
      "2022-05-16 15:58:27,772 INFO x_sliced: 135, example: data/interim/patient011_4d_t0_z0_img.nrrd\n",
      "2022-05-16 15:58:27,772 INFO inference mode, no masks given, will use x as placeholder for y in fix processing\n",
      "2022-05-16 15:58:27,772 INFO Create DataGenerator\n",
      "2022-05-16 15:58:27,773 INFO Datagenerator created with: \n",
      " shape: [224, 224]\n",
      " spacing: [1.2, 1.2]\n",
      " batchsize: 1\n",
      " Scaler: MinMax\n",
      " Images: 135 \n",
      " Augment: False \n",
      " Thread workers: 32\n",
      "2022-05-16 15:58:28,203 INFO x_sliced: 300, example: data/interim/patient013_4d_t0_z0_img.nrrd\n",
      "2022-05-16 15:58:28,204 INFO inference mode, no masks given, will use x as placeholder for y in fix processing\n",
      "2022-05-16 15:58:28,204 INFO Create DataGenerator\n",
      "2022-05-16 15:58:28,205 INFO Datagenerator created with: \n",
      " shape: [224, 224]\n",
      " spacing: [1.2, 1.2]\n",
      " batchsize: 1\n",
      " Scaler: MinMax\n",
      " Images: 300 \n",
      " Augment: False \n",
      " Thread workers: 32\n",
      "2022-05-16 15:58:28,471 INFO x_sliced: 189, example: data/interim/patient015_4d_t0_z0_img.nrrd\n",
      "2022-05-16 15:58:28,471 INFO inference mode, no masks given, will use x as placeholder for y in fix processing\n",
      "2022-05-16 15:58:28,471 INFO Create DataGenerator\n",
      "2022-05-16 15:58:28,472 INFO Datagenerator created with: \n",
      " shape: [224, 224]\n",
      " spacing: [1.2, 1.2]\n",
      " batchsize: 1\n",
      " Scaler: MinMax\n",
      " Images: 189 \n",
      " Augment: False \n",
      " Thread workers: 32\n",
      "2022-05-16 15:58:28,765 INFO x_sliced: 300, example: data/interim/patient027_4d_t0_z0_img.nrrd\n",
      "2022-05-16 15:58:28,765 INFO inference mode, no masks given, will use x as placeholder for y in fix processing\n",
      "2022-05-16 15:58:28,766 INFO Create DataGenerator\n",
      "2022-05-16 15:58:28,766 INFO Datagenerator created with: \n",
      " shape: [224, 224]\n",
      " spacing: [1.2, 1.2]\n",
      " batchsize: 1\n",
      " Scaler: MinMax\n",
      " Images: 300 \n",
      " Augment: False \n",
      " Thread workers: 32\n",
      "2022-05-16 15:58:29,026 INFO x_sliced: 280, example: data/interim/patient028_4d_t0_z0_img.nrrd\n",
      "2022-05-16 15:58:29,026 INFO inference mode, no masks given, will use x as placeholder for y in fix processing\n",
      "2022-05-16 15:58:29,027 INFO Create DataGenerator\n",
      "2022-05-16 15:58:29,027 INFO Datagenerator created with: \n",
      " shape: [224, 224]\n",
      " spacing: [1.2, 1.2]\n",
      " batchsize: 1\n",
      " Scaler: MinMax\n",
      " Images: 280 \n",
      " Augment: False \n",
      " Thread workers: 32\n",
      "2022-05-16 15:58:29,309 INFO x_sliced: 300, example: data/interim/patient031_4d_t0_z0_img.nrrd\n",
      "2022-05-16 15:58:29,310 INFO inference mode, no masks given, will use x as placeholder for y in fix processing\n",
      "2022-05-16 15:58:29,310 INFO Create DataGenerator\n",
      "2022-05-16 15:58:29,310 INFO Datagenerator created with: \n",
      " shape: [224, 224]\n",
      " spacing: [1.2, 1.2]\n",
      " batchsize: 1\n",
      " Scaler: MinMax\n",
      " Images: 300 \n",
      " Augment: False \n",
      " Thread workers: 32\n",
      "2022-05-16 15:58:29,608 INFO x_sliced: 300, example: data/interim/patient033_4d_t0_z0_img.nrrd\n",
      "2022-05-16 15:58:29,609 INFO inference mode, no masks given, will use x as placeholder for y in fix processing\n",
      "2022-05-16 15:58:29,609 INFO Create DataGenerator\n",
      "2022-05-16 15:58:29,610 INFO Datagenerator created with: \n",
      " shape: [224, 224]\n",
      " spacing: [1.2, 1.2]\n",
      " batchsize: 1\n",
      " Scaler: MinMax\n",
      " Images: 300 \n",
      " Augment: False \n",
      " Thread workers: 32\n",
      "2022-05-16 15:58:30,235 INFO x_sliced: 364, example: data/interim/patient035_4d_t0_z0_img.nrrd\n",
      "2022-05-16 15:58:30,235 INFO inference mode, no masks given, will use x as placeholder for y in fix processing\n",
      "2022-05-16 15:58:30,235 INFO Create DataGenerator\n",
      "2022-05-16 15:58:30,236 INFO Datagenerator created with: \n",
      " shape: [224, 224]\n",
      " spacing: [1.2, 1.2]\n",
      " batchsize: 1\n",
      " Scaler: MinMax\n",
      " Images: 364 \n",
      " Augment: False \n",
      " Thread workers: 32\n",
      "2022-05-16 15:58:30,523 INFO x_sliced: 198, example: data/interim/patient047_4d_t0_z0_img.nrrd\n",
      "2022-05-16 15:58:30,523 INFO inference mode, no masks given, will use x as placeholder for y in fix processing\n",
      "2022-05-16 15:58:30,523 INFO Create DataGenerator\n",
      "2022-05-16 15:58:30,524 INFO Datagenerator created with: \n",
      " shape: [224, 224]\n",
      " spacing: [1.2, 1.2]\n",
      " batchsize: 1\n",
      " Scaler: MinMax\n",
      " Images: 198 \n",
      " Augment: False \n",
      " Thread workers: 32\n",
      "2022-05-16 15:58:30,865 INFO x_sliced: 224, example: data/interim/patient048_4d_t0_z0_img.nrrd\n",
      "2022-05-16 15:58:30,866 INFO inference mode, no masks given, will use x as placeholder for y in fix processing\n",
      "2022-05-16 15:58:30,866 INFO Create DataGenerator\n",
      "2022-05-16 15:58:30,867 INFO Datagenerator created with: \n",
      " shape: [224, 224]\n",
      " spacing: [1.2, 1.2]\n",
      " batchsize: 1\n",
      " Scaler: MinMax\n",
      " Images: 224 \n",
      " Augment: False \n",
      " Thread workers: 32\n",
      "2022-05-16 15:58:31,377 INFO x_sliced: 300, example: data/interim/patient051_4d_t0_z0_img.nrrd\n",
      "2022-05-16 15:58:31,377 INFO inference mode, no masks given, will use x as placeholder for y in fix processing\n",
      "2022-05-16 15:58:31,378 INFO Create DataGenerator\n",
      "2022-05-16 15:58:31,378 INFO Datagenerator created with: \n",
      " shape: [224, 224]\n",
      " spacing: [1.2, 1.2]\n",
      " batchsize: 1\n",
      " Scaler: MinMax\n",
      " Images: 300 \n",
      " Augment: False \n",
      " Thread workers: 32\n",
      "2022-05-16 15:58:31,684 INFO x_sliced: 210, example: data/interim/patient053_4d_t0_z0_img.nrrd\n",
      "2022-05-16 15:58:31,685 INFO inference mode, no masks given, will use x as placeholder for y in fix processing\n",
      "2022-05-16 15:58:31,685 INFO Create DataGenerator\n",
      "2022-05-16 15:58:31,685 INFO Datagenerator created with: \n",
      " shape: [224, 224]\n",
      " spacing: [1.2, 1.2]\n",
      " batchsize: 1\n",
      " Scaler: MinMax\n",
      " Images: 210 \n",
      " Augment: False \n",
      " Thread workers: 32\n",
      "2022-05-16 15:58:32,004 INFO x_sliced: 225, example: data/interim/patient055_4d_t0_z0_img.nrrd\n",
      "2022-05-16 15:58:32,004 INFO inference mode, no masks given, will use x as placeholder for y in fix processing\n",
      "2022-05-16 15:58:32,004 INFO Create DataGenerator\n",
      "2022-05-16 15:58:32,005 INFO Datagenerator created with: \n",
      " shape: [224, 224]\n",
      " spacing: [1.2, 1.2]\n",
      " batchsize: 1\n",
      " Scaler: MinMax\n",
      " Images: 225 \n",
      " Augment: False \n",
      " Thread workers: 32\n",
      "2022-05-16 15:58:32,277 INFO x_sliced: 300, example: data/interim/patient067_4d_t0_z0_img.nrrd\n",
      "2022-05-16 15:58:32,277 INFO inference mode, no masks given, will use x as placeholder for y in fix processing\n",
      "2022-05-16 15:58:32,278 INFO Create DataGenerator\n",
      "2022-05-16 15:58:32,278 INFO Datagenerator created with: \n",
      " shape: [224, 224]\n",
      " spacing: [1.2, 1.2]\n",
      " batchsize: 1\n",
      " Scaler: MinMax\n",
      " Images: 300 \n",
      " Augment: False \n",
      " Thread workers: 32\n",
      "2022-05-16 15:58:32,566 INFO x_sliced: 196, example: data/interim/patient068_4d_t0_z0_img.nrrd\n",
      "2022-05-16 15:58:32,566 INFO inference mode, no masks given, will use x as placeholder for y in fix processing\n",
      "2022-05-16 15:58:32,566 INFO Create DataGenerator\n",
      "2022-05-16 15:58:32,567 INFO Datagenerator created with: \n",
      " shape: [224, 224]\n",
      " spacing: [1.2, 1.2]\n",
      " batchsize: 1\n",
      " Scaler: MinMax\n",
      " Images: 196 \n",
      " Augment: False \n",
      " Thread workers: 32\n",
      "2022-05-16 15:58:32,832 INFO x_sliced: 300, example: data/interim/patient071_4d_t0_z0_img.nrrd\n",
      "2022-05-16 15:58:32,832 INFO inference mode, no masks given, will use x as placeholder for y in fix processing\n",
      "2022-05-16 15:58:32,832 INFO Create DataGenerator\n",
      "2022-05-16 15:58:32,833 INFO Datagenerator created with: \n",
      " shape: [224, 224]\n",
      " spacing: [1.2, 1.2]\n",
      " batchsize: 1\n",
      " Scaler: MinMax\n",
      " Images: 300 \n",
      " Augment: False \n",
      " Thread workers: 32\n",
      "2022-05-16 15:58:33,087 INFO x_sliced: 245, example: data/interim/patient073_4d_t0_z0_img.nrrd\n",
      "2022-05-16 15:58:33,087 INFO inference mode, no masks given, will use x as placeholder for y in fix processing\n",
      "2022-05-16 15:58:33,088 INFO Create DataGenerator\n",
      "2022-05-16 15:58:33,088 INFO Datagenerator created with: \n",
      " shape: [224, 224]\n",
      " spacing: [1.2, 1.2]\n",
      " batchsize: 1\n",
      " Scaler: MinMax\n",
      " Images: 245 \n",
      " Augment: False \n",
      " Thread workers: 32\n",
      "2022-05-16 15:58:33,315 INFO x_sliced: 196, example: data/interim/patient075_4d_t0_z0_img.nrrd\n",
      "2022-05-16 15:58:33,315 INFO inference mode, no masks given, will use x as placeholder for y in fix processing\n",
      "2022-05-16 15:58:33,315 INFO Create DataGenerator\n",
      "2022-05-16 15:58:33,316 INFO Datagenerator created with: \n",
      " shape: [224, 224]\n",
      " spacing: [1.2, 1.2]\n",
      " batchsize: 1\n",
      " Scaler: MinMax\n",
      " Images: 196 \n",
      " Augment: False \n",
      " Thread workers: 32\n",
      "2022-05-16 15:58:33,653 INFO x_sliced: 224, example: data/interim/patient087_4d_t0_z0_img.nrrd\n",
      "2022-05-16 15:58:33,653 INFO inference mode, no masks given, will use x as placeholder for y in fix processing\n",
      "2022-05-16 15:58:33,654 INFO Create DataGenerator\n",
      "2022-05-16 15:58:33,654 INFO Datagenerator created with: \n",
      " shape: [224, 224]\n",
      " spacing: [1.2, 1.2]\n",
      " batchsize: 1\n",
      " Scaler: MinMax\n",
      " Images: 224 \n",
      " Augment: False \n",
      " Thread workers: 32\n",
      "2022-05-16 15:58:34,115 INFO x_sliced: 400, example: data/interim/patient088_4d_t0_z0_img.nrrd\n",
      "2022-05-16 15:58:34,115 INFO inference mode, no masks given, will use x as placeholder for y in fix processing\n",
      "2022-05-16 15:58:34,115 INFO Create DataGenerator\n",
      "2022-05-16 15:58:34,116 INFO Datagenerator created with: \n",
      " shape: [224, 224]\n",
      " spacing: [1.2, 1.2]\n",
      " batchsize: 1\n",
      " Scaler: MinMax\n",
      " Images: 400 \n",
      " Augment: False \n",
      " Thread workers: 32\n",
      "2022-05-16 15:58:34,253 INFO x_sliced: 128, example: data/interim/patient091_4d_t0_z0_img.nrrd\n",
      "2022-05-16 15:58:34,253 INFO inference mode, no masks given, will use x as placeholder for y in fix processing\n",
      "2022-05-16 15:58:34,254 INFO Create DataGenerator\n",
      "2022-05-16 15:58:34,254 INFO Datagenerator created with: \n",
      " shape: [224, 224]\n",
      " spacing: [1.2, 1.2]\n",
      " batchsize: 1\n",
      " Scaler: MinMax\n",
      " Images: 128 \n",
      " Augment: False \n",
      " Thread workers: 32\n",
      "2022-05-16 15:58:34,619 INFO x_sliced: 300, example: data/interim/patient093_4d_t0_z0_img.nrrd\n",
      "2022-05-16 15:58:34,620 INFO inference mode, no masks given, will use x as placeholder for y in fix processing\n",
      "2022-05-16 15:58:34,620 INFO Create DataGenerator\n",
      "2022-05-16 15:58:34,621 INFO Datagenerator created with: \n",
      " shape: [224, 224]\n",
      " spacing: [1.2, 1.2]\n",
      " batchsize: 1\n",
      " Scaler: MinMax\n",
      " Images: 300 \n",
      " Augment: False \n",
      " Thread workers: 32\n",
      "2022-05-16 15:58:35,145 INFO x_sliced: 420, example: data/interim/patient095_4d_t0_z0_img.nrrd\n",
      "2022-05-16 15:58:35,145 INFO inference mode, no masks given, will use x as placeholder for y in fix processing\n",
      "2022-05-16 15:58:35,145 INFO Create DataGenerator\n",
      "2022-05-16 15:58:35,146 INFO Datagenerator created with: \n",
      " shape: [224, 224]\n",
      " spacing: [1.2, 1.2]\n",
      " batchsize: 1\n",
      " Scaler: MinMax\n",
      " Images: 420 \n",
      " Augment: False \n",
      " Thread workers: 32\n",
      "2022-05-16 15:58:35,217 INFO size: (222, 224, 10, 16)\n",
      "2022-05-16 15:58:35,217 INFO spacing: (1.875, 1.875, 10.0, 1.0)\n",
      "2022-05-16 15:58:35,218 INFO origin: (0.0, 0.0, 0.0, 0.0)\n",
      "2022-05-16 15:58:35,218 INFO direction: (1.0, 0.0, 0.0, 0.0, 0.0, 1.0, 0.0, 0.0, 0.0, 0.0, 1.0, 0.0, 0.0, 0.0, 0.0, 1.0)\n",
      "2022-05-16 15:58:35,218 INFO pixel type: 16-bit signed integer\n",
      "2022-05-16 15:58:35,218 INFO number of pixel components: 1\n",
      "2022-05-16 15:58:38,121 INFO size: (200, 256, 10, 28)\n",
      "2022-05-16 15:58:38,121 INFO spacing: (1.5625, 1.5625, 10.0, 1.0)\n",
      "2022-05-16 15:58:38,122 INFO origin: (0.0, 0.0, 0.0, 0.0)\n",
      "2022-05-16 15:58:38,122 INFO direction: (1.0, 0.0, 0.0, 0.0, 0.0, 1.0, 0.0, 0.0, 0.0, 0.0, 1.0, 0.0, 0.0, 0.0, 0.0, 1.0)\n",
      "2022-05-16 15:58:38,122 INFO pixel type: 16-bit signed integer\n",
      "2022-05-16 15:58:38,123 INFO number of pixel components: 1\n"
     ]
    },
    {
     "name": "stdout",
     "output_type": "stream",
     "text": [
      "(224, 224, 10, 16)\n",
      "(1.2, 1.2, 10.0, 1)\n"
     ]
    },
    {
     "name": "stderr",
     "output_type": "stream",
     "text": [
      "2022-05-16 15:58:40,427 INFO size: (216, 256, 9, 15)\n",
      "2022-05-16 15:58:40,428 INFO spacing: (1.4843800067901611, 1.4843800067901611, 10.0, 1.0)\n",
      "2022-05-16 15:58:40,428 INFO origin: (0.0, 0.0, 0.0, 0.0)\n",
      "2022-05-16 15:58:40,428 INFO direction: (1.0, 0.0, 0.0, 0.0, 0.0, 1.0, 0.0, 0.0, 0.0, 0.0, 1.0, 0.0, 0.0, 0.0, 0.0, 1.0)\n",
      "2022-05-16 15:58:40,429 INFO pixel type: 32-bit float\n",
      "2022-05-16 15:58:40,429 INFO number of pixel components: 1\n"
     ]
    },
    {
     "name": "stdout",
     "output_type": "stream",
     "text": [
      "(224, 224, 10, 28)\n",
      "(1.2, 1.2, 10.0, 1)\n",
      "(224, 224, 9, 15)\n",
      "(1.2, 1.2, 10.0, 1)\n"
     ]
    },
    {
     "name": "stderr",
     "output_type": "stream",
     "text": [
      "2022-05-16 15:58:41,734 INFO size: (216, 256, 10, 30)\n",
      "2022-05-16 15:58:41,735 INFO spacing: (1.4453099966049194, 1.4453099966049194, 10.0, 1.0)\n",
      "2022-05-16 15:58:41,735 INFO origin: (0.0, 0.0, 0.0, 0.0)\n",
      "2022-05-16 15:58:41,735 INFO direction: (1.0, 0.0, 0.0, 0.0, 0.0, 1.0, 0.0, 0.0, 0.0, 0.0, 1.0, 0.0, 0.0, 0.0, 0.0, 1.0)\n",
      "2022-05-16 15:58:41,735 INFO pixel type: 32-bit float\n",
      "2022-05-16 15:58:41,736 INFO number of pixel components: 1\n",
      "2022-05-16 15:58:44,102 INFO size: (256, 216, 9, 21)\n",
      "2022-05-16 15:58:44,102 INFO spacing: (1.3671900033950806, 1.3671900033950806, 10.0, 1.0)\n",
      "2022-05-16 15:58:44,102 INFO origin: (0.0, 0.0, 0.0, 0.0)\n",
      "2022-05-16 15:58:44,103 INFO direction: (1.0, 0.0, 0.0, 0.0, 0.0, 1.0, 0.0, 0.0, 0.0, 0.0, 1.0, 0.0, 0.0, 0.0, 0.0, 1.0)\n",
      "2022-05-16 15:58:44,103 INFO pixel type: 32-bit float\n",
      "2022-05-16 15:58:44,103 INFO number of pixel components: 1\n"
     ]
    },
    {
     "name": "stdout",
     "output_type": "stream",
     "text": [
      "(224, 224, 10, 30)\n",
      "(1.2, 1.2, 10.0, 1)\n"
     ]
    },
    {
     "name": "stderr",
     "output_type": "stream",
     "text": [
      "2022-05-16 15:58:45,676 INFO size: (216, 256, 10, 30)\n",
      "2022-05-16 15:58:45,677 INFO spacing: (1.3671875, 1.3671875, 10.0, 1.0)\n",
      "2022-05-16 15:58:45,677 INFO origin: (0.0, 0.0, 0.0, 0.0)\n",
      "2022-05-16 15:58:45,677 INFO direction: (1.0, 0.0, 0.0, 0.0, 0.0, 1.0, 0.0, 0.0, 0.0, 0.0, 1.0, 0.0, 0.0, 0.0, 0.0, 1.0)\n",
      "2022-05-16 15:58:45,678 INFO pixel type: 16-bit signed integer\n",
      "2022-05-16 15:58:45,678 INFO number of pixel components: 1\n"
     ]
    },
    {
     "name": "stdout",
     "output_type": "stream",
     "text": [
      "(224, 224, 9, 21)\n",
      "(1.2, 1.2, 10.0, 1)\n"
     ]
    },
    {
     "name": "stderr",
     "output_type": "stream",
     "text": [
      "2022-05-16 15:58:47,974 INFO size: (224, 256, 10, 28)\n",
      "2022-05-16 15:58:47,974 INFO spacing: (1.5625, 1.5625, 10.0, 1.0)\n",
      "2022-05-16 15:58:47,975 INFO origin: (0.0, 0.0, 0.0, 0.0)\n",
      "2022-05-16 15:58:47,975 INFO direction: (1.0, 0.0, 0.0, 0.0, 0.0, 1.0, 0.0, 0.0, 0.0, 0.0, 1.0, 0.0, 0.0, 0.0, 0.0, 1.0)\n",
      "2022-05-16 15:58:47,975 INFO pixel type: 16-bit signed integer\n",
      "2022-05-16 15:58:47,976 INFO number of pixel components: 1\n"
     ]
    },
    {
     "name": "stdout",
     "output_type": "stream",
     "text": [
      "(224, 224, 10, 30)\n",
      "(1.2, 1.2, 10.0, 1)\n"
     ]
    },
    {
     "name": "stderr",
     "output_type": "stream",
     "text": [
      "2022-05-16 15:58:50,231 INFO size: (216, 256, 10, 30)\n",
      "2022-05-16 15:58:50,232 INFO spacing: (1.484375, 1.484375, 10.0, 1.0)\n",
      "2022-05-16 15:58:50,232 INFO origin: (0.0, 0.0, 0.0, 0.0)\n",
      "2022-05-16 15:58:50,233 INFO direction: (1.0, 0.0, 0.0, 0.0, 0.0, 1.0, 0.0, 0.0, 0.0, 0.0, 1.0, 0.0, 0.0, 0.0, 0.0, 1.0)\n",
      "2022-05-16 15:58:50,233 INFO pixel type: 16-bit signed integer\n",
      "2022-05-16 15:58:50,233 INFO number of pixel components: 1\n"
     ]
    },
    {
     "name": "stdout",
     "output_type": "stream",
     "text": [
      "(224, 224, 10, 28)\n",
      "(1.2, 1.2, 10.0, 1)\n"
     ]
    },
    {
     "name": "stderr",
     "output_type": "stream",
     "text": [
      "2022-05-16 15:58:52,869 INFO size: (216, 256, 10, 30)\n",
      "2022-05-16 15:58:52,870 INFO spacing: (1.5625, 1.5625, 10.0, 1.0)\n",
      "2022-05-16 15:58:52,870 INFO origin: (0.0, 0.0, 0.0, 0.0)\n",
      "2022-05-16 15:58:52,870 INFO direction: (1.0, 0.0, 0.0, 0.0, 0.0, 1.0, 0.0, 0.0, 0.0, 0.0, 1.0, 0.0, 0.0, 0.0, 0.0, 1.0)\n",
      "2022-05-16 15:58:52,871 INFO pixel type: 16-bit signed integer\n",
      "2022-05-16 15:58:52,871 INFO number of pixel components: 1\n"
     ]
    },
    {
     "name": "stdout",
     "output_type": "stream",
     "text": [
      "(224, 224, 10, 30)\n",
      "(1.2, 1.2, 10.0, 1)\n",
      "(224, 224, 10, 30)\n",
      "(1.2, 1.2, 10.0, 1)\n"
     ]
    },
    {
     "name": "stderr",
     "output_type": "stream",
     "text": [
      "2022-05-16 15:58:55,564 INFO size: (208, 256, 13, 28)\n",
      "2022-05-16 15:58:55,564 INFO spacing: (1.6796900033950806, 1.6796900033950806, 5.0, 1.0)\n",
      "2022-05-16 15:58:55,565 INFO origin: (0.0, 0.0, 0.0, 0.0)\n",
      "2022-05-16 15:58:55,565 INFO direction: (1.0, 0.0, 0.0, 0.0, 0.0, 1.0, 0.0, 0.0, 0.0, 0.0, 1.0, 0.0, 0.0, 0.0, 0.0, 1.0)\n",
      "2022-05-16 15:58:55,565 INFO pixel type: 32-bit float\n",
      "2022-05-16 15:58:55,565 INFO number of pixel components: 1\n",
      "2022-05-16 15:58:58,677 INFO size: (256, 208, 9, 22)\n",
      "2022-05-16 15:58:58,677 INFO spacing: (1.6796900033950806, 1.6796900033950806, 10.0, 1.0)\n",
      "2022-05-16 15:58:58,678 INFO origin: (0.0, 0.0, 0.0, 0.0)\n",
      "2022-05-16 15:58:58,678 INFO direction: (1.0, 0.0, 0.0, 0.0, 0.0, 1.0, 0.0, 0.0, 0.0, 0.0, 1.0, 0.0, 0.0, 0.0, 0.0, 1.0)\n",
      "2022-05-16 15:58:58,678 INFO pixel type: 32-bit float\n",
      "2022-05-16 15:58:58,678 INFO number of pixel components: 1\n"
     ]
    },
    {
     "name": "stdout",
     "output_type": "stream",
     "text": [
      "(224, 224, 13, 28)\n",
      "(1.2, 1.2, 5.0, 1)\n",
      "(224, 224, 9, 22)\n",
      "(1.2, 1.2, 10.0, 1)\n"
     ]
    },
    {
     "name": "stderr",
     "output_type": "stream",
     "text": [
      "2022-05-16 15:59:01,856 INFO size: (208, 256, 8, 28)\n",
      "2022-05-16 15:59:01,856 INFO spacing: (1.5625, 1.5625, 10.0, 1.0)\n",
      "2022-05-16 15:59:01,856 INFO origin: (0.0, 0.0, 0.0, 0.0)\n",
      "2022-05-16 15:59:01,857 INFO direction: (1.0, 0.0, 0.0, 0.0, 0.0, 1.0, 0.0, 0.0, 0.0, 0.0, 1.0, 0.0, 0.0, 0.0, 0.0, 1.0)\n",
      "2022-05-16 15:59:01,857 INFO pixel type: 32-bit float\n",
      "2022-05-16 15:59:01,857 INFO number of pixel components: 1\n"
     ]
    },
    {
     "name": "stdout",
     "output_type": "stream",
     "text": [
      "(224, 224, 8, 28)\n",
      "(1.2, 1.2, 10.0, 1)\n"
     ]
    },
    {
     "name": "stderr",
     "output_type": "stream",
     "text": [
      "2022-05-16 15:59:04,465 INFO size: (224, 256, 10, 30)\n",
      "2022-05-16 15:59:04,465 INFO spacing: (1.6406199932098389, 1.6406199932098389, 10.0, 1.0)\n",
      "2022-05-16 15:59:04,465 INFO origin: (0.0, 0.0, 0.0, 0.0)\n",
      "2022-05-16 15:59:04,466 INFO direction: (1.0, 0.0, 0.0, 0.0, 0.0, 1.0, 0.0, 0.0, 0.0, 0.0, 1.0, 0.0, 0.0, 0.0, 0.0, 1.0)\n",
      "2022-05-16 15:59:04,466 INFO pixel type: 32-bit float\n",
      "2022-05-16 15:59:04,466 INFO number of pixel components: 1\n"
     ]
    },
    {
     "name": "stdout",
     "output_type": "stream",
     "text": [
      "(224, 224, 10, 30)\n",
      "(1.2, 1.2, 10.0, 1)\n"
     ]
    },
    {
     "name": "stderr",
     "output_type": "stream",
     "text": [
      "2022-05-16 15:59:07,055 INFO size: (216, 256, 7, 30)\n",
      "2022-05-16 15:59:07,056 INFO spacing: (1.3671900033950806, 1.3671900033950806, 10.0, 1.0)\n",
      "2022-05-16 15:59:07,056 INFO origin: (0.0, 0.0, 0.0, 0.0)\n",
      "2022-05-16 15:59:07,057 INFO direction: (1.0, 0.0, 0.0, 0.0, 0.0, 1.0, 0.0, 0.0, 0.0, 0.0, 1.0, 0.0, 0.0, 0.0, 0.0, 1.0)\n",
      "2022-05-16 15:59:07,057 INFO pixel type: 32-bit float\n",
      "2022-05-16 15:59:07,057 INFO number of pixel components: 1\n"
     ]
    },
    {
     "name": "stdout",
     "output_type": "stream",
     "text": [
      "(224, 224, 7, 30)\n",
      "(1.2, 1.2, 10.0, 1)\n"
     ]
    },
    {
     "name": "stderr",
     "output_type": "stream",
     "text": [
      "2022-05-16 15:59:09,010 INFO size: (256, 216, 9, 25)\n",
      "2022-05-16 15:59:09,020 INFO spacing: (1.4843800067901611, 1.4843800067901611, 10.0, 1.0)\n",
      "2022-05-16 15:59:09,021 INFO origin: (0.0, 0.0, 0.0, 0.0)\n",
      "2022-05-16 15:59:09,021 INFO direction: (1.0, 0.0, 0.0, 0.0, 0.0, 1.0, 0.0, 0.0, 0.0, 0.0, 1.0, 0.0, 0.0, 0.0, 0.0, 1.0)\n",
      "2022-05-16 15:59:09,022 INFO pixel type: 32-bit float\n",
      "2022-05-16 15:59:09,022 INFO number of pixel components: 1\n",
      "2022-05-16 15:59:10,917 INFO size: (256, 216, 10, 30)\n",
      "2022-05-16 15:59:10,917 INFO spacing: (1.3671875, 1.3671875, 10.0, 1.0)\n",
      "2022-05-16 15:59:10,917 INFO origin: (0.0, 0.0, 0.0, 0.0)\n",
      "2022-05-16 15:59:10,918 INFO direction: (1.0, 0.0, 0.0, 0.0, 0.0, 1.0, 0.0, 0.0, 0.0, 0.0, 1.0, 0.0, 0.0, 0.0, 0.0, 1.0)\n",
      "2022-05-16 15:59:10,918 INFO pixel type: 16-bit signed integer\n",
      "2022-05-16 15:59:10,918 INFO number of pixel components: 1\n"
     ]
    },
    {
     "name": "stdout",
     "output_type": "stream",
     "text": [
      "(224, 224, 9, 25)\n",
      "(1.2, 1.2, 10.0, 1)\n"
     ]
    },
    {
     "name": "stderr",
     "output_type": "stream",
     "text": [
      "2022-05-16 15:59:13,596 INFO size: (256, 208, 7, 28)\n",
      "2022-05-16 15:59:13,597 INFO spacing: (1.5625, 1.5625, 10.0, 1.0)\n",
      "2022-05-16 15:59:13,597 INFO origin: (0.0, 0.0, 0.0, 0.0)\n",
      "2022-05-16 15:59:13,597 INFO direction: (1.0, 0.0, 0.0, 0.0, 0.0, 1.0, 0.0, 0.0, 0.0, 0.0, 1.0, 0.0, 0.0, 0.0, 0.0, 1.0)\n",
      "2022-05-16 15:59:13,597 INFO pixel type: 32-bit float\n",
      "2022-05-16 15:59:13,598 INFO number of pixel components: 1\n"
     ]
    },
    {
     "name": "stdout",
     "output_type": "stream",
     "text": [
      "(224, 224, 10, 30)\n",
      "(1.2, 1.2, 10.0, 1)\n"
     ]
    },
    {
     "name": "stderr",
     "output_type": "stream",
     "text": [
      "2022-05-16 15:59:15,331 INFO size: (192, 256, 10, 30)\n",
      "2022-05-16 15:59:15,331 INFO spacing: (1.5625, 1.5625, 10.0, 1.0)\n",
      "2022-05-16 15:59:15,332 INFO origin: (0.0, 0.0, 0.0, 0.0)\n",
      "2022-05-16 15:59:15,332 INFO direction: (1.0, 0.0, 0.0, 0.0, 0.0, 1.0, 0.0, 0.0, 0.0, 0.0, 1.0, 0.0, 0.0, 0.0, 0.0, 1.0)\n",
      "2022-05-16 15:59:15,332 INFO pixel type: 16-bit signed integer\n",
      "2022-05-16 15:59:15,332 INFO number of pixel components: 1\n"
     ]
    },
    {
     "name": "stdout",
     "output_type": "stream",
     "text": [
      "(224, 224, 7, 28)\n",
      "(1.2, 1.2, 10.0, 1)\n"
     ]
    },
    {
     "name": "stderr",
     "output_type": "stream",
     "text": [
      "2022-05-16 15:59:17,763 INFO size: (208, 256, 7, 35)\n",
      "2022-05-16 15:59:17,764 INFO spacing: (1.640625, 1.640625, 10.0, 1.0)\n",
      "2022-05-16 15:59:17,766 INFO origin: (0.0, 0.0, 0.0, 0.0)\n",
      "2022-05-16 15:59:17,768 INFO direction: (1.0, 0.0, 0.0, 0.0, 0.0, 1.0, 0.0, 0.0, 0.0, 0.0, 1.0, 0.0, 0.0, 0.0, 0.0, 1.0)\n",
      "2022-05-16 15:59:17,770 INFO pixel type: 16-bit signed integer\n",
      "2022-05-16 15:59:17,772 INFO number of pixel components: 1\n"
     ]
    },
    {
     "name": "stdout",
     "output_type": "stream",
     "text": [
      "(224, 224, 10, 30)\n",
      "(1.2, 1.2, 10.0, 1)\n"
     ]
    },
    {
     "name": "stderr",
     "output_type": "stream",
     "text": [
      "2022-05-16 15:59:19,810 INFO size: (168, 224, 14, 14)\n",
      "2022-05-16 15:59:19,810 INFO spacing: (1.7857099771499634, 1.7857099771499634, 5.0, 1.0)\n",
      "2022-05-16 15:59:19,811 INFO origin: (0.0, 0.0, 0.0, 0.0)\n",
      "2022-05-16 15:59:19,811 INFO direction: (1.0, 0.0, 0.0, 0.0, 0.0, 1.0, 0.0, 0.0, 0.0, 0.0, 1.0, 0.0, 0.0, 0.0, 0.0, 1.0)\n",
      "2022-05-16 15:59:19,811 INFO pixel type: 32-bit float\n",
      "2022-05-16 15:59:19,811 INFO number of pixel components: 1\n"
     ]
    },
    {
     "name": "stdout",
     "output_type": "stream",
     "text": [
      "(224, 224, 7, 35)\n",
      "(1.2, 1.2, 10.0, 1)\n"
     ]
    },
    {
     "name": "stderr",
     "output_type": "stream",
     "text": [
      "2022-05-16 15:59:21,497 INFO size: (256, 184, 8, 28)\n",
      "2022-05-16 15:59:21,498 INFO spacing: (1.4453099966049194, 1.4453099966049194, 10.0, 1.0)\n",
      "2022-05-16 15:59:21,498 INFO origin: (0.0, 0.0, 0.0, 0.0)\n",
      "2022-05-16 15:59:21,498 INFO direction: (1.0, 0.0, 0.0, 0.0, 0.0, 1.0, 0.0, 0.0, 0.0, 0.0, 1.0, 0.0, 0.0, 0.0, 0.0, 1.0)\n",
      "2022-05-16 15:59:21,498 INFO pixel type: 32-bit float\n",
      "2022-05-16 15:59:21,499 INFO number of pixel components: 1\n"
     ]
    },
    {
     "name": "stdout",
     "output_type": "stream",
     "text": [
      "(224, 224, 14, 14)\n",
      "(1.2, 1.2, 5.0, 1)\n",
      "(224, 224, 8, 28)\n",
      "(1.2, 1.2, 10.0, 1)\n"
     ]
    },
    {
     "name": "stderr",
     "output_type": "stream",
     "text": [
      "2022-05-16 15:59:23,681 INFO size: (224, 154, 16, 25)\n",
      "2022-05-16 15:59:23,682 INFO spacing: (1.6517900228500366, 1.6517900228500366, 5.0, 1.0)\n",
      "2022-05-16 15:59:23,682 INFO origin: (0.0, 0.0, 0.0, 0.0)\n",
      "2022-05-16 15:59:23,682 INFO direction: (1.0, 0.0, 0.0, 0.0, 0.0, 1.0, 0.0, 0.0, 0.0, 0.0, 1.0, 0.0, 0.0, 0.0, 0.0, 1.0)\n",
      "2022-05-16 15:59:23,683 INFO pixel type: 32-bit float\n",
      "2022-05-16 15:59:23,683 INFO number of pixel components: 1\n",
      "2022-05-16 15:59:26,581 INFO size: (180, 224, 8, 16)\n",
      "2022-05-16 15:59:26,581 INFO spacing: (1.5625, 1.5625, 10.0, 1.0)\n",
      "2022-05-16 15:59:26,582 INFO origin: (0.0, 0.0, 0.0, 0.0)\n",
      "2022-05-16 15:59:26,582 INFO direction: (1.0, 0.0, 0.0, 0.0, 0.0, 1.0, 0.0, 0.0, 0.0, 0.0, 1.0, 0.0, 0.0, 0.0, 0.0, 1.0)\n",
      "2022-05-16 15:59:26,582 INFO pixel type: 32-bit float\n",
      "2022-05-16 15:59:26,582 INFO number of pixel components: 1\n"
     ]
    },
    {
     "name": "stdout",
     "output_type": "stream",
     "text": [
      "(224, 224, 16, 25)\n",
      "(1.2, 1.2, 5.0, 1)\n"
     ]
    },
    {
     "name": "stderr",
     "output_type": "stream",
     "text": [
      "2022-05-16 15:59:27,801 INFO size: (180, 224, 10, 30)\n",
      "2022-05-16 15:59:27,801 INFO spacing: (1.5625, 1.5625, 7.0, 1.0)\n",
      "2022-05-16 15:59:27,801 INFO origin: (0.0, 0.0, 0.0, 0.0)\n",
      "2022-05-16 15:59:27,801 INFO direction: (1.0, 0.0, 0.0, 0.0, 0.0, 1.0, 0.0, 0.0, 0.0, 0.0, 1.0, 0.0, 0.0, 0.0, 0.0, 1.0)\n",
      "2022-05-16 15:59:27,802 INFO pixel type: 32-bit float\n",
      "2022-05-16 15:59:27,802 INFO number of pixel components: 1\n"
     ]
    },
    {
     "name": "stdout",
     "output_type": "stream",
     "text": [
      "(224, 224, 8, 16)\n",
      "(1.2, 1.2, 10.0, 1)\n",
      "(224, 224, 10, 30)\n",
      "(1.2, 1.2, 7.0, 1)\n"
     ]
    },
    {
     "name": "stderr",
     "output_type": "stream",
     "text": [
      "2022-05-16 15:59:30,284 INFO size: (180, 224, 14, 30)\n",
      "2022-05-16 15:59:30,284 INFO spacing: (1.5625, 1.5625, 5.0, 1.0)\n",
      "2022-05-16 15:59:30,285 INFO origin: (0.0, 0.0, 0.0, 0.0)\n",
      "2022-05-16 15:59:30,285 INFO direction: (1.0, 0.0, 0.0, 0.0, 0.0, 1.0, 0.0, 0.0, 0.0, 0.0, 1.0, 0.0, 0.0, 0.0, 0.0, 1.0)\n",
      "2022-05-16 15:59:30,285 INFO pixel type: 32-bit float\n",
      "2022-05-16 15:59:30,285 INFO number of pixel components: 1\n"
     ]
    },
    {
     "name": "stdout",
     "output_type": "stream",
     "text": [
      "(224, 224, 14, 30)\n",
      "(1.2, 1.2, 5.0, 1)\n"
     ]
    }
   ],
   "source": [
    "pred_path = predict_4d_on_2d_cv(path_to_exp=exp,\n",
    "                                list_of_4d=files_,\n",
    "                               export_suffix='test_pred_4d_cv')"
   ]
  },
  {
   "cell_type": "markdown",
   "id": "df87ab02",
   "metadata": {},
   "source": [
    "# Load the predicted 4D masks"
   ]
  },
  {
   "cell_type": "code",
   "execution_count": 5,
   "id": "b95eb17a",
   "metadata": {},
   "outputs": [
    {
     "name": "stdout",
     "output_type": "stream",
     "text": [
      "exp/seg/baseline_spacing1_2_dim224_rot_shift_hist/2022-05-05_23_33/pred_4d_cv\n",
      "exp/seg/baseline_spacing1_2_dim224_rot_shift_hist/2022-05-05_23_33/pred_4d_cv/*msk.nrrd\n",
      "100\n"
     ]
    }
   ],
   "source": [
    "print(pred_path)\n",
    "pattern = os.path.join(pred_path, '*msk.nrrd')\n",
    "print(pattern)\n",
    "files_pred_4d = list(sorted(glob.glob(pattern)))\n",
    "print(len(files_pred_4d))"
   ]
  },
  {
   "cell_type": "code",
   "execution_count": 6,
   "id": "4021de86",
   "metadata": {},
   "outputs": [
    {
     "data": {
      "application/vnd.jupyter.widget-view+json": {
       "model_id": "509ca1581eca41cd8888037d578f5f0c",
       "version_major": 2,
       "version_minor": 0
      },
      "text/plain": [
       "interactive(children=(IntSlider(value=49, description='patient', max=99), Dropdown(description='label', option…"
      ]
     },
     "metadata": {},
     "output_type": "display_data"
    }
   ],
   "source": [
    "# load one 4D file and calulate the volume in ml\n",
    "@interact\n",
    "def calc_vol(patient=(0,len(files_pred_4d)-1), label=[0,1,2,3]):\n",
    "    global nda, gen_patient\n",
    "    f = files_pred_4d[patient]\n",
    "    logging.info(os.path.basename(f))\n",
    "    temp = sitk.ReadImage(f)\n",
    "    describe_sitk(temp)\n",
    "    spacing = temp.GetSpacing()\n",
    "    nda = sitk.GetArrayFromImage(temp)\n",
    "    voxels = (nda==label).sum(axis=(1,2,3))\n",
    "    voxel_size = spacing[0]*spacing[1]*spacing[2]\n",
    "    logging.info('size of one voxel: {:3.2f}'.format(voxel_size))\n",
    "    cardiac_volumes = (voxels*voxel_size)/1000\n",
    "    #print(lv_voxels)\n",
    "    plt.plot(cardiac_volumes);plt.show()\n",
    "    print('ES according to argmin: {}'.format(np.argmin(cardiac_volumes)))\n",
    "    print('ED according to argmax: {}'.format(np.argmax(cardiac_volumes)))"
   ]
  },
  {
   "cell_type": "code",
   "execution_count": 7,
   "id": "71b2b6d6",
   "metadata": {},
   "outputs": [
    {
     "data": {
      "application/vnd.jupyter.widget-view+json": {
       "model_id": "962ff65a0bc9447ebc222ad4ae860700",
       "version_major": 2,
       "version_minor": 0
      },
      "text/plain": [
       "interactive(children=(IntSlider(value=14, description='t', max=29), IntSlider(value=4, description='z', max=9)…"
      ]
     },
     "metadata": {},
     "output_type": "display_data"
    }
   ],
   "source": [
    "from src.visualization.Visualize import show_2D_or_3D\n",
    "@interact\n",
    "def show_preds(t= (0,nda.shape[0]-1), z=(0,nda.shape[1]-1)):\n",
    "    global nda\n",
    "    logging.info(nda.shape)\n",
    "    plt.imshow(nda[t][z])\n",
    "    plt.show()"
   ]
  },
  {
   "cell_type": "code",
   "execution_count": 39,
   "id": "75d907c8",
   "metadata": {},
   "outputs": [
    {
     "data": {
      "text/plain": [
       "'exp/seg/baseline_spacing1_2_dim224_rot_shift_hist/2022-05-05_23_33/pred_4d_cv/patient001_4d_msk.nrrd'"
      ]
     },
     "execution_count": 39,
     "metadata": {},
     "output_type": "execute_result"
    }
   ],
   "source": [
    "files_pred_4d[0]"
   ]
  },
  {
   "cell_type": "code",
   "execution_count": 8,
   "id": "5d27cdcf",
   "metadata": {},
   "outputs": [],
   "source": [
    "# Calc the LV volume per 3D volume and predict the ED/ES phase\n",
    "# Merge the prediction with the gt\n",
    "# Calc the pFD per ED/ES\n",
    "# Calc the Accuracy per ED/ES\n",
    "from src.data.Dataset import predict_phase_from_vol\n",
    "import pandas as pd\n",
    "dataset = 'acdc' # or 'tof' --> different patient id extraction\n",
    "\n",
    "df_merge = predict_phase_from_vol(filenames=files_pred_4d,dataset=dataset)"
   ]
  },
  {
   "cell_type": "code",
   "execution_count": 9,
   "id": "ec5da116",
   "metadata": {},
   "outputs": [],
   "source": [
    "def calc_cycle_diff(pred, gt, length):\n",
    "    lower = min(pred,gt)\n",
    "    upper = max(pred,gt)\n",
    "    diff = upper-lower\n",
    "    cycle_diff = abs(length-upper+lower)\n",
    "    return min(diff,cycle_diff)\n",
    "\n",
    "df_merge['ED'] = df_merge.apply(lambda x : calc_cycle_diff(x['ed_idxs'], x['ED#'], x['cycle_len']), axis=1)\n",
    "df_merge['ES'] = df_merge.apply(lambda x : calc_cycle_diff(x['es_idxs'], x['ES#'], x['cycle_len']), axis=1)"
   ]
  },
  {
   "cell_type": "code",
   "execution_count": 44,
   "id": "8d6cad6d",
   "metadata": {},
   "outputs": [],
   "source": [
    "df_merge.to_csv(os.path.join(exp,'{}_vol_pred.csv'.format(dataset)))"
   ]
  },
  {
   "cell_type": "markdown",
   "id": "3d41905d",
   "metadata": {},
   "source": [
    "# TOF"
   ]
  },
  {
   "cell_type": "code",
   "execution_count": 10,
   "id": "9a6cd008",
   "metadata": {},
   "outputs": [
    {
     "data": {
      "application/vnd.jupyter.widget-view+json": {
       "model_id": "dab130e784a2416897fa0b6c3c0cc01d",
       "version_major": 2,
       "version_minor": 0
      },
      "text/plain": [
       "interactive(children=(Dropdown(description='dataframe', options=('df_base', 'df_center', 'df_lv', 'df_sep', 'd…"
      ]
     },
     "metadata": {},
     "output_type": "display_data"
    }
   ],
   "source": [
    "import matplotlib.pyplot as plt\n",
    "dfs = {}\n",
    "dfs['df_base'] = df_merge\n",
    "dfs['df_center'] = pd.read_csv('/mnt/sds/sd20i001/sven/code/dynamic-cmr-models/exp/phasereg_v3/roll2/center/phaseloss0_2lstm32_tof/2022-03-17_15_39/cfd.csv')\n",
    "dfs['df_lv'] = pd.read_csv('/mnt/sds/sd20i001/sven/code/dynamic-cmr-models/exp/phasereg_v3/roll2/lv/phaseloss0_2lstm32_tof/2022-03-16_17_20/cfd.csv')\n",
    "dfs['df_sep'] = pd.read_csv('/mnt/sds/sd20i001/sven/code/dynamic-cmr-models/exp/phasereg_v3/roll2/septum/phaseloss0_2lstm32_tof/2022-03-16_15_27/cfd.csv')\n",
    "dfs['df_mse'] = pd.read_csv('/mnt/sds/sd20i001/sven/code/cmr-phase-detection/exp/phasereg_v3/roll2/mse/phaseloss0_2lstm32_tof/2022-05-17_10_45/cfd.csv')\n",
    "@interact\n",
    "def calc_acc(dataframe = dfs.keys(),threshold=(0,10,1)):\n",
    "    \n",
    "    plt.rcParams.update({'font.size': 22})\n",
    "    fig,axes = plt.subplots(1,2,figsize=(14,5))\n",
    "    ax1, ax2 = axes\n",
    "    \n",
    "    df = dfs.get(dataframe)\n",
    "    print('{:1.2f}'.format((df['ED']<=threshold).sum()/len(df)))\n",
    "    print('{:1.2f}'.format((df['ES']<=threshold).sum()/len(df)))\n",
    "    threshs = list(range(10))\n",
    "    ed_acc = [(df['ED']<=t).sum()/len(df) for t in threshs]\n",
    "    es_acc = [(df['ES']<=t).sum()/len(df) for t in threshs]\n",
    "    \n",
    "    ax1.plot(threshs, ed_acc)\n",
    "    ax2.plot(threshs, es_acc)\n",
    "    ax1.legend(['vol', 'center', 'lv', 'sep'])\n",
    "    ax2.legend(['vol', 'center', 'lv', 'sep'])\n",
    "    ax1.set_xlabel('Threshold')\n",
    "    ax2.set_xlabel('Threshold')\n",
    "    ax1.set_ylabel('Accuracy phase ED')\n",
    "    ax2.set_ylabel('Accuracy phase ES')\n",
    "    ax1.set_ylim(0.7,1.01)\n",
    "    ax2.set_ylim(0.7,1.01)\n",
    "    plt.tight_layout()\n",
    "    plt.show()\n",
    "    return df.describe()"
   ]
  },
  {
   "cell_type": "markdown",
   "id": "b6702e8e",
   "metadata": {},
   "source": [
    "# Compare the \"threshold vs acc\"  as line plots per experiment"
   ]
  },
  {
   "cell_type": "code",
   "execution_count": 12,
   "id": "42e9d86f",
   "metadata": {},
   "outputs": [
    {
     "data": {
      "image/png": "[encoded data removed]",
      "text/plain": [
       "<Figure size 1008x360 with 2 Axes>"
      ]
     },
     "metadata": {
      "needs_background": "light"
     },
     "output_type": "display_data"
    }
   ],
   "source": [
    "import matplotlib.pyplot as plt\n",
    "plt.rcParams.update({'font.size': 22})\n",
    "fig,axes = plt.subplots(1,2,figsize=(14,5))\n",
    "ax1, ax2 = axes\n",
    "\n",
    "threshs = list(range(10))\n",
    "ed_accs = []\n",
    "es_accs = []\n",
    "for df_ in dfs.values():\n",
    "    ed_accs.append([(df_['ED']<=t).sum()/len(df_) for t in threshs])\n",
    "    es_accs.append([(df_['ES']<=t).sum()/len(df_) for t in threshs])\n",
    "    \n",
    "for ed_acc,es_acc in zip(ed_accs,es_accs):\n",
    "    ax1.plot(threshs, ed_acc)\n",
    "    ax2.plot(threshs, es_acc)\n",
    "\n",
    "ax1.legend(list(dfs.keys()))\n",
    "ax2.legend(list(dfs.keys()))\n",
    "ax1.set_xlabel('Threshold')\n",
    "ax2.set_xlabel('Threshold')\n",
    "ax1.set_ylabel('Accuracy phase ED')\n",
    "ax2.set_ylabel('Accuracy phase ES')\n",
    "ax1.set_ylim(0.7,1.01)\n",
    "ax2.set_ylim(0.7,1.01)\n",
    "plt.tight_layout()"
   ]
  },
  {
   "cell_type": "code",
   "execution_count": 13,
   "id": "b43e4c86",
   "metadata": {},
   "outputs": [
    {
     "data": {
      "image/png": "[encoded data removed]",
      "text/plain": [
       "<Figure size 1008x360 with 5 Axes>"
      ]
     },
     "metadata": {
      "needs_background": "light"
     },
     "output_type": "display_data"
    }
   ],
   "source": [
    "import seaborn as sb\n",
    "fig,axes = plt.subplots(1,len(dfs.values()),figsize=(14,5))\n",
    "for i, df_ in enumerate(dfs.values()):\n",
    "    ax = axes[i]\n",
    "    title = list(dfs.keys())[i]\n",
    "    _ = ax.set_ylim(0,10)\n",
    "    _ = ax.set_title(title)\n",
    "    _ = sb.violinplot(data=df_[['ED','ES']], ax=ax)"
   ]
  },
  {
   "cell_type": "markdown",
   "id": "607d91dd",
   "metadata": {},
   "source": [
    "# ACDC"
   ]
  },
  {
   "cell_type": "code",
   "execution_count": 17,
   "id": "ea789456",
   "metadata": {},
   "outputs": [
    {
     "data": {
      "application/vnd.jupyter.widget-view+json": {
       "model_id": "5ba0f41d529d4d8c983c86c47a6800e7",
       "version_major": 2,
       "version_minor": 0
      },
      "text/plain": [
       "interactive(children=(Dropdown(description='dataframe', options=('df_base', 'df_center', 'df_lv', 'df_sep', 'd…"
      ]
     },
     "metadata": {},
     "output_type": "display_data"
    }
   ],
   "source": [
    "import matplotlib.pyplot as plt\n",
    "dfs_acdc = {}\n",
    "dfs_acdc['df_base'] = df_merge\n",
    "dfs_acdc['df_center'] = pd.read_csv('/mnt/sds/sd20i001/sven/code/dynamic-cmr-models/exp/phasereg_v3/roll2/center/phaseloss0_2lstm32_acdc/2022-03-16_13_26/cfd.csv')\n",
    "dfs_acdc['df_lv'] = pd.read_csv('/mnt/sds/sd20i001/sven/code/dynamic-cmr-models/exp/phasereg_v3/roll2/lv/phaseloss0_2lstm32_acdc/2022-03-16_19_34/cfd.csv')\n",
    "dfs_acdc['df_sep'] = pd.read_csv('/mnt/sds/sd20i001/sven/code/dynamic-cmr-models/exp/phasereg_v3/roll2/septum/phaseloss0_2lstm32_acdc/2022-03-16_15_27/cfd.csv')\n",
    "dfs_acdc['df_mse'] = pd.read_csv('/mnt/sds/sd20i001/sven/code/dynamic-cmr-models/exp/phasereg_v3/roll2/mse/phaseloss0_2lstm32_acdc/2022-04-01_11_49/cfd.csv')\n",
    "@interact\n",
    "def calc_acc(dataframe = dfs_acdc.keys(),threshold=(0,10,1)):\n",
    "    \n",
    "    plt.rcParams.update({'font.size': 22})\n",
    "    fig,axes = plt.subplots(1,2,figsize=(14,5))\n",
    "    ax1, ax2 = axes\n",
    "    \n",
    "    df = dfs_acdc.get(dataframe)\n",
    "    print('{:1.2f}'.format((df['ED']<=threshold).sum()/len(df)))\n",
    "    print('{:1.2f}'.format((df['ES']<=threshold).sum()/len(df)))\n",
    "    threshs = list(range(10))\n",
    "    ed_acc = [(df['ED']<=t).sum()/len(df) for t in threshs]\n",
    "    es_acc = [(df['ES']<=t).sum()/len(df) for t in threshs]\n",
    "    \n",
    "    ax1.plot(threshs, ed_acc)\n",
    "    ax2.plot(threshs, es_acc)\n",
    "    ax1.legend(['vol', 'center', 'lv', 'sep'])\n",
    "    ax2.legend(['vol', 'center', 'lv', 'sep'])\n",
    "    ax1.set_xlabel('Threshold')\n",
    "    ax2.set_xlabel('Threshold')\n",
    "    ax1.set_ylabel('Accuracy phase ED')\n",
    "    ax2.set_ylabel('Accuracy phase ES')\n",
    "    ax1.set_ylim(0.7,1.01)\n",
    "    ax2.set_ylim(0.7,1.01)\n",
    "    plt.tight_layout()\n",
    "    plt.show()\n",
    "    return df.describe()"
   ]
  },
  {
   "cell_type": "code",
   "execution_count": 15,
   "id": "d36dd355",
   "metadata": {},
   "outputs": [
    {
     "data": {
      "image/png": "[encoded data removed]",
      "text/plain": [
       "<Figure size 1008x360 with 2 Axes>"
      ]
     },
     "metadata": {
      "needs_background": "light"
     },
     "output_type": "display_data"
    }
   ],
   "source": [
    "import matplotlib.pyplot as plt\n",
    "plt.rcParams.update({'font.size': 22})\n",
    "fig,axes = plt.subplots(1,2,figsize=(14,5))\n",
    "ax1, ax2 = axes\n",
    "\n",
    "threshs = list(range(10))\n",
    "ed_accs = []\n",
    "es_accs = []\n",
    "for df_ in dfs_acdc.values():\n",
    "    ed_accs.append([(df_['ED']<=t).sum()/len(df_) for t in threshs])\n",
    "    es_accs.append([(df_['ES']<=t).sum()/len(df_) for t in threshs])\n",
    "    \n",
    "for ed_acc,es_acc in zip(ed_accs,es_accs):\n",
    "    ax1.plot(threshs, ed_acc)\n",
    "    ax2.plot(threshs, es_acc)\n",
    "\n",
    "ax1.legend(list(dfs_acdc.keys()))\n",
    "ax2.legend(list(dfs_acdc.keys()))\n",
    "ax1.set_xlabel('Threshold')\n",
    "ax2.set_xlabel('Threshold')\n",
    "ax1.set_ylabel('Accuracy phase ED')\n",
    "ax2.set_ylabel('Accuracy phase ES')\n",
    "ax1.set_ylim(0.7,1.01)\n",
    "ax2.set_ylim(0.7,1.01)\n",
    "plt.tight_layout()"
   ]
  },
  {
   "cell_type": "code",
   "execution_count": 16,
   "id": "5961efb6",
   "metadata": {},
   "outputs": [
    {
     "data": {
      "image/png": "[encoded data removed]",
      "text/plain": [
       "<Figure size 1008x360 with 5 Axes>"
      ]
     },
     "metadata": {
      "needs_background": "light"
     },
     "output_type": "display_data"
    }
   ],
   "source": [
    "import seaborn as sb\n",
    "fig,axes = plt.subplots(1,len(dfs_acdc.values()),figsize=(14,5))\n",
    "for i, df_ in enumerate(dfs_acdc.values()):\n",
    "    ax = axes[i]\n",
    "    title = list(dfs_acdc.keys())[i]\n",
    "    _ = ax.set_ylim(0,10)\n",
    "    _ = ax.set_title(title)\n",
    "    _ = sb.violinplot(data=df_[['ED','ES']], ax=ax)\n",
    "plt.tight_layout()"
   ]
  },
  {
   "cell_type": "code",
   "execution_count": null,
   "id": "b0eee4c4",
   "metadata": {},
   "outputs": [],
   "source": []
  }
 ],
 "metadata": {
  "kernelspec": {
   "display_name": "dcmr",
   "language": "python",
   "name": "dcmr"
  },
  "language_info": {
   "codemirror_mode": {
    "name": "ipython",
    "version": 3
   },
   "file_extension": ".py",
   "mimetype": "text/x-python",
   "name": "python",
   "nbconvert_exporter": "python",
   "pygments_lexer": "ipython3",
   "version": "3.8.5"
  },
  "widgets": {
   "application/vnd.jupyter.widget-state+json": {
    "state": {},
    "version_major": 2,
    "version_minor": 0
   }
  }
 },
 "nbformat": 4,
 "nbformat_minor": 5
}
