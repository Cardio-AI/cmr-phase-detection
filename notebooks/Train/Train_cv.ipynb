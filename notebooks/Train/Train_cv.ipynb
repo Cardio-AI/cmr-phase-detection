{
 "cells": [
  {
   "cell_type": "code",
   "execution_count": 1,
   "metadata": {},
   "outputs": [
    {
     "name": "stdout",
     "output_type": "stream",
     "text": [
      "search for root_dir and set working directory\n",
      "Working directory set to: /mnt/ssd/git/dynamic-cmr-models\n",
      "['/gpu:0', '/gpu:1']\n"
     ]
    }
   ],
   "source": [
    "# ------------------------------------------define logging and working directory\n",
    "from ProjectRoot import change_wd_to_project_root\n",
    "change_wd_to_project_root()\n",
    "from src.utils.Tensorflow_helper import choose_gpu_by_id\n",
    "# ------------------------------------------define GPU id/s to use, if given\n",
    "GPU_IDS = '0,1'\n",
    "GPUS = choose_gpu_by_id(GPU_IDS)\n",
    "print(GPUS)\n",
    "# ------------------------------------------jupyter magic config\n",
    "%matplotlib inline\n",
    "%reload_ext autoreload\n",
    "%autoreload 2\n",
    "# ------------------------------------------ import helpers\n",
    "# this should import glob, os, and many other standard libs\n",
    "# local imports\n",
    "from src.utils.Notebook_imports import *\n",
    "from src.utils.Utils_io import Console_and_file_logger, init_config\n",
    "\n",
    "# import external libs\n",
    "from tensorflow.python.client import device_lib\n",
    "import tensorflow as tf\n",
    "tf.get_logger().setLevel('ERROR')\n",
    "import cv2\n",
    "import pandas as pd\n",
    "\n",
    "EXPERIMENT = 'cv_histmatchchoice_newdata/8_64_64__8_2_2_4tenc_conv1_MSE_NOnorm_augshiftrot_taug_5_batch8'\n",
    "#EXPERIMENT = 'baseline_label_transpose_smooth05/36_5_BiLSTM32_NoBn_conv5_size1_CCE_NOphaseaug_NOaug_b8'\n",
    "# EXPERIMENT = 'mased_scores/36_5_BiLSTM32_NoBn_conv5_size1_CCE_NOphaseaug_shift_rotate_reflectbordersgridaug'\n",
    "timestemp = str(datetime.datetime.now().strftime(\"%Y-%m-%d_%H_%M\")) # ad a timestep to each project to make repeated experiments unique\n",
    "\n",
    "EXPERIMENTS_ROOT = 'exp/'\n",
    "EXP_PATH = os.path.join(EXPERIMENTS_ROOT, EXPERIMENT, timestemp)\n",
    "MODEL_PATH = os.path.join(EXP_PATH, 'model', )\n",
    "TENSORBOARD_PATH = os.path.join(EXP_PATH, 'tensorboard_logs')\n",
    "CONFIG_PATH = os.path.join(EXP_PATH,'config')\n",
    "HISTORY_PATH = os.path.join(EXP_PATH, 'history')\n",
    "ensure_dir(MODEL_PATH)\n",
    "ensure_dir(TENSORBOARD_PATH)\n",
    "ensure_dir(CONFIG_PATH)\n",
    "ensure_dir(HISTORY_PATH)\n",
    "\n",
    "# define the input data paths and fold \n",
    "# first to the 4D Nrrd files, \n",
    "# second to a dataframe with a mapping of the Fold-number\n",
    "# Finally the path to the metadata\n",
    "DATA_PATH_SAX = '/mnt/ssd/data/gcn/02_imported_4D_unfiltered/SAX/'\n",
    "DF_FOLDS = '/mnt/ssd/data/gcn/02_imported_4D_unfiltered/df_kfold.csv'\n",
    "DF_META = '/mnt/ssd/data/gcn/02_imported_4D_unfiltered/SAx_3D_dicomTags_phase'\n",
    "FOLD = 0\n",
    "\n",
    "# General params\n",
    "SEED = 42 # define a seed for the generator shuffle\n",
    "BATCHSIZE = 8 # 32, 64, 24, 16, 1 for 3D use: 4\n",
    "GENERATOR_WORKER = BATCHSIZE # if not set, use batchsize\n",
    "EPOCHS = 100\n",
    "\n",
    "DIM = [8, 64, 64] # network input shape for spacing of 3, (z,y,x)\n",
    "T_SHAPE = 36\n",
    "SPACING = [8, 3, 3] # if resample, resample to this spacing, (z,y,x)\n",
    "\n",
    "# Model params\n",
    "DEPTH = 4 # depth of the encoder\n",
    "FILTERS = 32 # initial number of filters, will be doubled after each downsampling block\n",
    "M_POOL = [1, 2, 2]# size of max-pooling used for downsampling and upsampling\n",
    "F_SIZE = [3, 3, 3] # conv filter size\n",
    "BN_FIRST = False # decide if batch normalisation between conv and activation or afterwards, after nonlinear generalised better\n",
    "BATCH_NORMALISATION = True # apply BN or not\n",
    "PAD = 'same' # padding strategy of the conv layers\n",
    "KERNEL_INIT = 'he_normal' # conv weight initialisation\n",
    "OPTIMIZER = 'adam' # Adam, Adagrad, RMSprop, Adadelta,  # https://keras.io/optimizers/\n",
    "ACTIVATION = 'relu' # tf.keras.layers.LeakyReLU(), relu or any other non linear activation function\n",
    "FINAL_ACTIVATION = 'relu' # one of : 'relu', 'softmax'\n",
    "LOSS = 'meandiff' # one of 'mse', 'cce' or 'meandiff'\n",
    "LEARNING_RATE = 1e-4 # start with a huge lr to converge fast\n",
    "REDUCE_LR_ON_PLAEAU_PATIENCE = 5\n",
    "DECAY_FACTOR = 0.7 # Define a learning rate decay for the ReduceLROnPlateau callback\n",
    "POLY_LR_DECAY = False\n",
    "MIN_LR = 1e-12 # minimal lr, smaller lr does not improve the model\n",
    "DROPOUT_min = 0.3 # lower dropout at the shallow layers\n",
    "DROPOUT_max = 0.5 # higher dropout at the deep layers\n",
    "\n",
    "# Callback params\n",
    "MONITOR_FUNCTION = 'loss'\n",
    "MONITOR_MODE = 'min'\n",
    "SAVE_MODEL_FUNCTION = 'loss'\n",
    "SAVE_MODEL_MODE = 'min'\n",
    "EARLY_STOPPING_PATIENCE = 20\n",
    "SAVE_LEARNING_PROGRESS_AS_TF = True\n",
    "\n",
    "# Generator and Augmentation params\n",
    "BORDER_MODE = cv2.BORDER_REFLECT_101 # border mode for the data generation\n",
    "IMG_INTERPOLATION = cv2.INTER_LINEAR # image interpolation in the genarator\n",
    "MSK_INTERPOLATION = cv2.INTER_NEAREST # mask interpolation in the generator\n",
    "AUGMENT = True # a compose of 2D augmentation (grid distortion, 90degree rotation, brightness and shift)\n",
    "AUGMENT_PROB = 0.8\n",
    "AUGMENT_PHASES = True\n",
    "AUGMENT_PHASES_RANGE = (-5,5)\n",
    "REPEAT_ONEHOT = True\n",
    "SHUFFLE = True\n",
    "RESAMPLE = True\n",
    "HIST_MATCHING = True\n",
    "SCALER = 'MinMax' # MinMax, Standard or Robust\n",
    "# We define 5 target phases and a background phase for the pad/empty volumes \n",
    "PHASES = len(['ED#', 'MS#', 'ES#', 'PF#', 'MD#']) # skipped 'pad backround manually added', due to repeating\n",
    "TARGET_SMOOTHING = True\n",
    "SMOOTHING_KERNEL_SIZE = 12\n",
    "SMOOTHING_LOWER_BORDER = 1\n",
    "SMOOTHING_UPPER_BORDER = 5\n",
    "SMOOTHING_WEIGHT_CORRECT = 10\n",
    "config = init_config(config=locals(), save=True)"
   ]
  },
  {
   "cell_type": "code",
   "execution_count": 2,
   "metadata": {},
   "outputs": [
    {
     "name": "stderr",
     "output_type": "stream",
     "text": [
      "2021-03-23 15:46:40,642 INFO -------------------- Start --------------------\n",
      "2021-03-23 15:46:40,643 INFO Working directory: /mnt/ssd/git/dynamic-cmr-models.\n",
      "2021-03-23 15:46:40,643 INFO Log file: ./logs/cv_histmatchchoice_newdata/8_64_64__8_2_2_4tenc_conv1_MSE_NOnorm_augshiftrot_taug_5_batch8_f0.log\n",
      "2021-03-23 15:46:40,644 INFO Log level for console: INFO\n",
      "2021-03-23 15:46:40,645 INFO Is built with tensorflow: True\n",
      "2021-03-23 15:46:40,702 INFO Visible devices:\n",
      "[PhysicalDevice(name='/physical_device:CPU:0', device_type='CPU'), PhysicalDevice(name='/physical_device:XLA_CPU:0', device_type='XLA_CPU'), PhysicalDevice(name='/physical_device:XLA_GPU:0', device_type='XLA_GPU'), PhysicalDevice(name='/physical_device:XLA_GPU:1', device_type='XLA_GPU'), PhysicalDevice(name='/physical_device:GPU:0', device_type='GPU'), PhysicalDevice(name='/physical_device:GPU:1', device_type='GPU')]\n"
     ]
    },
    {
     "name": "stdout",
     "output_type": "stream",
     "text": [
      "['/gpu:0', '/gpu:1']\n",
      "{'GPU_IDS': '0,1', 'GPUS': ['/gpu:0', '/gpu:1'], 'SEED': 42, 'EXPERIMENT': 'cv_histmatchchoice_newdata/8_64_64__8_2_2_4tenc_conv1_MSE_NOnorm_augshiftrot_taug_5_batch8_f0', 'EXPERIMENTS_ROOT': 'exp/', 'EXP_PATH': 'exp/cv_histmatchchoice_newdata/8_64_64__8_2_2_4tenc_conv1_MSE_NOnorm_augshiftrot_taug_5_batch8_f0/2021-03-23_15_46', 'MODEL_PATH': 'exp/cv_histmatchchoice_newdata/8_64_64__8_2_2_4tenc_conv1_MSE_NOnorm_augshiftrot_taug_5_batch8_f0/2021-03-23_15_46/model', 'TENSORBOARD_PATH': 'exp/cv_histmatchchoice_newdata/8_64_64__8_2_2_4tenc_conv1_MSE_NOnorm_augshiftrot_taug_5_batch8_f0/2021-03-23_15_46/tensorboard_logs', 'CONFIG_PATH': 'exp/cv_histmatchchoice_newdata/8_64_64__8_2_2_4tenc_conv1_MSE_NOnorm_augshiftrot_taug_5_batch8_f0/2021-03-23_15_46/config', 'HISTORY_PATH': 'exp/cv_histmatchchoice_newdata/8_64_64__8_2_2_4tenc_conv1_MSE_NOnorm_augshiftrot_taug_5_batch8_f0/2021-03-23_15_46/history', 'DATA_PATH_SAX': '/mnt/ssd/data/gcn/02_imported_4D_unfiltered/SAX/', 'DF_FOLDS': '/mnt/ssd/data/gcn/02_imported_4D_unfiltered/df_kfold.csv', 'DF_META': '/mnt/ssd/data/gcn/02_imported_4D_unfiltered/SAx_3D_dicomTags_phase', 'FOLD': 0, 'BATCHSIZE': 8, 'GENERATOR_WORKER': 8, 'EPOCHS': 100, 'DIM': [8, 64, 64], 'T_SHAPE': 36, 'SPACING': [8, 3, 3], 'DEPTH': 4, 'FILTERS': 32, 'M_POOL': [1, 2, 2], 'F_SIZE': [3, 3, 3], 'BN_FIRST': False, 'BATCH_NORMALISATION': True, 'PAD': 'same', 'KERNEL_INIT': 'he_normal', 'OPTIMIZER': 'adam', 'ACTIVATION': 'relu', 'LEARNING_RATE': 0.0001, 'REDUCE_LR_ON_PLAEAU_PATIENCE': 5, 'DECAY_FACTOR': 0.7, 'POLY_LR_DECAY': False, 'MIN_LR': 1e-12, 'MONITOR_FUNCTION': 'loss', 'MONITOR_MODE': 'min', 'SAVE_MODEL_FUNCTION': 'loss', 'SAVE_MODEL_MODE': 'min', 'MODEL_PATIENCE': 20, 'SAVE_LEARNING_PROGRESS_AS_TF': True, 'BORDER_MODE': 4, 'IMG_INTERPOLATION': 1, 'MSK_INTERPOLATION': 0, 'AUGMENT': True, 'AUGMENT_PROB': 0.8, 'AUGMENT_PHASES': True, 'AUGMENT_PHASES_RANGE': (-5, 5), 'REPEAT_ONEHOT': True, 'SHUFFLE': True, 'RESAMPLE': True, 'HIST_MATCHING': True, 'SCALER': 'MinMax', 'PHASES': 5, 'TARGET_SMOOTHING': True, 'SMOOTHING_KERNEL_SIZE': 12, 'SMOOTHING_LOWER_BORDER': 1, 'SMOOTHING_UPPER_BORDER': 5, 'SMOOTHING_WEIGHT_CORRECT': 10, 'TENSORBOARD_LOG_DIR': 'reports/tensorboard_logs/cv_histmatchchoice_newdata/8_64_64__8_2_2_4tenc_conv1_MSE_NOnorm_augshiftrot_taug_5_batch8'}\n"
     ]
    },
    {
     "name": "stderr",
     "output_type": "stream",
     "text": [
      "2021-03-23 15:46:41,345 INFO Local devices: \n",
      " [name: \"/device:CPU:0\"\n",
      "device_type: \"CPU\"\n",
      "memory_limit: 268435456\n",
      "locality {\n",
      "}\n",
      "incarnation: 1716825048813938329\n",
      ", name: \"/device:XLA_CPU:0\"\n",
      "device_type: \"XLA_CPU\"\n",
      "memory_limit: 17179869184\n",
      "locality {\n",
      "}\n",
      "incarnation: 17466490617820491370\n",
      "physical_device_desc: \"device: XLA_CPU device\"\n",
      ", name: \"/device:XLA_GPU:0\"\n",
      "device_type: \"XLA_GPU\"\n",
      "memory_limit: 17179869184\n",
      "locality {\n",
      "}\n",
      "incarnation: 8539373111002521141\n",
      "physical_device_desc: \"device: XLA_GPU device\"\n",
      ", name: \"/device:XLA_GPU:1\"\n",
      "device_type: \"XLA_GPU\"\n",
      "memory_limit: 17179869184\n",
      "locality {\n",
      "}\n",
      "incarnation: 832842948216716876\n",
      "physical_device_desc: \"device: XLA_GPU device\"\n",
      ", name: \"/device:GPU:0\"\n",
      "device_type: \"GPU\"\n",
      "memory_limit: 23116224896\n",
      "locality {\n",
      "  bus_id: 1\n",
      "  links {\n",
      "  }\n",
      "}\n",
      "incarnation: 463204975248106069\n",
      "physical_device_desc: \"device: 0, name: TITAN RTX, pci bus id: 0000:01:00.0, compute capability: 7.5\"\n",
      ", name: \"/device:GPU:1\"\n",
      "device_type: \"GPU\"\n",
      "memory_limit: 23561682304\n",
      "locality {\n",
      "  bus_id: 1\n",
      "  links {\n",
      "  }\n",
      "}\n",
      "incarnation: 1906265113639677568\n",
      "physical_device_desc: \"device: 1, name: TITAN RTX, pci bus id: 0000:02:00.0, compute capability: 7.5\"\n",
      "]\n",
      "2021-03-23 15:46:41,347 INFO no files found, try to load with clean.nrrd/mask.nrrd pattern\n",
      "2021-03-23 15:46:41,354 INFO Found 278 images/masks in /mnt/ssd/data/gcn/02_imported_4D_unfiltered/SAX/\n",
      "2021-03-23 15:46:41,355 INFO Patients train: 209\n",
      "2021-03-23 15:46:41,366 INFO Selected 209 of 278 files with 209 of 279 patients for training fold 0\n",
      "2021-03-23 15:46:41,367 INFO SAX train CMR: 209, SAX train masks: 209\n",
      "2021-03-23 15:46:41,367 INFO SAX val CMR: 69, SAX val masks: 69\n",
      "2021-03-23 15:46:41,381 INFO Check if we find the patient ID and phase mapping for all: 278 files.\n",
      "2021-03-23 15:46:41,654 INFO Done!\n",
      "2021-03-23 15:46:41,659 INFO Create DataGenerator\n",
      "2021-03-23 15:46:41,660 INFO Datagenerator created with: \n",
      " shape: [8, 64, 64]\n",
      " spacing: [8, 3, 3]\n",
      " batchsize: 8\n",
      " Scaler: MinMax\n",
      " Images: 209 \n",
      " Augment: True \n",
      " Thread workers: 8\n",
      "2021-03-23 15:46:41,660 INFO Data will be augmented (shift,scale and rotate) with albumentation\n",
      "2021-03-23 15:46:41,674 INFO Smoothing kernel: \n",
      "[ 1.   1.8  2.6  3.4  4.2  5.  10.   5.   4.2  3.4  2.6  1.8  1. ]\n",
      "2021-03-23 15:46:41,674 INFO Temporal phase augmentation: \n",
      "True\n",
      "Repeat volume: \n",
      "True\n",
      "2021-03-23 15:46:41,674 INFO Create DataGenerator\n",
      "2021-03-23 15:46:41,675 INFO Datagenerator created with: \n",
      " shape: [8, 64, 64]\n",
      " spacing: [8, 3, 3]\n",
      " batchsize: 8\n",
      " Scaler: MinMax\n",
      " Images: 69 \n",
      " Augment: False \n",
      " Thread workers: 8\n",
      "2021-03-23 15:46:41,675 INFO No augmentation\n",
      "2021-03-23 15:46:41,688 INFO Smoothing kernel: \n",
      "[ 1.   1.8  2.6  3.4  4.2  5.  10.   5.   4.2  3.4  2.6  1.8  1. ]\n",
      "2021-03-23 15:46:41,689 INFO Temporal phase augmentation: \n",
      "False\n",
      "Repeat volume: \n",
      "True\n"
     ]
    },
    {
     "name": "stdout",
     "output_type": "stream",
     "text": [
      "Shape after the temporal encoder\n",
      "(None, 36, 8, 4, 4, 512)\n",
      "Shape after GAP\n",
      "(None, 36, 512)\n",
      "Shape after Bi-LSTM layer\n",
      "(None, 36, 512)\n",
      "Shape after final conv layer\n",
      "(None, 36, 5)\n"
     ]
    },
    {
     "name": "stderr",
     "output_type": "stream",
     "text": [
      "2021-03-23 15:46:47,032 INFO feed 4 Tensorboard is ready\n"
     ]
    },
    {
     "name": "stdout",
     "output_type": "stream",
     "text": [
      "Epoch 1/100\n",
      "26/26 [==============================] - ETA: 0s - loss: 1.1973 - mse_wrapper: 1.1973 - ca_wrapper: 0.3843 - meandiff: 15.8125"
     ]
    },
    {
     "name": "stderr",
     "output_type": "stream",
     "text": [
      "2021-03-23 15:48:32,910 INFO (4, 2, 36, 5)\n",
      "2021-03-23 15:48:33,707 INFO (4, 2, 36, 5)\n"
     ]
    },
    {
     "name": "stdout",
     "output_type": "stream",
     "text": [
      "\n",
      "Epoch 00001: loss improved from inf to 1.19732, saving model to exp/cv_histmatchchoice_newdata/8_64_64__8_2_2_4tenc_conv1_MSE_NOnorm_augshiftrot_taug_5_batch8_f0/2021-03-23_15_46/model/model.h5\n",
      "26/26 [==============================] - 72s 3s/step - loss: 1.1973 - mse_wrapper: 1.1973 - ca_wrapper: 0.3843 - meandiff: 15.8125 - val_loss: 1.6980 - val_mse_wrapper: 1.6980 - val_ca_wrapper: 0.4453 - val_meandiff: 12.1250 - lr: 1.0000e-04\n",
      "Epoch 2/100\n",
      "26/26 [==============================] - ETA: 0s - loss: 0.8971 - mse_wrapper: 0.8971 - ca_wrapper: 0.5731 - meandiff: 9.7788"
     ]
    },
    {
     "name": "stderr",
     "output_type": "stream",
     "text": [
      "2021-03-23 15:49:46,617 INFO (4, 2, 36, 5)\n",
      "2021-03-23 15:49:47,165 INFO (4, 2, 36, 5)\n"
     ]
    },
    {
     "name": "stdout",
     "output_type": "stream",
     "text": [
      "\n",
      "Epoch 00002: loss improved from 1.19732 to 0.89709, saving model to exp/cv_histmatchchoice_newdata/8_64_64__8_2_2_4tenc_conv1_MSE_NOnorm_augshiftrot_taug_5_batch8_f0/2021-03-23_15_46/model/model.h5\n",
      "26/26 [==============================] - 70s 3s/step - loss: 0.8971 - mse_wrapper: 0.8971 - ca_wrapper: 0.5731 - meandiff: 9.7788 - val_loss: 1.1666 - val_mse_wrapper: 1.1666 - val_ca_wrapper: 0.4310 - val_meandiff: 10.2188 - lr: 1.0000e-04\n",
      "Epoch 3/100\n",
      "26/26 [==============================] - ETA: 0s - loss: 0.7804 - mse_wrapper: 0.7804 - ca_wrapper: 0.6745 - meandiff: 7.7837"
     ]
    },
    {
     "name": "stderr",
     "output_type": "stream",
     "text": [
      "2021-03-23 15:50:53,468 INFO (4, 2, 36, 5)\n",
      "2021-03-23 15:50:53,995 INFO (4, 2, 36, 5)\n"
     ]
    },
    {
     "name": "stdout",
     "output_type": "stream",
     "text": [
      "\n",
      "Epoch 00003: loss improved from 0.89709 to 0.78036, saving model to exp/cv_histmatchchoice_newdata/8_64_64__8_2_2_4tenc_conv1_MSE_NOnorm_augshiftrot_taug_5_batch8_f0/2021-03-23_15_46/model/model.h5\n",
      "26/26 [==============================] - 64s 2s/step - loss: 0.7804 - mse_wrapper: 0.7804 - ca_wrapper: 0.6745 - meandiff: 7.7837 - val_loss: 1.1622 - val_mse_wrapper: 1.1622 - val_ca_wrapper: 0.4227 - val_meandiff: 6.8750 - lr: 1.0000e-04\n",
      "Epoch 4/100\n",
      "26/26 [==============================] - ETA: 0s - loss: 0.7279 - mse_wrapper: 0.7279 - ca_wrapper: 0.7026 - meandiff: 6.7163"
     ]
    },
    {
     "name": "stderr",
     "output_type": "stream",
     "text": [
      "2021-03-23 15:52:09,769 INFO (4, 2, 36, 5)\n",
      "2021-03-23 15:52:10,343 INFO (4, 2, 36, 5)\n"
     ]
    },
    {
     "name": "stdout",
     "output_type": "stream",
     "text": [
      "\n",
      "Epoch 00004: loss improved from 0.78036 to 0.72795, saving model to exp/cv_histmatchchoice_newdata/8_64_64__8_2_2_4tenc_conv1_MSE_NOnorm_augshiftrot_taug_5_batch8_f0/2021-03-23_15_46/model/model.h5\n",
      "26/26 [==============================] - 73s 3s/step - loss: 0.7279 - mse_wrapper: 0.7279 - ca_wrapper: 0.7026 - meandiff: 6.7163 - val_loss: 1.2057 - val_mse_wrapper: 1.2057 - val_ca_wrapper: 0.6549 - val_meandiff: 6.5938 - lr: 1.0000e-04\n",
      "Epoch 5/100\n",
      "26/26 [==============================] - ETA: 0s - loss: 0.6529 - mse_wrapper: 0.6529 - ca_wrapper: 0.7386 - meandiff: 6.1106\n",
      "Epoch 00005: loss improved from 0.72795 to 0.65289, saving model to exp/cv_histmatchchoice_newdata/8_64_64__8_2_2_4tenc_conv1_MSE_NOnorm_augshiftrot_taug_5_batch8_f0/2021-03-23_15_46/model/model.h5\n",
      "26/26 [==============================] - 65s 3s/step - loss: 0.6529 - mse_wrapper: 0.6529 - ca_wrapper: 0.7386 - meandiff: 6.1106 - val_loss: 1.3971 - val_mse_wrapper: 1.3971 - val_ca_wrapper: 0.6749 - val_meandiff: 5.7500 - lr: 1.0000e-04\n",
      "Epoch 6/100\n",
      "26/26 [==============================] - ETA: 0s - loss: 0.6204 - mse_wrapper: 0.6204 - ca_wrapper: 0.7557 - meandiff: 5.8365"
     ]
    },
    {
     "name": "stderr",
     "output_type": "stream",
     "text": [
      "2021-03-23 15:54:34,724 INFO (4, 2, 36, 5)\n",
      "2021-03-23 15:54:35,280 INFO (4, 2, 36, 5)\n"
     ]
    },
    {
     "name": "stdout",
     "output_type": "stream",
     "text": [
      "\n",
      "Epoch 00006: loss improved from 0.65289 to 0.62037, saving model to exp/cv_histmatchchoice_newdata/8_64_64__8_2_2_4tenc_conv1_MSE_NOnorm_augshiftrot_taug_5_batch8_f0/2021-03-23_15_46/model/model.h5\n",
      "26/26 [==============================] - 74s 3s/step - loss: 0.6204 - mse_wrapper: 0.6204 - ca_wrapper: 0.7557 - meandiff: 5.8365 - val_loss: 1.2879 - val_mse_wrapper: 1.2879 - val_ca_wrapper: 0.7014 - val_meandiff: 5.0000 - lr: 1.0000e-04\n",
      "Epoch 7/100\n",
      "26/26 [==============================] - ETA: 0s - loss: 0.5995 - mse_wrapper: 0.5995 - ca_wrapper: 0.7654 - meandiff: 5.2356\n",
      "Epoch 00007: loss improved from 0.62037 to 0.59949, saving model to exp/cv_histmatchchoice_newdata/8_64_64__8_2_2_4tenc_conv1_MSE_NOnorm_augshiftrot_taug_5_batch8_f0/2021-03-23_15_46/model/model.h5\n",
      "26/26 [==============================] - 69s 3s/step - loss: 0.5995 - mse_wrapper: 0.5995 - ca_wrapper: 0.7654 - meandiff: 5.2356 - val_loss: 0.8702 - val_mse_wrapper: 0.8702 - val_ca_wrapper: 0.6719 - val_meandiff: 5.3125 - lr: 1.0000e-04\n",
      "Epoch 8/100\n",
      "26/26 [==============================] - ETA: 0s - loss: 0.5702 - mse_wrapper: 0.5702 - ca_wrapper: 0.7802 - meandiff: 4.9087"
     ]
    },
    {
     "name": "stderr",
     "output_type": "stream",
     "text": [
      "2021-03-23 15:57:07,967 INFO (4, 2, 36, 5)\n",
      "2021-03-23 15:57:08,508 INFO (4, 2, 36, 5)\n"
     ]
    },
    {
     "name": "stdout",
     "output_type": "stream",
     "text": [
      "\n",
      "Epoch 00008: loss improved from 0.59949 to 0.57016, saving model to exp/cv_histmatchchoice_newdata/8_64_64__8_2_2_4tenc_conv1_MSE_NOnorm_augshiftrot_taug_5_batch8_f0/2021-03-23_15_46/model/model.h5\n",
      "26/26 [==============================] - 73s 3s/step - loss: 0.5702 - mse_wrapper: 0.5702 - ca_wrapper: 0.7802 - meandiff: 4.9087 - val_loss: 1.3557 - val_mse_wrapper: 1.3557 - val_ca_wrapper: 0.6992 - val_meandiff: 4.9219 - lr: 1.0000e-04\n",
      "Epoch 9/100\n",
      "26/26 [==============================] - ETA: 0s - loss: 0.5648 - mse_wrapper: 0.5648 - ca_wrapper: 0.7699 - meandiff: 5.3942\n",
      "Epoch 00009: loss improved from 0.57016 to 0.56477, saving model to exp/cv_histmatchchoice_newdata/8_64_64__8_2_2_4tenc_conv1_MSE_NOnorm_augshiftrot_taug_5_batch8_f0/2021-03-23_15_46/model/model.h5\n",
      "26/26 [==============================] - 67s 3s/step - loss: 0.5648 - mse_wrapper: 0.5648 - ca_wrapper: 0.7699 - meandiff: 5.3942 - val_loss: 0.9827 - val_mse_wrapper: 0.9827 - val_ca_wrapper: 0.7331 - val_meandiff: 4.6562 - lr: 1.0000e-04\n",
      "Epoch 10/100\n",
      "26/26 [==============================] - ETA: 0s - loss: 0.5344 - mse_wrapper: 0.5344 - ca_wrapper: 0.7939 - meandiff: 4.5096"
     ]
    },
    {
     "name": "stderr",
     "output_type": "stream",
     "text": [
      "2021-03-23 15:59:46,462 INFO (4, 2, 36, 5)\n",
      "2021-03-23 15:59:47,313 INFO (4, 2, 36, 5)\n"
     ]
    },
    {
     "name": "stdout",
     "output_type": "stream",
     "text": [
      "\n",
      "Epoch 00010: loss improved from 0.56477 to 0.53436, saving model to exp/cv_histmatchchoice_newdata/8_64_64__8_2_2_4tenc_conv1_MSE_NOnorm_augshiftrot_taug_5_batch8_f0/2021-03-23_15_46/model/model.h5\n",
      "26/26 [==============================] - 81s 3s/step - loss: 0.5344 - mse_wrapper: 0.5344 - ca_wrapper: 0.7939 - meandiff: 4.5096 - val_loss: 0.7935 - val_mse_wrapper: 0.7935 - val_ca_wrapper: 0.7873 - val_meandiff: 3.8438 - lr: 1.0000e-04\n",
      "Epoch 11/100\n",
      "26/26 [==============================] - ETA: 0s - loss: 0.5214 - mse_wrapper: 0.5214 - ca_wrapper: 0.7915 - meandiff: 4.5625\n",
      "Epoch 00011: loss improved from 0.53436 to 0.52138, saving model to exp/cv_histmatchchoice_newdata/8_64_64__8_2_2_4tenc_conv1_MSE_NOnorm_augshiftrot_taug_5_batch8_f0/2021-03-23_15_46/model/model.h5\n",
      "26/26 [==============================] - 67s 3s/step - loss: 0.5214 - mse_wrapper: 0.5214 - ca_wrapper: 0.7915 - meandiff: 4.5625 - val_loss: 0.7782 - val_mse_wrapper: 0.7782 - val_ca_wrapper: 0.7930 - val_meandiff: 4.5469 - lr: 1.0000e-04\n",
      "Epoch 12/100\n",
      "26/26 [==============================] - ETA: 0s - loss: 0.5397 - mse_wrapper: 0.5397 - ca_wrapper: 0.7921 - meandiff: 4.5529"
     ]
    },
    {
     "name": "stderr",
     "output_type": "stream",
     "text": [
      "2021-03-23 16:02:16,546 INFO (4, 2, 36, 5)\n",
      "2021-03-23 16:02:17,092 INFO (4, 2, 36, 5)\n"
     ]
    },
    {
     "name": "stdout",
     "output_type": "stream",
     "text": [
      "\n",
      "Epoch 00012: loss did not improve from 0.52138\n",
      "26/26 [==============================] - 76s 3s/step - loss: 0.5397 - mse_wrapper: 0.5397 - ca_wrapper: 0.7921 - meandiff: 4.5529 - val_loss: 0.6253 - val_mse_wrapper: 0.6253 - val_ca_wrapper: 0.7700 - val_meandiff: 4.7344 - lr: 1.0000e-04\n",
      "Epoch 13/100\n",
      "26/26 [==============================] - ETA: 0s - loss: 0.5072 - mse_wrapper: 0.5072 - ca_wrapper: 0.7985 - meandiff: 4.2788\n",
      "Epoch 00013: loss improved from 0.52138 to 0.50717, saving model to exp/cv_histmatchchoice_newdata/8_64_64__8_2_2_4tenc_conv1_MSE_NOnorm_augshiftrot_taug_5_batch8_f0/2021-03-23_15_46/model/model.h5\n",
      "26/26 [==============================] - 72s 3s/step - loss: 0.5072 - mse_wrapper: 0.5072 - ca_wrapper: 0.7985 - meandiff: 4.2788 - val_loss: 0.7316 - val_mse_wrapper: 0.7316 - val_ca_wrapper: 0.7765 - val_meandiff: 3.8594 - lr: 1.0000e-04\n",
      "Epoch 14/100\n",
      "26/26 [==============================] - ETA: 0s - loss: 0.5034 - mse_wrapper: 0.5034 - ca_wrapper: 0.8054 - meandiff: 4.2692"
     ]
    },
    {
     "name": "stderr",
     "output_type": "stream",
     "text": [
      "2021-03-23 16:04:42,559 INFO (4, 2, 36, 5)\n",
      "2021-03-23 16:04:43,145 INFO (4, 2, 36, 5)\n"
     ]
    },
    {
     "name": "stdout",
     "output_type": "stream",
     "text": [
      "\n",
      "Epoch 00014: loss improved from 0.50717 to 0.50339, saving model to exp/cv_histmatchchoice_newdata/8_64_64__8_2_2_4tenc_conv1_MSE_NOnorm_augshiftrot_taug_5_batch8_f0/2021-03-23_15_46/model/model.h5\n",
      "26/26 [==============================] - 69s 3s/step - loss: 0.5034 - mse_wrapper: 0.5034 - ca_wrapper: 0.8054 - meandiff: 4.2692 - val_loss: 0.6206 - val_mse_wrapper: 0.6206 - val_ca_wrapper: 0.7839 - val_meandiff: 3.8281 - lr: 1.0000e-04\n",
      "Epoch 15/100\n",
      "26/26 [==============================] - ETA: 0s - loss: 0.5080 - mse_wrapper: 0.5080 - ca_wrapper: 0.7999 - meandiff: 4.1010\n",
      "Epoch 00015: loss did not improve from 0.50339\n",
      "26/26 [==============================] - 71s 3s/step - loss: 0.5080 - mse_wrapper: 0.5080 - ca_wrapper: 0.7999 - meandiff: 4.1010 - val_loss: 0.9458 - val_mse_wrapper: 0.9458 - val_ca_wrapper: 0.7457 - val_meandiff: 4.0781 - lr: 1.0000e-04\n",
      "Epoch 16/100\n",
      "26/26 [==============================] - ETA: 0s - loss: 0.4869 - mse_wrapper: 0.4869 - ca_wrapper: 0.8113 - meandiff: 4.1154"
     ]
    },
    {
     "name": "stderr",
     "output_type": "stream",
     "text": [
      "2021-03-23 16:07:09,635 INFO (4, 2, 36, 5)\n",
      "2021-03-23 16:07:10,152 INFO (4, 2, 36, 5)\n"
     ]
    },
    {
     "name": "stdout",
     "output_type": "stream",
     "text": [
      "\n",
      "Epoch 00016: loss improved from 0.50339 to 0.48687, saving model to exp/cv_histmatchchoice_newdata/8_64_64__8_2_2_4tenc_conv1_MSE_NOnorm_augshiftrot_taug_5_batch8_f0/2021-03-23_15_46/model/model.h5\n",
      "26/26 [==============================] - 69s 3s/step - loss: 0.4869 - mse_wrapper: 0.4869 - ca_wrapper: 0.8113 - meandiff: 4.1154 - val_loss: 0.7663 - val_mse_wrapper: 0.7663 - val_ca_wrapper: 0.7713 - val_meandiff: 4.2344 - lr: 1.0000e-04\n",
      "Epoch 17/100\n",
      "26/26 [==============================] - ETA: 0s - loss: 0.4945 - mse_wrapper: 0.4945 - ca_wrapper: 0.8041 - meandiff: 4.2500\n",
      "Epoch 00017: loss did not improve from 0.48687\n",
      "26/26 [==============================] - 73s 3s/step - loss: 0.4945 - mse_wrapper: 0.4945 - ca_wrapper: 0.8041 - meandiff: 4.2500 - val_loss: 1.2847 - val_mse_wrapper: 1.2847 - val_ca_wrapper: 0.7183 - val_meandiff: 4.2188 - lr: 1.0000e-04\n",
      "Epoch 18/100\n",
      "26/26 [==============================] - ETA: 0s - loss: 0.4837 - mse_wrapper: 0.4837 - ca_wrapper: 0.8149 - meandiff: 4.1250"
     ]
    },
    {
     "name": "stderr",
     "output_type": "stream",
     "text": [
      "2021-03-23 16:09:47,975 INFO (4, 2, 36, 5)\n",
      "2021-03-23 16:09:48,512 INFO (4, 2, 36, 5)\n"
     ]
    },
    {
     "name": "stdout",
     "output_type": "stream",
     "text": [
      "\n",
      "Epoch 00018: loss improved from 0.48687 to 0.48374, saving model to exp/cv_histmatchchoice_newdata/8_64_64__8_2_2_4tenc_conv1_MSE_NOnorm_augshiftrot_taug_5_batch8_f0/2021-03-23_15_46/model/model.h5\n",
      "26/26 [==============================] - 78s 3s/step - loss: 0.4837 - mse_wrapper: 0.4837 - ca_wrapper: 0.8149 - meandiff: 4.1250 - val_loss: 0.6649 - val_mse_wrapper: 0.6649 - val_ca_wrapper: 0.7917 - val_meandiff: 4.1250 - lr: 1.0000e-04\n",
      "Epoch 19/100\n",
      "26/26 [==============================] - ETA: 0s - loss: 0.4845 - mse_wrapper: 0.4845 - ca_wrapper: 0.8061 - meandiff: 4.1154\n",
      "Epoch 00019: loss did not improve from 0.48374\n",
      "26/26 [==============================] - 69s 3s/step - loss: 0.4845 - mse_wrapper: 0.4845 - ca_wrapper: 0.8061 - meandiff: 4.1154 - val_loss: 1.0841 - val_mse_wrapper: 1.0841 - val_ca_wrapper: 0.7387 - val_meandiff: 3.7812 - lr: 1.0000e-04\n",
      "Epoch 20/100\n",
      "26/26 [==============================] - ETA: 0s - loss: 0.4896 - mse_wrapper: 0.4896 - ca_wrapper: 0.8066 - meandiff: 4.0721"
     ]
    },
    {
     "name": "stderr",
     "output_type": "stream",
     "text": [
      "2021-03-23 16:12:09,533 INFO (4, 2, 36, 5)\n",
      "2021-03-23 16:12:10,066 INFO (4, 2, 36, 5)\n"
     ]
    },
    {
     "name": "stdout",
     "output_type": "stream",
     "text": [
      "\n",
      "Epoch 00020: loss did not improve from 0.48374\n",
      "26/26 [==============================] - 65s 3s/step - loss: 0.4896 - mse_wrapper: 0.4896 - ca_wrapper: 0.8066 - meandiff: 4.0721 - val_loss: 1.2923 - val_mse_wrapper: 1.2923 - val_ca_wrapper: 0.7205 - val_meandiff: 4.3281 - lr: 1.0000e-04\n",
      "Epoch 21/100\n",
      "26/26 [==============================] - ETA: 0s - loss: 0.4708 - mse_wrapper: 0.4708 - ca_wrapper: 0.8122 - meandiff: 3.9615\n",
      "Epoch 00021: loss improved from 0.48374 to 0.47076, saving model to exp/cv_histmatchchoice_newdata/8_64_64__8_2_2_4tenc_conv1_MSE_NOnorm_augshiftrot_taug_5_batch8_f0/2021-03-23_15_46/model/model.h5\n",
      "26/26 [==============================] - 67s 3s/step - loss: 0.4708 - mse_wrapper: 0.4708 - ca_wrapper: 0.8122 - meandiff: 3.9615 - val_loss: 1.0568 - val_mse_wrapper: 1.0568 - val_ca_wrapper: 0.7439 - val_meandiff: 4.3594 - lr: 1.0000e-04\n",
      "Epoch 22/100\n",
      "26/26 [==============================] - ETA: 0s - loss: 0.4617 - mse_wrapper: 0.4617 - ca_wrapper: 0.8237 - meandiff: 3.8077"
     ]
    },
    {
     "name": "stderr",
     "output_type": "stream",
     "text": [
      "2021-03-23 16:14:32,440 INFO (4, 2, 36, 5)\n",
      "2021-03-23 16:14:32,972 INFO (4, 2, 36, 5)\n"
     ]
    },
    {
     "name": "stdout",
     "output_type": "stream",
     "text": [
      "\n",
      "Epoch 00022: loss improved from 0.47076 to 0.46166, saving model to exp/cv_histmatchchoice_newdata/8_64_64__8_2_2_4tenc_conv1_MSE_NOnorm_augshiftrot_taug_5_batch8_f0/2021-03-23_15_46/model/model.h5\n",
      "26/26 [==============================] - 70s 3s/step - loss: 0.4617 - mse_wrapper: 0.4617 - ca_wrapper: 0.8237 - meandiff: 3.8077 - val_loss: 0.7935 - val_mse_wrapper: 0.7935 - val_ca_wrapper: 0.8086 - val_meandiff: 3.9062 - lr: 1.0000e-04\n",
      "Epoch 23/100\n",
      "26/26 [==============================] - ETA: 0s - loss: 0.4583 - mse_wrapper: 0.4583 - ca_wrapper: 0.8172 - meandiff: 4.0144\n",
      "Epoch 00023: loss improved from 0.46166 to 0.45827, saving model to exp/cv_histmatchchoice_newdata/8_64_64__8_2_2_4tenc_conv1_MSE_NOnorm_augshiftrot_taug_5_batch8_f0/2021-03-23_15_46/model/model.h5\n",
      "26/26 [==============================] - 74s 3s/step - loss: 0.4583 - mse_wrapper: 0.4583 - ca_wrapper: 0.8172 - meandiff: 4.0144 - val_loss: 1.0781 - val_mse_wrapper: 1.0781 - val_ca_wrapper: 0.7700 - val_meandiff: 3.5938 - lr: 1.0000e-04\n",
      "Epoch 24/100\n",
      "26/26 [==============================] - ETA: 0s - loss: 0.4505 - mse_wrapper: 0.4505 - ca_wrapper: 0.8210 - meandiff: 3.7981"
     ]
    },
    {
     "name": "stderr",
     "output_type": "stream",
     "text": [
      "2021-03-23 16:17:02,127 INFO (4, 2, 36, 5)\n",
      "2021-03-23 16:17:02,655 INFO (4, 2, 36, 5)\n"
     ]
    },
    {
     "name": "stdout",
     "output_type": "stream",
     "text": [
      "\n",
      "Epoch 00024: loss improved from 0.45827 to 0.45047, saving model to exp/cv_histmatchchoice_newdata/8_64_64__8_2_2_4tenc_conv1_MSE_NOnorm_augshiftrot_taug_5_batch8_f0/2021-03-23_15_46/model/model.h5\n",
      "26/26 [==============================] - 70s 3s/step - loss: 0.4505 - mse_wrapper: 0.4505 - ca_wrapper: 0.8210 - meandiff: 3.7981 - val_loss: 0.8862 - val_mse_wrapper: 0.8862 - val_ca_wrapper: 0.7795 - val_meandiff: 3.6562 - lr: 1.0000e-04\n",
      "Epoch 25/100\n",
      "26/26 [==============================] - ETA: 0s - loss: 0.4411 - mse_wrapper: 0.4411 - ca_wrapper: 0.8208 - meandiff: 3.6490\n",
      "Epoch 00025: loss improved from 0.45047 to 0.44112, saving model to exp/cv_histmatchchoice_newdata/8_64_64__8_2_2_4tenc_conv1_MSE_NOnorm_augshiftrot_taug_5_batch8_f0/2021-03-23_15_46/model/model.h5\n",
      "26/26 [==============================] - 63s 2s/step - loss: 0.4411 - mse_wrapper: 0.4411 - ca_wrapper: 0.8208 - meandiff: 3.6490 - val_loss: 1.1601 - val_mse_wrapper: 1.1601 - val_ca_wrapper: 0.6979 - val_meandiff: 4.4062 - lr: 1.0000e-04\n",
      "Epoch 26/100\n",
      "26/26 [==============================] - ETA: 0s - loss: 0.4484 - mse_wrapper: 0.4484 - ca_wrapper: 0.8225 - meandiff: 3.9615"
     ]
    },
    {
     "name": "stderr",
     "output_type": "stream",
     "text": [
      "2021-03-23 16:19:18,248 INFO (4, 2, 36, 5)\n",
      "2021-03-23 16:19:18,803 INFO (4, 2, 36, 5)\n"
     ]
    },
    {
     "name": "stdout",
     "output_type": "stream",
     "text": [
      "\n",
      "Epoch 00026: loss did not improve from 0.44112\n",
      "26/26 [==============================] - 66s 3s/step - loss: 0.4484 - mse_wrapper: 0.4484 - ca_wrapper: 0.8225 - meandiff: 3.9615 - val_loss: 0.7641 - val_mse_wrapper: 0.7641 - val_ca_wrapper: 0.7878 - val_meandiff: 3.7344 - lr: 1.0000e-04\n",
      "Epoch 27/100\n",
      "26/26 [==============================] - ETA: 0s - loss: 0.4361 - mse_wrapper: 0.4361 - ca_wrapper: 0.8220 - meandiff: 3.4808\n",
      "Epoch 00027: loss improved from 0.44112 to 0.43606, saving model to exp/cv_histmatchchoice_newdata/8_64_64__8_2_2_4tenc_conv1_MSE_NOnorm_augshiftrot_taug_5_batch8_f0/2021-03-23_15_46/model/model.h5\n",
      "26/26 [==============================] - 69s 3s/step - loss: 0.4361 - mse_wrapper: 0.4361 - ca_wrapper: 0.8220 - meandiff: 3.4808 - val_loss: 0.7690 - val_mse_wrapper: 0.7690 - val_ca_wrapper: 0.7895 - val_meandiff: 3.8750 - lr: 1.0000e-04\n",
      "Epoch 28/100\n",
      "26/26 [==============================] - ETA: 0s - loss: 0.4292 - mse_wrapper: 0.4292 - ca_wrapper: 0.8295 - meandiff: 3.6298"
     ]
    },
    {
     "name": "stderr",
     "output_type": "stream",
     "text": [
      "2021-03-23 16:21:51,476 INFO (4, 2, 36, 5)\n",
      "2021-03-23 16:21:51,996 INFO (4, 2, 36, 5)\n"
     ]
    },
    {
     "name": "stdout",
     "output_type": "stream",
     "text": [
      "\n",
      "Epoch 00028: loss improved from 0.43606 to 0.42918, saving model to exp/cv_histmatchchoice_newdata/8_64_64__8_2_2_4tenc_conv1_MSE_NOnorm_augshiftrot_taug_5_batch8_f0/2021-03-23_15_46/model/model.h5\n",
      "26/26 [==============================] - 78s 3s/step - loss: 0.4292 - mse_wrapper: 0.4292 - ca_wrapper: 0.8295 - meandiff: 3.6298 - val_loss: 0.7673 - val_mse_wrapper: 0.7673 - val_ca_wrapper: 0.7582 - val_meandiff: 4.2188 - lr: 1.0000e-04\n",
      "Epoch 29/100\n",
      "26/26 [==============================] - ETA: 0s - loss: 0.4416 - mse_wrapper: 0.4416 - ca_wrapper: 0.8297 - meandiff: 3.4904\n",
      "Epoch 00029: loss did not improve from 0.42918\n",
      "26/26 [==============================] - 77s 3s/step - loss: 0.4416 - mse_wrapper: 0.4416 - ca_wrapper: 0.8297 - meandiff: 3.4904 - val_loss: 0.7323 - val_mse_wrapper: 0.7323 - val_ca_wrapper: 0.8082 - val_meandiff: 3.9844 - lr: 1.0000e-04\n",
      "Epoch 30/100\n",
      "26/26 [==============================] - ETA: 0s - loss: 0.4233 - mse_wrapper: 0.4233 - ca_wrapper: 0.8287 - meandiff: 3.4712"
     ]
    },
    {
     "name": "stderr",
     "output_type": "stream",
     "text": [
      "2021-03-23 16:24:24,172 INFO (4, 2, 36, 5)\n",
      "2021-03-23 16:24:24,733 INFO (4, 2, 36, 5)\n"
     ]
    },
    {
     "name": "stdout",
     "output_type": "stream",
     "text": [
      "\n",
      "Epoch 00030: loss improved from 0.42918 to 0.42330, saving model to exp/cv_histmatchchoice_newdata/8_64_64__8_2_2_4tenc_conv1_MSE_NOnorm_augshiftrot_taug_5_batch8_f0/2021-03-23_15_46/model/model.h5\n",
      "26/26 [==============================] - 69s 3s/step - loss: 0.4233 - mse_wrapper: 0.4233 - ca_wrapper: 0.8287 - meandiff: 3.4712 - val_loss: 0.9752 - val_mse_wrapper: 0.9752 - val_ca_wrapper: 0.7786 - val_meandiff: 3.8906 - lr: 1.0000e-04\n",
      "Epoch 31/100\n",
      "26/26 [==============================] - ETA: 0s - loss: 0.4470 - mse_wrapper: 0.4470 - ca_wrapper: 0.8130 - meandiff: 3.7115\n",
      "Epoch 00031: loss did not improve from 0.42330\n",
      "26/26 [==============================] - 71s 3s/step - loss: 0.4470 - mse_wrapper: 0.4470 - ca_wrapper: 0.8130 - meandiff: 3.7115 - val_loss: 1.2224 - val_mse_wrapper: 1.2224 - val_ca_wrapper: 0.6879 - val_meandiff: 4.4531 - lr: 1.0000e-04\n",
      "Epoch 32/100\n",
      "26/26 [==============================] - ETA: 0s - loss: 0.4181 - mse_wrapper: 0.4181 - ca_wrapper: 0.8283 - meandiff: 3.6442"
     ]
    },
    {
     "name": "stderr",
     "output_type": "stream",
     "text": [
      "2021-03-23 16:26:56,134 INFO (4, 2, 36, 5)\n",
      "2021-03-23 16:26:56,657 INFO (4, 2, 36, 5)\n"
     ]
    },
    {
     "name": "stdout",
     "output_type": "stream",
     "text": [
      "\n",
      "Epoch 00032: loss improved from 0.42330 to 0.41808, saving model to exp/cv_histmatchchoice_newdata/8_64_64__8_2_2_4tenc_conv1_MSE_NOnorm_augshiftrot_taug_5_batch8_f0/2021-03-23_15_46/model/model.h5\n",
      "26/26 [==============================] - 71s 3s/step - loss: 0.4181 - mse_wrapper: 0.4181 - ca_wrapper: 0.8283 - meandiff: 3.6442 - val_loss: 0.7049 - val_mse_wrapper: 0.7049 - val_ca_wrapper: 0.7743 - val_meandiff: 4.2500 - lr: 1.0000e-04\n",
      "Epoch 33/100\n",
      "26/26 [==============================] - ETA: 0s - loss: 0.4329 - mse_wrapper: 0.4329 - ca_wrapper: 0.8260 - meandiff: 3.7356\n",
      "Epoch 00033: loss did not improve from 0.41808\n",
      "26/26 [==============================] - 67s 3s/step - loss: 0.4329 - mse_wrapper: 0.4329 - ca_wrapper: 0.8260 - meandiff: 3.7356 - val_loss: 0.7084 - val_mse_wrapper: 0.7084 - val_ca_wrapper: 0.7891 - val_meandiff: 3.7500 - lr: 1.0000e-04\n",
      "Epoch 34/100\n",
      "26/26 [==============================] - ETA: 0s - loss: 0.4333 - mse_wrapper: 0.4333 - ca_wrapper: 0.8247 - meandiff: 3.6106"
     ]
    },
    {
     "name": "stderr",
     "output_type": "stream",
     "text": [
      "2021-03-23 16:29:19,315 INFO (4, 2, 36, 5)\n",
      "2021-03-23 16:29:19,849 INFO (4, 2, 36, 5)\n"
     ]
    },
    {
     "name": "stdout",
     "output_type": "stream",
     "text": [
      "\n",
      "Epoch 00034: loss did not improve from 0.41808\n",
      "26/26 [==============================] - 70s 3s/step - loss: 0.4333 - mse_wrapper: 0.4333 - ca_wrapper: 0.8247 - meandiff: 3.6106 - val_loss: 0.7008 - val_mse_wrapper: 0.7008 - val_ca_wrapper: 0.8168 - val_meandiff: 3.8594 - lr: 1.0000e-04\n",
      "Epoch 35/100\n",
      "26/26 [==============================] - ETA: 0s - loss: 0.4172 - mse_wrapper: 0.4172 - ca_wrapper: 0.8293 - meandiff: 3.5721\n",
      "Epoch 00035: loss improved from 0.41808 to 0.41721, saving model to exp/cv_histmatchchoice_newdata/8_64_64__8_2_2_4tenc_conv1_MSE_NOnorm_augshiftrot_taug_5_batch8_f0/2021-03-23_15_46/model/model.h5\n",
      "26/26 [==============================] - 75s 3s/step - loss: 0.4172 - mse_wrapper: 0.4172 - ca_wrapper: 0.8293 - meandiff: 3.5721 - val_loss: 0.6766 - val_mse_wrapper: 0.6766 - val_ca_wrapper: 0.7826 - val_meandiff: 3.8594 - lr: 1.0000e-04\n",
      "Epoch 36/100\n",
      "26/26 [==============================] - ETA: 0s - loss: 0.4188 - mse_wrapper: 0.4188 - ca_wrapper: 0.8295 - meandiff: 3.5000"
     ]
    },
    {
     "name": "stderr",
     "output_type": "stream",
     "text": [
      "2021-03-23 16:31:42,848 INFO (4, 2, 36, 5)\n",
      "2021-03-23 16:31:43,390 INFO (4, 2, 36, 5)\n"
     ]
    },
    {
     "name": "stdout",
     "output_type": "stream",
     "text": [
      "\n",
      "Epoch 00036: loss did not improve from 0.41721\n",
      "26/26 [==============================] - 62s 2s/step - loss: 0.4188 - mse_wrapper: 0.4188 - ca_wrapper: 0.8295 - meandiff: 3.5000 - val_loss: 0.7579 - val_mse_wrapper: 0.7579 - val_ca_wrapper: 0.8008 - val_meandiff: 3.9531 - lr: 1.0000e-04\n",
      "Epoch 37/100\n",
      "26/26 [==============================] - ETA: 0s - loss: 0.4262 - mse_wrapper: 0.4262 - ca_wrapper: 0.8305 - meandiff: 3.8317\n",
      "Epoch 00037: loss did not improve from 0.41721\n",
      "26/26 [==============================] - 64s 2s/step - loss: 0.4262 - mse_wrapper: 0.4262 - ca_wrapper: 0.8305 - meandiff: 3.8317 - val_loss: 0.7851 - val_mse_wrapper: 0.7851 - val_ca_wrapper: 0.7951 - val_meandiff: 3.8594 - lr: 1.0000e-04\n",
      "Epoch 38/100\n",
      "26/26 [==============================] - ETA: 0s - loss: 0.4102 - mse_wrapper: 0.4102 - ca_wrapper: 0.8296 - meandiff: 3.6587"
     ]
    },
    {
     "name": "stderr",
     "output_type": "stream",
     "text": [
      "2021-03-23 16:34:07,493 INFO (4, 2, 36, 5)\n",
      "2021-03-23 16:34:08,062 INFO (4, 2, 36, 5)\n"
     ]
    },
    {
     "name": "stdout",
     "output_type": "stream",
     "text": [
      "\n",
      "Epoch 00038: loss improved from 0.41721 to 0.41020, saving model to exp/cv_histmatchchoice_newdata/8_64_64__8_2_2_4tenc_conv1_MSE_NOnorm_augshiftrot_taug_5_batch8_f0/2021-03-23_15_46/model/model.h5\n",
      "26/26 [==============================] - 71s 3s/step - loss: 0.4102 - mse_wrapper: 0.4102 - ca_wrapper: 0.8296 - meandiff: 3.6587 - val_loss: 1.1948 - val_mse_wrapper: 1.1948 - val_ca_wrapper: 0.7626 - val_meandiff: 3.6094 - lr: 1.0000e-04\n",
      "Epoch 39/100\n",
      "26/26 [==============================] - ETA: 0s - loss: 0.4031 - mse_wrapper: 0.4031 - ca_wrapper: 0.8412 - meandiff: 3.4087\n",
      "Epoch 00039: loss improved from 0.41020 to 0.40307, saving model to exp/cv_histmatchchoice_newdata/8_64_64__8_2_2_4tenc_conv1_MSE_NOnorm_augshiftrot_taug_5_batch8_f0/2021-03-23_15_46/model/model.h5\n",
      "26/26 [==============================] - 72s 3s/step - loss: 0.4031 - mse_wrapper: 0.4031 - ca_wrapper: 0.8412 - meandiff: 3.4087 - val_loss: 0.8085 - val_mse_wrapper: 0.8085 - val_ca_wrapper: 0.7639 - val_meandiff: 4.0625 - lr: 1.0000e-04\n",
      "Epoch 40/100\n",
      "26/26 [==============================] - ETA: 0s - loss: 0.3981 - mse_wrapper: 0.3981 - ca_wrapper: 0.8331 - meandiff: 3.3173"
     ]
    },
    {
     "name": "stderr",
     "output_type": "stream",
     "text": [
      "2021-03-23 16:36:49,231 INFO (4, 2, 36, 5)\n",
      "2021-03-23 16:36:49,800 INFO (4, 2, 36, 5)\n"
     ]
    },
    {
     "name": "stdout",
     "output_type": "stream",
     "text": [
      "\n",
      "Epoch 00040: loss improved from 0.40307 to 0.39806, saving model to exp/cv_histmatchchoice_newdata/8_64_64__8_2_2_4tenc_conv1_MSE_NOnorm_augshiftrot_taug_5_batch8_f0/2021-03-23_15_46/model/model.h5\n",
      "26/26 [==============================] - 83s 3s/step - loss: 0.3981 - mse_wrapper: 0.3981 - ca_wrapper: 0.8331 - meandiff: 3.3173 - val_loss: 0.6153 - val_mse_wrapper: 0.6153 - val_ca_wrapper: 0.8181 - val_meandiff: 3.7344 - lr: 1.0000e-04\n",
      "Epoch 41/100\n",
      "26/26 [==============================] - ETA: 0s - loss: 0.3908 - mse_wrapper: 0.3908 - ca_wrapper: 0.8368 - meandiff: 3.3942\n",
      "Epoch 00041: loss improved from 0.39806 to 0.39080, saving model to exp/cv_histmatchchoice_newdata/8_64_64__8_2_2_4tenc_conv1_MSE_NOnorm_augshiftrot_taug_5_batch8_f0/2021-03-23_15_46/model/model.h5\n",
      "26/26 [==============================] - 72s 3s/step - loss: 0.3908 - mse_wrapper: 0.3908 - ca_wrapper: 0.8368 - meandiff: 3.3942 - val_loss: 0.7317 - val_mse_wrapper: 0.7317 - val_ca_wrapper: 0.8138 - val_meandiff: 3.6250 - lr: 1.0000e-04\n",
      "Epoch 42/100\n",
      "26/26 [==============================] - ETA: 0s - loss: 0.3985 - mse_wrapper: 0.3985 - ca_wrapper: 0.8373 - meandiff: 3.3077"
     ]
    },
    {
     "name": "stderr",
     "output_type": "stream",
     "text": [
      "2021-03-23 16:39:14,076 INFO (4, 2, 36, 5)\n",
      "2021-03-23 16:39:15,095 INFO (4, 2, 36, 5)\n"
     ]
    },
    {
     "name": "stdout",
     "output_type": "stream",
     "text": [
      "\n",
      "Epoch 00042: loss did not improve from 0.39080\n",
      "26/26 [==============================] - 68s 3s/step - loss: 0.3985 - mse_wrapper: 0.3985 - ca_wrapper: 0.8373 - meandiff: 3.3077 - val_loss: 0.7920 - val_mse_wrapper: 0.7920 - val_ca_wrapper: 0.8056 - val_meandiff: 3.6562 - lr: 1.0000e-04\n",
      "Epoch 43/100\n",
      "26/26 [==============================] - ETA: 0s - loss: 0.3901 - mse_wrapper: 0.3901 - ca_wrapper: 0.8369 - meandiff: 3.2356\n",
      "Epoch 00043: loss improved from 0.39080 to 0.39008, saving model to exp/cv_histmatchchoice_newdata/8_64_64__8_2_2_4tenc_conv1_MSE_NOnorm_augshiftrot_taug_5_batch8_f0/2021-03-23_15_46/model/model.h5\n",
      "26/26 [==============================] - 83s 3s/step - loss: 0.3901 - mse_wrapper: 0.3901 - ca_wrapper: 0.8369 - meandiff: 3.2356 - val_loss: 0.8009 - val_mse_wrapper: 0.8009 - val_ca_wrapper: 0.8090 - val_meandiff: 3.5625 - lr: 1.0000e-04\n",
      "Epoch 44/100\n",
      "26/26 [==============================] - ETA: 0s - loss: 0.3901 - mse_wrapper: 0.3901 - ca_wrapper: 0.8360 - meandiff: 3.4135"
     ]
    },
    {
     "name": "stderr",
     "output_type": "stream",
     "text": [
      "2021-03-23 16:41:43,389 INFO (4, 2, 36, 5)\n",
      "2021-03-23 16:41:43,933 INFO (4, 2, 36, 5)\n"
     ]
    },
    {
     "name": "stdout",
     "output_type": "stream",
     "text": [
      "\n",
      "Epoch 00044: loss did not improve from 0.39008\n",
      "26/26 [==============================] - 59s 2s/step - loss: 0.3901 - mse_wrapper: 0.3901 - ca_wrapper: 0.8360 - meandiff: 3.4135 - val_loss: 0.6589 - val_mse_wrapper: 0.6589 - val_ca_wrapper: 0.7990 - val_meandiff: 4.0156 - lr: 1.0000e-04\n",
      "Epoch 45/100\n",
      "26/26 [==============================] - ETA: 0s - loss: 0.3980 - mse_wrapper: 0.3980 - ca_wrapper: 0.8273 - meandiff: 3.3221\n",
      "Epoch 00045: loss did not improve from 0.39008\n",
      "26/26 [==============================] - 74s 3s/step - loss: 0.3980 - mse_wrapper: 0.3980 - ca_wrapper: 0.8273 - meandiff: 3.3221 - val_loss: 0.7059 - val_mse_wrapper: 0.7059 - val_ca_wrapper: 0.8173 - val_meandiff: 3.8281 - lr: 1.0000e-04\n",
      "Epoch 46/100\n",
      "26/26 [==============================] - ETA: 0s - loss: 0.3814 - mse_wrapper: 0.3814 - ca_wrapper: 0.8404 - meandiff: 3.2692"
     ]
    },
    {
     "name": "stderr",
     "output_type": "stream",
     "text": [
      "2021-03-23 16:44:12,994 INFO (4, 2, 36, 5)\n",
      "2021-03-23 16:44:13,561 INFO (4, 2, 36, 5)\n"
     ]
    },
    {
     "name": "stdout",
     "output_type": "stream",
     "text": [
      "\n",
      "Epoch 00046: loss improved from 0.39008 to 0.38139, saving model to exp/cv_histmatchchoice_newdata/8_64_64__8_2_2_4tenc_conv1_MSE_NOnorm_augshiftrot_taug_5_batch8_f0/2021-03-23_15_46/model/model.h5\n",
      "26/26 [==============================] - 68s 3s/step - loss: 0.3814 - mse_wrapper: 0.3814 - ca_wrapper: 0.8404 - meandiff: 3.2692 - val_loss: 0.9077 - val_mse_wrapper: 0.9077 - val_ca_wrapper: 0.8103 - val_meandiff: 3.5312 - lr: 1.0000e-04\n",
      "Epoch 47/100\n",
      "26/26 [==============================] - ETA: 0s - loss: 0.3897 - mse_wrapper: 0.3897 - ca_wrapper: 0.8388 - meandiff: 3.2837\n",
      "Epoch 00047: loss did not improve from 0.38139\n",
      "26/26 [==============================] - 67s 3s/step - loss: 0.3897 - mse_wrapper: 0.3897 - ca_wrapper: 0.8388 - meandiff: 3.2837 - val_loss: 0.6628 - val_mse_wrapper: 0.6628 - val_ca_wrapper: 0.8030 - val_meandiff: 3.8281 - lr: 1.0000e-04\n",
      "Epoch 48/100\n",
      "26/26 [==============================] - ETA: 0s - loss: 0.3633 - mse_wrapper: 0.3633 - ca_wrapper: 0.8391 - meandiff: 3.2212"
     ]
    },
    {
     "name": "stderr",
     "output_type": "stream",
     "text": [
      "2021-03-23 16:46:38,945 INFO (4, 2, 36, 5)\n",
      "2021-03-23 16:46:39,493 INFO (4, 2, 36, 5)\n"
     ]
    },
    {
     "name": "stdout",
     "output_type": "stream",
     "text": [
      "\n",
      "Epoch 00048: loss improved from 0.38139 to 0.36328, saving model to exp/cv_histmatchchoice_newdata/8_64_64__8_2_2_4tenc_conv1_MSE_NOnorm_augshiftrot_taug_5_batch8_f0/2021-03-23_15_46/model/model.h5\n",
      "26/26 [==============================] - 74s 3s/step - loss: 0.3633 - mse_wrapper: 0.3633 - ca_wrapper: 0.8391 - meandiff: 3.2212 - val_loss: 0.9290 - val_mse_wrapper: 0.9290 - val_ca_wrapper: 0.7569 - val_meandiff: 3.8906 - lr: 1.0000e-04\n",
      "Epoch 49/100\n",
      "26/26 [==============================] - ETA: 0s - loss: 0.3785 - mse_wrapper: 0.3785 - ca_wrapper: 0.8377 - meandiff: 3.2692\n",
      "Epoch 00049: loss did not improve from 0.36328\n",
      "26/26 [==============================] - 67s 3s/step - loss: 0.3785 - mse_wrapper: 0.3785 - ca_wrapper: 0.8377 - meandiff: 3.2692 - val_loss: 0.8165 - val_mse_wrapper: 0.8165 - val_ca_wrapper: 0.7973 - val_meandiff: 3.8125 - lr: 1.0000e-04\n",
      "Epoch 50/100\n",
      "26/26 [==============================] - ETA: 0s - loss: 0.3784 - mse_wrapper: 0.3784 - ca_wrapper: 0.8379 - meandiff: 3.2163"
     ]
    },
    {
     "name": "stderr",
     "output_type": "stream",
     "text": [
      "2021-03-23 16:49:10,845 INFO (4, 2, 36, 5)\n",
      "2021-03-23 16:49:11,377 INFO (4, 2, 36, 5)\n"
     ]
    },
    {
     "name": "stdout",
     "output_type": "stream",
     "text": [
      "\n",
      "Epoch 00050: loss did not improve from 0.36328\n",
      "26/26 [==============================] - 79s 3s/step - loss: 0.3784 - mse_wrapper: 0.3784 - ca_wrapper: 0.8379 - meandiff: 3.2163 - val_loss: 0.8832 - val_mse_wrapper: 0.8832 - val_ca_wrapper: 0.7964 - val_meandiff: 3.7500 - lr: 1.0000e-04\n",
      "Epoch 51/100\n",
      "26/26 [==============================] - ETA: 0s - loss: 0.3795 - mse_wrapper: 0.3795 - ca_wrapper: 0.8428 - meandiff: 3.2115\n",
      "Epoch 00051: loss did not improve from 0.36328\n",
      "26/26 [==============================] - 69s 3s/step - loss: 0.3795 - mse_wrapper: 0.3795 - ca_wrapper: 0.8428 - meandiff: 3.2115 - val_loss: 0.9425 - val_mse_wrapper: 0.9425 - val_ca_wrapper: 0.8086 - val_meandiff: 3.7812 - lr: 1.0000e-04\n",
      "Epoch 52/100\n",
      "26/26 [==============================] - ETA: 0s - loss: 0.3774 - mse_wrapper: 0.3774 - ca_wrapper: 0.8383 - meandiff: 3.4567"
     ]
    },
    {
     "name": "stderr",
     "output_type": "stream",
     "text": [
      "2021-03-23 16:51:39,118 INFO (4, 2, 36, 5)\n",
      "2021-03-23 16:51:39,650 INFO (4, 2, 36, 5)\n"
     ]
    },
    {
     "name": "stdout",
     "output_type": "stream",
     "text": [
      "\n",
      "Epoch 00052: loss did not improve from 0.36328\n",
      "26/26 [==============================] - 70s 3s/step - loss: 0.3774 - mse_wrapper: 0.3774 - ca_wrapper: 0.8383 - meandiff: 3.4567 - val_loss: 0.7550 - val_mse_wrapper: 0.7550 - val_ca_wrapper: 0.7990 - val_meandiff: 3.5625 - lr: 1.0000e-04\n",
      "Epoch 53/100\n",
      "26/26 [==============================] - ETA: 0s - loss: 0.3590 - mse_wrapper: 0.3590 - ca_wrapper: 0.8431 - meandiff: 3.0337\n",
      "Epoch 00053: loss improved from 0.36328 to 0.35900, saving model to exp/cv_histmatchchoice_newdata/8_64_64__8_2_2_4tenc_conv1_MSE_NOnorm_augshiftrot_taug_5_batch8_f0/2021-03-23_15_46/model/model.h5\n",
      "26/26 [==============================] - 65s 3s/step - loss: 0.3590 - mse_wrapper: 0.3590 - ca_wrapper: 0.8431 - meandiff: 3.0337 - val_loss: 0.9014 - val_mse_wrapper: 0.9014 - val_ca_wrapper: 0.7938 - val_meandiff: 3.7500 - lr: 1.0000e-04\n",
      "Epoch 54/100\n",
      "26/26 [==============================] - ETA: 0s - loss: 0.3757 - mse_wrapper: 0.3757 - ca_wrapper: 0.8375 - meandiff: 3.2260"
     ]
    },
    {
     "name": "stderr",
     "output_type": "stream",
     "text": [
      "2021-03-23 16:54:10,637 INFO (4, 2, 36, 5)\n",
      "2021-03-23 16:54:11,196 INFO (4, 2, 36, 5)\n"
     ]
    },
    {
     "name": "stdout",
     "output_type": "stream",
     "text": [
      "\n",
      "Epoch 00054: loss did not improve from 0.35900\n",
      "26/26 [==============================] - 80s 3s/step - loss: 0.3757 - mse_wrapper: 0.3757 - ca_wrapper: 0.8375 - meandiff: 3.2260 - val_loss: 0.8979 - val_mse_wrapper: 0.8979 - val_ca_wrapper: 0.7969 - val_meandiff: 4.0469 - lr: 1.0000e-04\n",
      "Epoch 55/100\n",
      "26/26 [==============================] - ETA: 0s - loss: 0.3679 - mse_wrapper: 0.3679 - ca_wrapper: 0.8407 - meandiff: 3.1058\n",
      "Epoch 00055: loss did not improve from 0.35900\n",
      "26/26 [==============================] - 71s 3s/step - loss: 0.3679 - mse_wrapper: 0.3679 - ca_wrapper: 0.8407 - meandiff: 3.1058 - val_loss: 0.9175 - val_mse_wrapper: 0.9175 - val_ca_wrapper: 0.8038 - val_meandiff: 4.0781 - lr: 1.0000e-04\n",
      "Epoch 56/100\n",
      "26/26 [==============================] - ETA: 0s - loss: 0.3625 - mse_wrapper: 0.3625 - ca_wrapper: 0.8427 - meandiff: 3.0096"
     ]
    },
    {
     "name": "stderr",
     "output_type": "stream",
     "text": [
      "2021-03-23 16:56:38,597 INFO (4, 2, 36, 5)\n",
      "2021-03-23 16:56:39,127 INFO (4, 2, 36, 5)\n"
     ]
    },
    {
     "name": "stdout",
     "output_type": "stream",
     "text": [
      "\n",
      "Epoch 00056: loss did not improve from 0.35900\n",
      "26/26 [==============================] - 71s 3s/step - loss: 0.3625 - mse_wrapper: 0.3625 - ca_wrapper: 0.8427 - meandiff: 3.0096 - val_loss: 0.8727 - val_mse_wrapper: 0.8727 - val_ca_wrapper: 0.8190 - val_meandiff: 3.9062 - lr: 1.0000e-04\n",
      "Epoch 57/100\n",
      "26/26 [==============================] - ETA: 0s - loss: 0.3542 - mse_wrapper: 0.3542 - ca_wrapper: 0.8419 - meandiff: 2.9423\n",
      "Epoch 00057: loss improved from 0.35900 to 0.35417, saving model to exp/cv_histmatchchoice_newdata/8_64_64__8_2_2_4tenc_conv1_MSE_NOnorm_augshiftrot_taug_5_batch8_f0/2021-03-23_15_46/model/model.h5\n",
      "26/26 [==============================] - 72s 3s/step - loss: 0.3542 - mse_wrapper: 0.3542 - ca_wrapper: 0.8419 - meandiff: 2.9423 - val_loss: 0.8855 - val_mse_wrapper: 0.8855 - val_ca_wrapper: 0.8003 - val_meandiff: 4.0000 - lr: 1.0000e-04\n",
      "Epoch 58/100\n",
      "26/26 [==============================] - ETA: 0s - loss: 0.3553 - mse_wrapper: 0.3553 - ca_wrapper: 0.8427 - meandiff: 3.0096"
     ]
    },
    {
     "name": "stderr",
     "output_type": "stream",
     "text": [
      "2021-03-23 16:59:05,221 INFO (4, 2, 36, 5)\n",
      "2021-03-23 16:59:05,779 INFO (4, 2, 36, 5)\n"
     ]
    },
    {
     "name": "stdout",
     "output_type": "stream",
     "text": [
      "\n",
      "Epoch 00058: loss did not improve from 0.35417\n",
      "26/26 [==============================] - 68s 3s/step - loss: 0.3553 - mse_wrapper: 0.3553 - ca_wrapper: 0.8427 - meandiff: 3.0096 - val_loss: 0.8233 - val_mse_wrapper: 0.8233 - val_ca_wrapper: 0.8108 - val_meandiff: 4.1562 - lr: 1.0000e-04\n",
      "Epoch 59/100\n",
      "26/26 [==============================] - ETA: 0s - loss: 0.3523 - mse_wrapper: 0.3523 - ca_wrapper: 0.8491 - meandiff: 2.8846\n",
      "Epoch 00059: loss improved from 0.35417 to 0.35226, saving model to exp/cv_histmatchchoice_newdata/8_64_64__8_2_2_4tenc_conv1_MSE_NOnorm_augshiftrot_taug_5_batch8_f0/2021-03-23_15_46/model/model.h5\n",
      "26/26 [==============================] - 71s 3s/step - loss: 0.3523 - mse_wrapper: 0.3523 - ca_wrapper: 0.8491 - meandiff: 2.8846 - val_loss: 0.7258 - val_mse_wrapper: 0.7258 - val_ca_wrapper: 0.7964 - val_meandiff: 3.9375 - lr: 1.0000e-04\n",
      "Epoch 60/100\n",
      "26/26 [==============================] - ETA: 0s - loss: 0.3515 - mse_wrapper: 0.3515 - ca_wrapper: 0.8447 - meandiff: 2.8510"
     ]
    },
    {
     "name": "stderr",
     "output_type": "stream",
     "text": [
      "2021-03-23 17:01:30,228 INFO (4, 2, 36, 5)\n",
      "2021-03-23 17:01:30,765 INFO (4, 2, 36, 5)\n"
     ]
    },
    {
     "name": "stdout",
     "output_type": "stream",
     "text": [
      "\n",
      "Epoch 00060: loss improved from 0.35226 to 0.35146, saving model to exp/cv_histmatchchoice_newdata/8_64_64__8_2_2_4tenc_conv1_MSE_NOnorm_augshiftrot_taug_5_batch8_f0/2021-03-23_15_46/model/model.h5\n",
      "26/26 [==============================] - 68s 3s/step - loss: 0.3515 - mse_wrapper: 0.3515 - ca_wrapper: 0.8447 - meandiff: 2.8510 - val_loss: 0.9547 - val_mse_wrapper: 0.9547 - val_ca_wrapper: 0.7830 - val_meandiff: 4.0469 - lr: 1.0000e-04\n",
      "Epoch 61/100\n",
      "26/26 [==============================] - ETA: 0s - loss: 0.3510 - mse_wrapper: 0.3510 - ca_wrapper: 0.8401 - meandiff: 3.0000\n",
      "Epoch 00061: loss improved from 0.35146 to 0.35096, saving model to exp/cv_histmatchchoice_newdata/8_64_64__8_2_2_4tenc_conv1_MSE_NOnorm_augshiftrot_taug_5_batch8_f0/2021-03-23_15_46/model/model.h5\n",
      "26/26 [==============================] - 70s 3s/step - loss: 0.3510 - mse_wrapper: 0.3510 - ca_wrapper: 0.8401 - meandiff: 3.0000 - val_loss: 0.6623 - val_mse_wrapper: 0.6623 - val_ca_wrapper: 0.8056 - val_meandiff: 3.9844 - lr: 1.0000e-04\n",
      "Epoch 62/100\n",
      "26/26 [==============================] - ETA: 0s - loss: 0.3449 - mse_wrapper: 0.3449 - ca_wrapper: 0.8408 - meandiff: 2.7644"
     ]
    },
    {
     "name": "stderr",
     "output_type": "stream",
     "text": [
      "2021-03-23 17:03:57,490 INFO (4, 2, 36, 5)\n",
      "2021-03-23 17:03:58,645 INFO (4, 2, 36, 5)\n"
     ]
    },
    {
     "name": "stdout",
     "output_type": "stream",
     "text": [
      "\n",
      "Epoch 00062: loss improved from 0.35096 to 0.34492, saving model to exp/cv_histmatchchoice_newdata/8_64_64__8_2_2_4tenc_conv1_MSE_NOnorm_augshiftrot_taug_5_batch8_f0/2021-03-23_15_46/model/model.h5\n",
      "26/26 [==============================] - 72s 3s/step - loss: 0.3449 - mse_wrapper: 0.3449 - ca_wrapper: 0.8408 - meandiff: 2.7644 - val_loss: 0.5999 - val_mse_wrapper: 0.5999 - val_ca_wrapper: 0.8216 - val_meandiff: 3.7812 - lr: 1.0000e-04\n",
      "Epoch 63/100\n",
      "26/26 [==============================] - ETA: 0s - loss: 0.3503 - mse_wrapper: 0.3503 - ca_wrapper: 0.8413 - meandiff: 2.9087\n",
      "Epoch 00063: loss did not improve from 0.34492\n",
      "26/26 [==============================] - 71s 3s/step - loss: 0.3503 - mse_wrapper: 0.3503 - ca_wrapper: 0.8413 - meandiff: 2.9087 - val_loss: 0.8155 - val_mse_wrapper: 0.8155 - val_ca_wrapper: 0.7934 - val_meandiff: 3.8906 - lr: 1.0000e-04\n",
      "Epoch 64/100\n",
      "26/26 [==============================] - ETA: 0s - loss: 0.3453 - mse_wrapper: 0.3453 - ca_wrapper: 0.8436 - meandiff: 2.7548"
     ]
    },
    {
     "name": "stderr",
     "output_type": "stream",
     "text": [
      "2021-03-23 17:06:23,248 INFO (4, 2, 36, 5)\n",
      "2021-03-23 17:06:23,813 INFO (4, 2, 36, 5)\n"
     ]
    },
    {
     "name": "stdout",
     "output_type": "stream",
     "text": [
      "\n",
      "Epoch 00064: loss did not improve from 0.34492\n",
      "26/26 [==============================] - 68s 3s/step - loss: 0.3453 - mse_wrapper: 0.3453 - ca_wrapper: 0.8436 - meandiff: 2.7548 - val_loss: 1.0017 - val_mse_wrapper: 1.0017 - val_ca_wrapper: 0.8155 - val_meandiff: 3.5938 - lr: 1.0000e-04\n",
      "Epoch 65/100\n",
      "26/26 [==============================] - ETA: 0s - loss: 0.3406 - mse_wrapper: 0.3406 - ca_wrapper: 0.8462 - meandiff: 2.7019\n",
      "Epoch 00065: loss improved from 0.34492 to 0.34056, saving model to exp/cv_histmatchchoice_newdata/8_64_64__8_2_2_4tenc_conv1_MSE_NOnorm_augshiftrot_taug_5_batch8_f0/2021-03-23_15_46/model/model.h5\n",
      "26/26 [==============================] - 75s 3s/step - loss: 0.3406 - mse_wrapper: 0.3406 - ca_wrapper: 0.8462 - meandiff: 2.7019 - val_loss: 0.7448 - val_mse_wrapper: 0.7448 - val_ca_wrapper: 0.7938 - val_meandiff: 3.6562 - lr: 1.0000e-04\n",
      "Epoch 66/100\n",
      "26/26 [==============================] - ETA: 0s - loss: 0.3386 - mse_wrapper: 0.3386 - ca_wrapper: 0.8431 - meandiff: 2.9135"
     ]
    },
    {
     "name": "stderr",
     "output_type": "stream",
     "text": [
      "2021-03-23 17:08:55,405 INFO (4, 2, 36, 5)\n",
      "2021-03-23 17:08:55,947 INFO (4, 2, 36, 5)\n"
     ]
    },
    {
     "name": "stdout",
     "output_type": "stream",
     "text": [
      "\n",
      "Epoch 00066: loss improved from 0.34056 to 0.33860, saving model to exp/cv_histmatchchoice_newdata/8_64_64__8_2_2_4tenc_conv1_MSE_NOnorm_augshiftrot_taug_5_batch8_f0/2021-03-23_15_46/model/model.h5\n",
      "26/26 [==============================] - 71s 3s/step - loss: 0.3386 - mse_wrapper: 0.3386 - ca_wrapper: 0.8431 - meandiff: 2.9135 - val_loss: 0.9369 - val_mse_wrapper: 0.9369 - val_ca_wrapper: 0.7726 - val_meandiff: 4.0000 - lr: 1.0000e-04\n",
      "Epoch 67/100\n",
      "26/26 [==============================] - ETA: 0s - loss: 0.3501 - mse_wrapper: 0.3501 - ca_wrapper: 0.8381 - meandiff: 3.0288\n",
      "Epoch 00067: loss did not improve from 0.33860\n",
      "26/26 [==============================] - 73s 3s/step - loss: 0.3501 - mse_wrapper: 0.3501 - ca_wrapper: 0.8381 - meandiff: 3.0288 - val_loss: 0.6356 - val_mse_wrapper: 0.6356 - val_ca_wrapper: 0.7934 - val_meandiff: 3.7969 - lr: 1.0000e-04\n",
      "Epoch 68/100\n",
      "26/26 [==============================] - ETA: 0s - loss: 0.3458 - mse_wrapper: 0.3458 - ca_wrapper: 0.8447 - meandiff: 2.8365"
     ]
    },
    {
     "name": "stderr",
     "output_type": "stream",
     "text": [
      "2021-03-23 17:11:35,488 INFO (4, 2, 36, 5)\n",
      "2021-03-23 17:11:36,021 INFO (4, 2, 36, 5)\n"
     ]
    },
    {
     "name": "stdout",
     "output_type": "stream",
     "text": [
      "\n",
      "Epoch 00068: loss did not improve from 0.33860\n",
      "26/26 [==============================] - 81s 3s/step - loss: 0.3458 - mse_wrapper: 0.3458 - ca_wrapper: 0.8447 - meandiff: 2.8365 - val_loss: 0.9718 - val_mse_wrapper: 0.9718 - val_ca_wrapper: 0.7635 - val_meandiff: 3.9062 - lr: 1.0000e-04\n",
      "Epoch 69/100\n",
      "26/26 [==============================] - ETA: 0s - loss: 0.3338 - mse_wrapper: 0.3338 - ca_wrapper: 0.8524 - meandiff: 2.7837\n",
      "Epoch 00069: loss improved from 0.33860 to 0.33376, saving model to exp/cv_histmatchchoice_newdata/8_64_64__8_2_2_4tenc_conv1_MSE_NOnorm_augshiftrot_taug_5_batch8_f0/2021-03-23_15_46/model/model.h5\n",
      "26/26 [==============================] - 76s 3s/step - loss: 0.3338 - mse_wrapper: 0.3338 - ca_wrapper: 0.8524 - meandiff: 2.7837 - val_loss: 0.8492 - val_mse_wrapper: 0.8492 - val_ca_wrapper: 0.8069 - val_meandiff: 3.6875 - lr: 1.0000e-04\n",
      "Epoch 70/100\n",
      "26/26 [==============================] - ETA: 0s - loss: 0.3281 - mse_wrapper: 0.3281 - ca_wrapper: 0.8454 - meandiff: 2.7356"
     ]
    },
    {
     "name": "stderr",
     "output_type": "stream",
     "text": [
      "2021-03-23 17:14:10,026 INFO (4, 2, 36, 5)\n",
      "2021-03-23 17:14:10,547 INFO (4, 2, 36, 5)\n"
     ]
    },
    {
     "name": "stdout",
     "output_type": "stream",
     "text": [
      "\n",
      "Epoch 00070: loss improved from 0.33376 to 0.32810, saving model to exp/cv_histmatchchoice_newdata/8_64_64__8_2_2_4tenc_conv1_MSE_NOnorm_augshiftrot_taug_5_batch8_f0/2021-03-23_15_46/model/model.h5\n",
      "26/26 [==============================] - 73s 3s/step - loss: 0.3281 - mse_wrapper: 0.3281 - ca_wrapper: 0.8454 - meandiff: 2.7356 - val_loss: 0.5224 - val_mse_wrapper: 0.5224 - val_ca_wrapper: 0.7995 - val_meandiff: 3.8906 - lr: 1.0000e-04\n",
      "Epoch 71/100\n",
      "26/26 [==============================] - ETA: 0s - loss: 0.3245 - mse_wrapper: 0.3245 - ca_wrapper: 0.8522 - meandiff: 2.5577\n",
      "Epoch 00071: loss improved from 0.32810 to 0.32451, saving model to exp/cv_histmatchchoice_newdata/8_64_64__8_2_2_4tenc_conv1_MSE_NOnorm_augshiftrot_taug_5_batch8_f0/2021-03-23_15_46/model/model.h5\n",
      "26/26 [==============================] - 73s 3s/step - loss: 0.3245 - mse_wrapper: 0.3245 - ca_wrapper: 0.8522 - meandiff: 2.5577 - val_loss: 0.9827 - val_mse_wrapper: 0.9827 - val_ca_wrapper: 0.7756 - val_meandiff: 3.7031 - lr: 1.0000e-04\n",
      "Epoch 72/100\n",
      "26/26 [==============================] - ETA: 0s - loss: 0.3330 - mse_wrapper: 0.3330 - ca_wrapper: 0.8413 - meandiff: 2.5433"
     ]
    },
    {
     "name": "stderr",
     "output_type": "stream",
     "text": [
      "2021-03-23 17:16:34,908 INFO (4, 2, 36, 5)\n",
      "2021-03-23 17:16:35,426 INFO (4, 2, 36, 5)\n"
     ]
    },
    {
     "name": "stdout",
     "output_type": "stream",
     "text": [
      "\n",
      "Epoch 00072: loss did not improve from 0.32451\n",
      "26/26 [==============================] - 66s 3s/step - loss: 0.3330 - mse_wrapper: 0.3330 - ca_wrapper: 0.8413 - meandiff: 2.5433 - val_loss: 0.6738 - val_mse_wrapper: 0.6738 - val_ca_wrapper: 0.8247 - val_meandiff: 3.6719 - lr: 1.0000e-04\n",
      "Epoch 73/100\n",
      "26/26 [==============================] - ETA: 0s - loss: 0.3201 - mse_wrapper: 0.3201 - ca_wrapper: 0.8507 - meandiff: 2.5673\n",
      "Epoch 00073: loss improved from 0.32451 to 0.32014, saving model to exp/cv_histmatchchoice_newdata/8_64_64__8_2_2_4tenc_conv1_MSE_NOnorm_augshiftrot_taug_5_batch8_f0/2021-03-23_15_46/model/model.h5\n",
      "26/26 [==============================] - 71s 3s/step - loss: 0.3201 - mse_wrapper: 0.3201 - ca_wrapper: 0.8507 - meandiff: 2.5673 - val_loss: 1.1808 - val_mse_wrapper: 1.1808 - val_ca_wrapper: 0.7556 - val_meandiff: 3.9531 - lr: 1.0000e-04\n",
      "Epoch 74/100\n",
      "26/26 [==============================] - ETA: 0s - loss: 0.3264 - mse_wrapper: 0.3264 - ca_wrapper: 0.8451 - meandiff: 2.6587"
     ]
    },
    {
     "name": "stderr",
     "output_type": "stream",
     "text": [
      "2021-03-23 17:19:11,355 INFO (4, 2, 36, 5)\n",
      "2021-03-23 17:19:11,908 INFO (4, 2, 36, 5)\n"
     ]
    },
    {
     "name": "stdout",
     "output_type": "stream",
     "text": [
      "\n",
      "Epoch 00074: loss did not improve from 0.32014\n",
      "26/26 [==============================] - 80s 3s/step - loss: 0.3264 - mse_wrapper: 0.3264 - ca_wrapper: 0.8451 - meandiff: 2.6587 - val_loss: 0.7170 - val_mse_wrapper: 0.7170 - val_ca_wrapper: 0.7830 - val_meandiff: 3.8906 - lr: 1.0000e-04\n",
      "Epoch 75/100\n",
      "26/26 [==============================] - ETA: 0s - loss: 0.3185 - mse_wrapper: 0.3185 - ca_wrapper: 0.8534 - meandiff: 2.4471\n",
      "Epoch 00075: loss improved from 0.32014 to 0.31848, saving model to exp/cv_histmatchchoice_newdata/8_64_64__8_2_2_4tenc_conv1_MSE_NOnorm_augshiftrot_taug_5_batch8_f0/2021-03-23_15_46/model/model.h5\n",
      "26/26 [==============================] - 71s 3s/step - loss: 0.3185 - mse_wrapper: 0.3185 - ca_wrapper: 0.8534 - meandiff: 2.4471 - val_loss: 0.7595 - val_mse_wrapper: 0.7595 - val_ca_wrapper: 0.7891 - val_meandiff: 4.2500 - lr: 1.0000e-04\n",
      "Epoch 76/100\n",
      "26/26 [==============================] - ETA: 0s - loss: 0.3074 - mse_wrapper: 0.3074 - ca_wrapper: 0.8504 - meandiff: 2.6106"
     ]
    },
    {
     "name": "stderr",
     "output_type": "stream",
     "text": [
      "2021-03-23 17:21:45,238 INFO (4, 2, 36, 5)\n",
      "2021-03-23 17:21:45,764 INFO (4, 2, 36, 5)\n"
     ]
    },
    {
     "name": "stdout",
     "output_type": "stream",
     "text": [
      "\n",
      "Epoch 00076: loss improved from 0.31848 to 0.30741, saving model to exp/cv_histmatchchoice_newdata/8_64_64__8_2_2_4tenc_conv1_MSE_NOnorm_augshiftrot_taug_5_batch8_f0/2021-03-23_15_46/model/model.h5\n",
      "26/26 [==============================] - 76s 3s/step - loss: 0.3074 - mse_wrapper: 0.3074 - ca_wrapper: 0.8504 - meandiff: 2.6106 - val_loss: 0.7380 - val_mse_wrapper: 0.7380 - val_ca_wrapper: 0.7886 - val_meandiff: 3.8594 - lr: 1.0000e-04\n",
      "Epoch 77/100\n",
      "26/26 [==============================] - ETA: 0s - loss: 0.3043 - mse_wrapper: 0.3043 - ca_wrapper: 0.8592 - meandiff: 2.5096\n",
      "Epoch 00077: loss improved from 0.30741 to 0.30428, saving model to exp/cv_histmatchchoice_newdata/8_64_64__8_2_2_4tenc_conv1_MSE_NOnorm_augshiftrot_taug_5_batch8_f0/2021-03-23_15_46/model/model.h5\n",
      "26/26 [==============================] - 78s 3s/step - loss: 0.3043 - mse_wrapper: 0.3043 - ca_wrapper: 0.8592 - meandiff: 2.5096 - val_loss: 0.7261 - val_mse_wrapper: 0.7261 - val_ca_wrapper: 0.7886 - val_meandiff: 3.9062 - lr: 1.0000e-04\n",
      "Epoch 78/100\n",
      "26/26 [==============================] - ETA: 0s - loss: 0.3091 - mse_wrapper: 0.3091 - ca_wrapper: 0.8520 - meandiff: 2.4471"
     ]
    },
    {
     "name": "stderr",
     "output_type": "stream",
     "text": [
      "2021-03-23 17:24:24,581 INFO (4, 2, 36, 5)\n",
      "2021-03-23 17:24:25,129 INFO (4, 2, 36, 5)\n"
     ]
    },
    {
     "name": "stdout",
     "output_type": "stream",
     "text": [
      "\n",
      "Epoch 00078: loss did not improve from 0.30428\n",
      "26/26 [==============================] - 76s 3s/step - loss: 0.3091 - mse_wrapper: 0.3091 - ca_wrapper: 0.8520 - meandiff: 2.4471 - val_loss: 0.8352 - val_mse_wrapper: 0.8352 - val_ca_wrapper: 0.7778 - val_meandiff: 3.6094 - lr: 1.0000e-04\n",
      "Epoch 79/100\n",
      "26/26 [==============================] - ETA: 0s - loss: 0.3174 - mse_wrapper: 0.3174 - ca_wrapper: 0.8483 - meandiff: 2.5481\n",
      "Epoch 00079: loss did not improve from 0.30428\n",
      "26/26 [==============================] - 70s 3s/step - loss: 0.3174 - mse_wrapper: 0.3174 - ca_wrapper: 0.8483 - meandiff: 2.5481 - val_loss: 0.7010 - val_mse_wrapper: 0.7010 - val_ca_wrapper: 0.7826 - val_meandiff: 3.9219 - lr: 1.0000e-04\n",
      "Epoch 80/100\n",
      "26/26 [==============================] - ETA: 0s - loss: 0.3012 - mse_wrapper: 0.3012 - ca_wrapper: 0.8552 - meandiff: 2.3221"
     ]
    },
    {
     "name": "stderr",
     "output_type": "stream",
     "text": [
      "2021-03-23 17:26:42,760 INFO (4, 2, 36, 5)\n",
      "2021-03-23 17:26:43,323 INFO (4, 2, 36, 5)\n"
     ]
    },
    {
     "name": "stdout",
     "output_type": "stream",
     "text": [
      "\n",
      "Epoch 00080: loss improved from 0.30428 to 0.30117, saving model to exp/cv_histmatchchoice_newdata/8_64_64__8_2_2_4tenc_conv1_MSE_NOnorm_augshiftrot_taug_5_batch8_f0/2021-03-23_15_46/model/model.h5\n",
      "26/26 [==============================] - 62s 2s/step - loss: 0.3012 - mse_wrapper: 0.3012 - ca_wrapper: 0.8552 - meandiff: 2.3221 - val_loss: 1.1072 - val_mse_wrapper: 1.1072 - val_ca_wrapper: 0.8047 - val_meandiff: 3.8281 - lr: 1.0000e-04\n",
      "Epoch 81/100\n",
      "26/26 [==============================] - ETA: 0s - loss: 0.2945 - mse_wrapper: 0.2945 - ca_wrapper: 0.8567 - meandiff: 2.4856\n",
      "Epoch 00081: loss improved from 0.30117 to 0.29452, saving model to exp/cv_histmatchchoice_newdata/8_64_64__8_2_2_4tenc_conv1_MSE_NOnorm_augshiftrot_taug_5_batch8_f0/2021-03-23_15_46/model/model.h5\n",
      "26/26 [==============================] - 71s 3s/step - loss: 0.2945 - mse_wrapper: 0.2945 - ca_wrapper: 0.8567 - meandiff: 2.4856 - val_loss: 0.8264 - val_mse_wrapper: 0.8264 - val_ca_wrapper: 0.7391 - val_meandiff: 4.1875 - lr: 1.0000e-04\n",
      "Epoch 82/100\n",
      "26/26 [==============================] - ETA: 0s - loss: 0.3099 - mse_wrapper: 0.3099 - ca_wrapper: 0.8522 - meandiff: 2.4135"
     ]
    },
    {
     "name": "stderr",
     "output_type": "stream",
     "text": [
      "2021-03-23 17:29:10,124 INFO (4, 2, 36, 5)\n",
      "2021-03-23 17:29:10,676 INFO (4, 2, 36, 5)\n"
     ]
    },
    {
     "name": "stdout",
     "output_type": "stream",
     "text": [
      "\n",
      "Epoch 00082: loss did not improve from 0.29452\n",
      "26/26 [==============================] - 70s 3s/step - loss: 0.3099 - mse_wrapper: 0.3099 - ca_wrapper: 0.8522 - meandiff: 2.4135 - val_loss: 0.6796 - val_mse_wrapper: 0.6796 - val_ca_wrapper: 0.7418 - val_meandiff: 4.1562 - lr: 1.0000e-04\n",
      "Epoch 83/100\n",
      "26/26 [==============================] - ETA: 0s - loss: 0.3070 - mse_wrapper: 0.3070 - ca_wrapper: 0.8447 - meandiff: 2.5288\n",
      "Epoch 00083: loss did not improve from 0.29452\n",
      "26/26 [==============================] - 63s 2s/step - loss: 0.3070 - mse_wrapper: 0.3070 - ca_wrapper: 0.8447 - meandiff: 2.5288 - val_loss: 0.7056 - val_mse_wrapper: 0.7056 - val_ca_wrapper: 0.8008 - val_meandiff: 3.7656 - lr: 1.0000e-04\n",
      "Epoch 84/100\n",
      "26/26 [==============================] - ETA: 0s - loss: 0.3082 - mse_wrapper: 0.3082 - ca_wrapper: 0.8490 - meandiff: 2.5048"
     ]
    },
    {
     "name": "stderr",
     "output_type": "stream",
     "text": [
      "2021-03-23 17:31:26,649 INFO (4, 2, 36, 5)\n",
      "2021-03-23 17:31:27,183 INFO (4, 2, 36, 5)\n"
     ]
    },
    {
     "name": "stdout",
     "output_type": "stream",
     "text": [
      "\n",
      "Epoch 00084: loss did not improve from 0.29452\n",
      "26/26 [==============================] - 69s 3s/step - loss: 0.3082 - mse_wrapper: 0.3082 - ca_wrapper: 0.8490 - meandiff: 2.5048 - val_loss: 0.6750 - val_mse_wrapper: 0.6750 - val_ca_wrapper: 0.7934 - val_meandiff: 3.7969 - lr: 1.0000e-04\n",
      "Epoch 85/100\n",
      "26/26 [==============================] - ETA: 0s - loss: 0.2986 - mse_wrapper: 0.2986 - ca_wrapper: 0.8512 - meandiff: 2.3413\n",
      "Epoch 00085: loss did not improve from 0.29452\n",
      "26/26 [==============================] - 66s 3s/step - loss: 0.2986 - mse_wrapper: 0.2986 - ca_wrapper: 0.8512 - meandiff: 2.3413 - val_loss: 0.8429 - val_mse_wrapper: 0.8429 - val_ca_wrapper: 0.7860 - val_meandiff: 4.0312 - lr: 1.0000e-04\n",
      "Epoch 86/100\n",
      "26/26 [==============================] - ETA: 0s - loss: 0.2914 - mse_wrapper: 0.2914 - ca_wrapper: 0.8522 - meandiff: 2.3413"
     ]
    },
    {
     "name": "stderr",
     "output_type": "stream",
     "text": [
      "2021-03-23 17:33:46,219 INFO (4, 2, 36, 5)\n",
      "2021-03-23 17:33:46,775 INFO (4, 2, 36, 5)\n"
     ]
    },
    {
     "name": "stdout",
     "output_type": "stream",
     "text": [
      "\n",
      "Epoch 00086: loss improved from 0.29452 to 0.29142, saving model to exp/cv_histmatchchoice_newdata/8_64_64__8_2_2_4tenc_conv1_MSE_NOnorm_augshiftrot_taug_5_batch8_f0/2021-03-23_15_46/model/model.h5\n",
      "26/26 [==============================] - 68s 3s/step - loss: 0.2914 - mse_wrapper: 0.2914 - ca_wrapper: 0.8522 - meandiff: 2.3413 - val_loss: 0.9560 - val_mse_wrapper: 0.9560 - val_ca_wrapper: 0.7925 - val_meandiff: 3.7500 - lr: 1.0000e-04\n",
      "Epoch 87/100\n",
      "26/26 [==============================] - ETA: 0s - loss: 0.3089 - mse_wrapper: 0.3089 - ca_wrapper: 0.8504 - meandiff: 2.4904\n",
      "Epoch 00087: loss did not improve from 0.29142\n",
      "26/26 [==============================] - 76s 3s/step - loss: 0.3089 - mse_wrapper: 0.3089 - ca_wrapper: 0.8504 - meandiff: 2.4904 - val_loss: 1.1238 - val_mse_wrapper: 1.1238 - val_ca_wrapper: 0.7938 - val_meandiff: 4.0781 - lr: 1.0000e-04\n",
      "Epoch 88/100\n",
      "26/26 [==============================] - ETA: 0s - loss: 0.2775 - mse_wrapper: 0.2775 - ca_wrapper: 0.8591 - meandiff: 2.2740"
     ]
    },
    {
     "name": "stderr",
     "output_type": "stream",
     "text": [
      "2021-03-23 17:36:25,042 INFO (4, 2, 36, 5)\n",
      "2021-03-23 17:36:25,568 INFO (4, 2, 36, 5)\n"
     ]
    },
    {
     "name": "stdout",
     "output_type": "stream",
     "text": [
      "\n",
      "Epoch 00088: loss improved from 0.29142 to 0.27754, saving model to exp/cv_histmatchchoice_newdata/8_64_64__8_2_2_4tenc_conv1_MSE_NOnorm_augshiftrot_taug_5_batch8_f0/2021-03-23_15_46/model/model.h5\n",
      "26/26 [==============================] - 74s 3s/step - loss: 0.2775 - mse_wrapper: 0.2775 - ca_wrapper: 0.8591 - meandiff: 2.2740 - val_loss: 0.8593 - val_mse_wrapper: 0.8593 - val_ca_wrapper: 0.7834 - val_meandiff: 4.0625 - lr: 1.0000e-04\n",
      "Epoch 89/100\n",
      "26/26 [==============================] - ETA: 0s - loss: 0.2856 - mse_wrapper: 0.2856 - ca_wrapper: 0.8602 - meandiff: 2.3317\n",
      "Epoch 00089: loss did not improve from 0.27754\n",
      "26/26 [==============================] - 59s 2s/step - loss: 0.2856 - mse_wrapper: 0.2856 - ca_wrapper: 0.8602 - meandiff: 2.3317 - val_loss: 0.9479 - val_mse_wrapper: 0.9479 - val_ca_wrapper: 0.7908 - val_meandiff: 3.6562 - lr: 1.0000e-04\n",
      "Epoch 90/100\n",
      "26/26 [==============================] - ETA: 0s - loss: 0.2847 - mse_wrapper: 0.2847 - ca_wrapper: 0.8570 - meandiff: 2.2212"
     ]
    },
    {
     "name": "stderr",
     "output_type": "stream",
     "text": [
      "2021-03-23 17:38:37,607 INFO (4, 2, 36, 5)\n",
      "2021-03-23 17:38:38,173 INFO (4, 2, 36, 5)\n"
     ]
    },
    {
     "name": "stdout",
     "output_type": "stream",
     "text": [
      "\n",
      "Epoch 00090: loss did not improve from 0.27754\n",
      "26/26 [==============================] - 67s 3s/step - loss: 0.2847 - mse_wrapper: 0.2847 - ca_wrapper: 0.8570 - meandiff: 2.2212 - val_loss: 0.9460 - val_mse_wrapper: 0.9460 - val_ca_wrapper: 0.7804 - val_meandiff: 3.9531 - lr: 1.0000e-04\n",
      "Epoch 91/100\n",
      "26/26 [==============================] - ETA: 0s - loss: 0.2823 - mse_wrapper: 0.2823 - ca_wrapper: 0.8575 - meandiff: 2.3798\n",
      "Epoch 00091: loss did not improve from 0.27754\n",
      "26/26 [==============================] - 67s 3s/step - loss: 0.2823 - mse_wrapper: 0.2823 - ca_wrapper: 0.8575 - meandiff: 2.3798 - val_loss: 0.8281 - val_mse_wrapper: 0.8281 - val_ca_wrapper: 0.7700 - val_meandiff: 3.8750 - lr: 1.0000e-04\n",
      "Epoch 92/100\n",
      "26/26 [==============================] - ETA: 0s - loss: 0.2958 - mse_wrapper: 0.2958 - ca_wrapper: 0.8519 - meandiff: 2.2308"
     ]
    },
    {
     "name": "stderr",
     "output_type": "stream",
     "text": [
      "2021-03-23 17:41:08,171 INFO (4, 2, 36, 5)\n",
      "2021-03-23 17:41:08,737 INFO (4, 2, 36, 5)\n"
     ]
    },
    {
     "name": "stdout",
     "output_type": "stream",
     "text": [
      "\n",
      "Epoch 00092: loss did not improve from 0.27754\n",
      "26/26 [==============================] - 78s 3s/step - loss: 0.2958 - mse_wrapper: 0.2958 - ca_wrapper: 0.8519 - meandiff: 2.2308 - val_loss: 0.9005 - val_mse_wrapper: 0.9005 - val_ca_wrapper: 0.7826 - val_meandiff: 3.8438 - lr: 1.0000e-04\n",
      "Epoch 93/100\n",
      "26/26 [==============================] - ETA: 0s - loss: 0.2855 - mse_wrapper: 0.2855 - ca_wrapper: 0.8558 - meandiff: 2.2019\n",
      "Epoch 00093: loss did not improve from 0.27754\n",
      "\n",
      "Epoch 00093: ReduceLROnPlateau reducing learning rate to 6.999999823165126e-05.\n",
      "26/26 [==============================] - 66s 3s/step - loss: 0.2855 - mse_wrapper: 0.2855 - ca_wrapper: 0.8558 - meandiff: 2.2019 - val_loss: 0.8014 - val_mse_wrapper: 0.8014 - val_ca_wrapper: 0.8003 - val_meandiff: 3.7031 - lr: 7.0000e-05\n",
      "Epoch 94/100\n",
      "26/26 [==============================] - ETA: 0s - loss: 0.2616 - mse_wrapper: 0.2616 - ca_wrapper: 0.8588 - meandiff: 2.0865"
     ]
    },
    {
     "name": "stderr",
     "output_type": "stream",
     "text": [
      "2021-03-23 17:43:24,280 INFO (4, 2, 36, 5)\n",
      "2021-03-23 17:43:24,838 INFO (4, 2, 36, 5)\n"
     ]
    },
    {
     "name": "stdout",
     "output_type": "stream",
     "text": [
      "\n",
      "Epoch 00094: loss improved from 0.27754 to 0.26158, saving model to exp/cv_histmatchchoice_newdata/8_64_64__8_2_2_4tenc_conv1_MSE_NOnorm_augshiftrot_taug_5_batch8_f0/2021-03-23_15_46/model/model.h5\n",
      "26/26 [==============================] - 63s 2s/step - loss: 0.2616 - mse_wrapper: 0.2616 - ca_wrapper: 0.8588 - meandiff: 2.0865 - val_loss: 0.8971 - val_mse_wrapper: 0.8971 - val_ca_wrapper: 0.7995 - val_meandiff: 4.1094 - lr: 7.0000e-05\n",
      "Epoch 95/100\n",
      "26/26 [==============================] - ETA: 0s - loss: 0.2671 - mse_wrapper: 0.2671 - ca_wrapper: 0.8630 - meandiff: 2.0817\n",
      "Epoch 00095: loss did not improve from 0.26158\n",
      "26/26 [==============================] - 71s 3s/step - loss: 0.2671 - mse_wrapper: 0.2671 - ca_wrapper: 0.8630 - meandiff: 2.0817 - val_loss: 0.7984 - val_mse_wrapper: 0.7984 - val_ca_wrapper: 0.7791 - val_meandiff: 3.8594 - lr: 7.0000e-05\n",
      "Epoch 96/100\n",
      "26/26 [==============================] - ETA: 0s - loss: 0.2656 - mse_wrapper: 0.2656 - ca_wrapper: 0.8584 - meandiff: 2.1250"
     ]
    },
    {
     "name": "stderr",
     "output_type": "stream",
     "text": [
      "2021-03-23 17:45:49,026 INFO (4, 2, 36, 5)\n",
      "2021-03-23 17:45:49,588 INFO (4, 2, 36, 5)\n"
     ]
    },
    {
     "name": "stdout",
     "output_type": "stream",
     "text": [
      "\n",
      "Epoch 00096: loss did not improve from 0.26158\n",
      "26/26 [==============================] - 67s 3s/step - loss: 0.2656 - mse_wrapper: 0.2656 - ca_wrapper: 0.8584 - meandiff: 2.1250 - val_loss: 0.8008 - val_mse_wrapper: 0.8008 - val_ca_wrapper: 0.7938 - val_meandiff: 3.9844 - lr: 7.0000e-05\n",
      "Epoch 97/100\n",
      "26/26 [==============================] - ETA: 0s - loss: 0.2696 - mse_wrapper: 0.2696 - ca_wrapper: 0.8591 - meandiff: 1.9952\n",
      "Epoch 00097: loss did not improve from 0.26158\n",
      "26/26 [==============================] - 76s 3s/step - loss: 0.2696 - mse_wrapper: 0.2696 - ca_wrapper: 0.8591 - meandiff: 1.9952 - val_loss: 0.9975 - val_mse_wrapper: 0.9975 - val_ca_wrapper: 0.8186 - val_meandiff: 3.7812 - lr: 7.0000e-05\n",
      "Epoch 98/100\n",
      "26/26 [==============================] - ETA: 0s - loss: 0.2686 - mse_wrapper: 0.2686 - ca_wrapper: 0.8576 - meandiff: 2.1442"
     ]
    },
    {
     "name": "stderr",
     "output_type": "stream",
     "text": [
      "2021-03-23 17:48:20,027 INFO (4, 2, 36, 5)\n",
      "2021-03-23 17:48:20,592 INFO (4, 2, 36, 5)\n"
     ]
    },
    {
     "name": "stdout",
     "output_type": "stream",
     "text": [
      "\n",
      "Epoch 00098: loss did not improve from 0.26158\n",
      "26/26 [==============================] - 68s 3s/step - loss: 0.2686 - mse_wrapper: 0.2686 - ca_wrapper: 0.8576 - meandiff: 2.1442 - val_loss: 0.8410 - val_mse_wrapper: 0.8410 - val_ca_wrapper: 0.7960 - val_meandiff: 3.7969 - lr: 7.0000e-05\n",
      "Epoch 99/100\n",
      "26/26 [==============================] - ETA: 0s - loss: 0.2641 - mse_wrapper: 0.2641 - ca_wrapper: 0.8604 - meandiff: 2.0144\n",
      "Epoch 00099: loss did not improve from 0.26158\n",
      "\n",
      "Epoch 00099: ReduceLROnPlateau reducing learning rate to 4.899999621557071e-05.\n",
      "26/26 [==============================] - 75s 3s/step - loss: 0.2641 - mse_wrapper: 0.2641 - ca_wrapper: 0.8604 - meandiff: 2.0144 - val_loss: 0.7459 - val_mse_wrapper: 0.7459 - val_ca_wrapper: 0.7930 - val_meandiff: 3.7656 - lr: 4.9000e-05\n",
      "Epoch 100/100\n",
      "26/26 [==============================] - ETA: 0s - loss: 0.2519 - mse_wrapper: 0.2519 - ca_wrapper: 0.8634 - meandiff: 1.9952"
     ]
    },
    {
     "name": "stderr",
     "output_type": "stream",
     "text": [
      "2021-03-23 17:50:59,801 INFO (4, 2, 36, 5)\n",
      "2021-03-23 17:51:00,356 INFO (4, 2, 36, 5)\n"
     ]
    },
    {
     "name": "stdout",
     "output_type": "stream",
     "text": [
      "\n",
      "Epoch 00100: loss improved from 0.26158 to 0.25188, saving model to exp/cv_histmatchchoice_newdata/8_64_64__8_2_2_4tenc_conv1_MSE_NOnorm_augshiftrot_taug_5_batch8_f0/2021-03-23_15_46/model/model.h5\n",
      "26/26 [==============================] - 77s 3s/step - loss: 0.2519 - mse_wrapper: 0.2519 - ca_wrapper: 0.8634 - meandiff: 1.9952 - val_loss: 0.7220 - val_mse_wrapper: 0.7220 - val_ca_wrapper: 0.7912 - val_meandiff: 4.0312 - lr: 4.9000e-05\n"
     ]
    },
    {
     "name": "stderr",
     "output_type": "stream",
     "text": [
      "2021-03-23 17:51:02,164 INFO Fold 0 finished after 7460.797 sec\n"
     ]
    },
    {
     "data": {
      "text/plain": [
       "True"
      ]
     },
     "execution_count": 2,
     "metadata": {},
     "output_type": "execute_result"
    }
   ],
   "source": [
    "from src.models.train_model import train_fold\n",
    "\n",
    "folds = [i for i in range(0, 1, 1)]\n",
    "\n",
    "for f in folds:\n",
    "    info('starting fold: {}'.format(f))\n",
    "    config_ = config.copy()\n",
    "    config_['FOLD'] = f\n",
    "    train_fold(config_)"
   ]
  },
  {
   "cell_type": "code",
   "execution_count": 11,
   "metadata": {},
   "outputs": [
    {
     "name": "stdout",
     "output_type": "stream",
     "text": [
      "({'1': 'a'},)\n"
     ]
    }
   ],
   "source": [
    "def foo(*kwargs):\n",
    "    print(kwargs)\n",
    "    \n",
    "    \n",
    "cfg = {}\n",
    "cfg['1'] = 'a'\n",
    "\n",
    "foo(cfg)"
   ]
  },
  {
   "cell_type": "code",
   "execution_count": null,
   "metadata": {},
   "outputs": [],
   "source": []
  }
 ],
 "metadata": {
  "kernelspec": {
   "display_name": "dcmr",
   "language": "python",
   "name": "dcmr"
  },
  "language_info": {
   "codemirror_mode": {
    "name": "ipython",
    "version": 3
   },
   "file_extension": ".py",
   "mimetype": "text/x-python",
   "name": "python",
   "nbconvert_exporter": "python",
   "pygments_lexer": "ipython3",
   "version": "3.8.5"
  },
  "widgets": {
   "application/vnd.jupyter.widget-state+json": {
    "state": {},
    "version_major": 2,
    "version_minor": 0
   }
  }
 },
 "nbformat": 4,
 "nbformat_minor": 4
}
