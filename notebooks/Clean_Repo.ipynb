{
 "cells": [
  {
   "cell_type": "code",
   "execution_count": 1,
   "metadata": {},
   "outputs": [
    {
     "name": "stdout",
     "output_type": "stream",
     "text": [
      "search for root_dir and set working directory\n",
      "Working directory set to: /mnt/ssd/git/cardio\n"
     ]
    },
    {
     "name": "stderr",
     "output_type": "stream",
     "text": [
      "2021-01-28 16:52:06,520 INFO -------------------- Start --------------------\n",
      "2021-01-28 16:52:06,521 INFO Working directory: /mnt/ssd/git/cardio.\n",
      "2021-01-28 16:52:06,521 INFO Log file: ./logs/Clean_Repo.log\n",
      "2021-01-28 16:52:06,521 INFO Log level for console: INFO\n"
     ]
    },
    {
     "data": {
      "application/vnd.jupyter.widget-view+json": {
       "model_id": "f240ecc3140e42ef88e3217b4500c768",
       "version_major": 2,
       "version_minor": 0
      },
      "text/plain": [
       "FileChooser(path='/mnt/ssd/git/cardio/reports/configs', filename='config.json', title='HTML(value='', layout=L…"
      ]
     },
     "metadata": {},
     "output_type": "display_data"
    },
    {
     "data": {
      "application/vnd.jupyter.widget-view+json": {
       "model_id": "845401ea474549f2a43cafd287bda4d2",
       "version_major": 2,
       "version_minor": 0
      },
      "text/plain": [
       "interactive(children=(Checkbox(value=False, description='delete'), Output()), _dom_classes=('widget-interact',…"
      ]
     },
     "metadata": {},
     "output_type": "display_data"
    }
   ],
   "source": [
    "# define logging and working directory\n",
    "from ProjectRoot import change_wd_to_project_root \n",
    "change_wd_to_project_root()\n",
    "%matplotlib inline\n",
    "%reload_ext autoreload\n",
    "%autoreload 2\n",
    "from src.utils.notebook_imports import *\n",
    "Console_and_file_logger('Clean_Repo')\n",
    "\n",
    "import shutil\n",
    "import os\n",
    "from src.data.Dataset_utils import load_config\n",
    "# test with interativ filechooser\n",
    "from ipyfilechooser import FileChooser\n",
    "config_chooser = FileChooser(os.path.join(os.getcwd(),'reports/configs'), 'config.json')\n",
    "display(config_chooser)\n",
    "config_file  = config_chooser.selected\n",
    "@interact\n",
    "def load_config_interactive(delete=False):\n",
    "    \"\"\"\n",
    "    load config, tranings history and model\n",
    "    \"\"\"\n",
    "    config_file  = config_chooser.selected\n",
    "    logging.info(config_file)\n",
    "    if config_file and os.path.exists(config_file):\n",
    "        # load config with all params into global namespace\n",
    "        glob_ = load_config(config_file_path=config_file, load=False)\n",
    "\n",
    "        # update global namesspace to make config, model and evaluation score accessible\n",
    "        globals().update(glob_)\n",
    "        if delete:\n",
    "\n",
    "            paths_to_be_deleted = [config['CONFIG_PATH'], config['HISTORY_PATH'], config['MODEL_PATH'], config['TENSORBOARD_LOG_DIR']]\n",
    "\n",
    "            for p in paths_to_be_deleted:\n",
    "                try:\n",
    "                    logging.info('delete folder: {}'.format(p))\n",
    "                    shutil.rmtree(p, ignore_errors=True)\n",
    "                except Exception as e:\n",
    "                    logging.info(str(e))\n",
    "\n",
    "            logging.info('delete successful')\n",
    "        else:\n",
    "            # log config params\n",
    "            print('Experiment: {}'.format(config['EXPERIMENT']))\n",
    "            print('config:\\n {}'.format(json.dumps(config, indent=4, sort_keys=True)))\n",
    "    else:\n",
    "        logging.info('no config found')"
   ]
  },
  {
   "cell_type": "markdown",
   "metadata": {},
   "source": [
    "# Delete multiple experiments by dropdown"
   ]
  },
  {
   "cell_type": "code",
   "execution_count": 2,
   "metadata": {},
   "outputs": [
    {
     "data": {
      "application/vnd.jupyter.widget-view+json": {
       "model_id": "554e88d65bd641828e9fd22a85caf83e",
       "version_major": 2,
       "version_minor": 0
      },
      "text/plain": [
       "FileChooser(path='/mnt/ssd/git/cardio/reports/configs', filename='', title='HTML(value='', layout=Layout(displ…"
      ]
     },
     "metadata": {},
     "output_type": "display_data"
    }
   ],
   "source": [
    "from ipyfilechooser import FileChooser\n",
    "config_path_chooser = FileChooser(os.path.join(os.getcwd(),'reports/configs'))\n",
    "display(config_path_chooser)"
   ]
  },
  {
   "cell_type": "code",
   "execution_count": 5,
   "metadata": {},
   "outputs": [
    {
     "data": {
      "application/vnd.jupyter.widget-view+json": {
       "model_id": "a1229fb0497d40fcb059af8dadd520d5",
       "version_major": 2,
       "version_minor": 0
      },
      "text/plain": [
       "interactive(children=(Dropdown(description='config_file', options=('/mnt/ssd/git/cardio/reports/configs/3D/ACD…"
      ]
     },
     "metadata": {},
     "output_type": "display_data"
    }
   ],
   "source": [
    "config_path  = config_path_chooser.selected_path\n",
    "@interact\n",
    "def load_config_interactive(config_file=sorted(glob.glob(os.path.join(config_path,'**/**/*.json'), recursive=True)), delete=False):\n",
    "    \"\"\"\n",
    "    load config, tranings history and model\n",
    "    \"\"\"\n",
    "\n",
    "    if config_file:\n",
    "        # load config with all params into global namespace\n",
    "        glob_ = load_config(config_file_path=config_file, load=False)\n",
    "\n",
    "        # update global namesspace to make config, model and evaluation score accessible\n",
    "        globals().update(glob_)\n",
    "        if delete:\n",
    "\n",
    "            paths_to_be_deleted = [config['CONFIG_PATH'], config['HISTORY_PATH'], config['MODEL_PATH'], config['TENSORBOARD_LOG_DIR']]\n",
    "\n",
    "            for p in paths_to_be_deleted:\n",
    "                try:\n",
    "                    logging.info('delete folder: {}'.format(p))\n",
    "                    shutil.rmtree(p, ignore_errors=True)\n",
    "                except Exception as e:\n",
    "                    logging.info(str(e))\n",
    "\n",
    "            logging.info('delete successful')\n",
    "        else:\n",
    "            # log config params\n",
    "            print('Experiment: {}'.format(config['EXPERIMENT']))\n",
    "            print('config:\\n {}'.format(json.dumps(config, indent=4, sort_keys=True)))\n",
    "    else:\n",
    "        logging.info('no config found')"
   ]
  },
  {
   "cell_type": "code",
   "execution_count": null,
   "metadata": {},
   "outputs": [],
   "source": []
  }
 ],
 "metadata": {
  "kernelspec": {
   "display_name": "ax2sax",
   "language": "python",
   "name": "ax2sax"
  },
  "language_info": {
   "codemirror_mode": {
    "name": "ipython",
    "version": 3
   },
   "file_extension": ".py",
   "mimetype": "text/x-python",
   "name": "python",
   "nbconvert_exporter": "python",
   "pygments_lexer": "ipython3",
   "version": "3.6.9"
  },
  "widgets": {
   "application/vnd.jupyter.widget-state+json": {
    "state": {},
    "version_major": 2,
    "version_minor": 0
   }
  }
 },
 "nbformat": 4,
 "nbformat_minor": 4
}
