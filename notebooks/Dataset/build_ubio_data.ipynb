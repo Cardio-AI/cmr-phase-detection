{
 "cells": [
  {
   "cell_type": "code",
   "execution_count": 45,
   "id": "73a00b84",
   "metadata": {},
   "outputs": [
    {
     "name": "stderr",
     "output_type": "stream",
     "text": [
      "2022-06-02 12:01:03,099 INFO -------------------- Start --------------------\n",
      "2022-06-02 12:01:03,100 INFO Working directory: /mnt/ssd/git/cmr-phase-detection.\n",
      "2022-06-02 12:01:03,100 INFO Log file: ./logs/Log.log\n",
      "2022-06-02 12:01:03,100 INFO Log level for console: INFO\n"
     ]
    },
    {
     "name": "stdout",
     "output_type": "stream",
     "text": [
      "search for root_dir and set working directory\n",
      "Working directory set to: /mnt/ssd/git/cmr-phase-detection\n"
     ]
    },
    {
     "data": {
      "text/plain": [
       "<src.utils.Utils_io.Console_and_file_logger at 0x7fa8f5e6f790>"
      ]
     },
     "execution_count": 45,
     "metadata": {},
     "output_type": "execute_result"
    }
   ],
   "source": [
    "# define logging and working directory\n",
    "from ProjectRoot import change_wd_to_project_root\n",
    "change_wd_to_project_root()\n",
    "import os\n",
    "import glob\n",
    "import SimpleITK as sitk\n",
    "import numpy as np\n",
    "import logging\n",
    "from ipywidgets import interact\n",
    "import ipywidgets as widgets\n",
    "from src.data.datasets import UKBioPatient\n",
    "from src.utils.Utils_io import Console_and_file_logger\n",
    "%reload_ext autoreload\n",
    "%autoreload 2\n",
    "Console_and_file_logger(log_lvl=logging.INFO)"
   ]
  },
  {
   "cell_type": "code",
   "execution_count": 46,
   "id": "e8ba0220",
   "metadata": {
    "tags": []
   },
   "outputs": [
    {
     "name": "stderr",
     "output_type": "stream",
     "text": [
      "2022-06-02 12:01:13,160 INFO processing patient: PN7MKF9C\n",
      "2022-06-02 12:01:13,631 INFO Image size: (192, 208, 8, 50)\n",
      "2022-06-02 12:01:13,631 INFO Image Spacing: (1.8269230127335, 1.8269230127335, 10.0, 17.0)\n",
      "2022-06-02 12:01:13,698 INFO patient PN7MKF9C done.\n"
     ]
    }
   ],
   "source": [
    "# create one UKBioPatient per patient, this will extract the SAX CMR volume as 4D nrrd\n",
    "# initialise all files\n",
    "pat = UKBioPatient('/mnt/ssd/data/ukbio/patient_test/1001829_20209_2_0/',export_root='/mnt/ssd/data/ukbio/import/')\n",
    "# load dicom files and process\n",
    "pat()"
   ]
  },
  {
   "cell_type": "code",
   "execution_count": 47,
   "id": "e92d0bb6",
   "metadata": {},
   "outputs": [
    {
     "name": "stderr",
     "output_type": "stream",
     "text": [
      "2022-06-02 12:01:16,179 INFO processing patient: J67B4XM8\n"
     ]
    },
    {
     "name": "stdout",
     "output_type": "stream",
     "text": [
      "14\n"
     ]
    },
    {
     "name": "stderr",
     "output_type": "stream",
     "text": [
      "2022-06-02 12:01:16,856 INFO Image size: (174, 208, 11, 50)\n",
      "2022-06-02 12:01:16,856 INFO Image Spacing: (1.8269230127335, 1.8269230127335, 10.0, 22.0)\n",
      "2022-06-02 12:01:16,904 INFO patient J67B4XM8 done.\n",
      "2022-06-02 12:01:16,925 INFO processing patient: BPAU9F4K\n",
      "2022-06-02 12:01:17,528 INFO Image size: (186, 208, 11, 50)\n",
      "2022-06-02 12:01:17,529 INFO Image Spacing: (1.8269230127335, 1.8269230127335, 10.0, 16.0)\n",
      "2022-06-02 12:01:17,580 INFO patient BPAU9F4K done.\n",
      "2022-06-02 12:01:17,607 INFO processing patient: B4ACBHZX\n",
      "2022-06-02 12:01:18,258 INFO Image size: (180, 208, 11, 50)\n",
      "2022-06-02 12:01:18,258 INFO Image Spacing: (1.8269231319427, 1.8269231319427, 10.0, 17.0)\n",
      "2022-06-02 12:01:18,307 INFO patient B4ACBHZX done.\n",
      "2022-06-02 12:01:18,328 INFO processing patient: 7T4446E8\n",
      "2022-06-02 12:01:18,909 INFO Image size: (156, 208, 11, 50)\n",
      "2022-06-02 12:01:18,910 INFO Image Spacing: (1.8269231319427, 1.8269231319427, 10.0, 24.0)\n",
      "2022-06-02 12:01:18,953 INFO patient 7T4446E8 done.\n",
      "2022-06-02 12:01:18,976 INFO processing patient: H5APS85U\n",
      "2022-06-02 12:01:19,775 INFO Image size: (210, 208, 13, 50)\n",
      "2022-06-02 12:01:19,775 INFO Image Spacing: (1.9326922893524, 1.9326922893524, 10.0, 21.0)\n",
      "2022-06-02 12:01:19,891 INFO patient H5APS85U done.\n",
      "2022-06-02 12:01:19,932 INFO processing patient: AZD5K7EZ\n",
      "2022-06-02 12:01:20,552 INFO Image size: (210, 208, 11, 50)\n",
      "2022-06-02 12:01:20,553 INFO Image Spacing: (2.0192308425903, 2.0192308425903, 10.0, 17.0)\n",
      "2022-06-02 12:01:20,605 INFO patient AZD5K7EZ done.\n",
      "2022-06-02 12:01:20,630 INFO processing patient: FXM2CFXC\n",
      "2022-06-02 12:01:21,295 INFO Image size: (174, 208, 12, 50)\n",
      "2022-06-02 12:01:21,295 INFO Image Spacing: (1.8269230127335, 1.8269230127335, 10.0, 20.0)\n",
      "2022-06-02 12:01:21,343 INFO patient FXM2CFXC done.\n",
      "2022-06-02 12:01:21,371 INFO processing patient: AJ3Q53ZX\n",
      "2022-06-02 12:01:21,978 INFO Image size: (150, 208, 11, 50)\n",
      "2022-06-02 12:01:21,979 INFO Image Spacing: (1.8269230127335, 1.8269230127335, 10.0, 19.0)\n",
      "2022-06-02 12:01:22,059 INFO patient AJ3Q53ZX done.\n",
      "2022-06-02 12:01:22,117 INFO processing patient: 8EDKNM2A\n",
      "2022-06-02 12:01:22,925 INFO Image size: (198, 208, 13, 50)\n",
      "2022-06-02 12:01:22,925 INFO Image Spacing: (1.8269231319427, 1.8269231319427, 10.0, 17.0)\n",
      "2022-06-02 12:01:23,044 INFO patient 8EDKNM2A done.\n",
      "2022-06-02 12:01:23,099 INFO processing patient: F9H77M6J\n",
      "2022-06-02 12:01:23,713 INFO Image size: (192, 208, 11, 50)\n",
      "2022-06-02 12:01:23,713 INFO Image Spacing: (1.8269230127335, 1.8269230127335, 10.0, 24.0)\n",
      "2022-06-02 12:01:23,806 INFO patient F9H77M6J done.\n",
      "2022-06-02 12:01:23,835 INFO processing patient: PN7MKF9C\n",
      "2022-06-02 12:01:24,279 INFO Image size: (192, 208, 8, 50)\n",
      "2022-06-02 12:01:24,279 INFO Image Spacing: (1.8269230127335, 1.8269230127335, 10.0, 17.0)\n",
      "2022-06-02 12:01:24,334 INFO patient PN7MKF9C done.\n",
      "2022-06-02 12:01:24,352 INFO processing patient: 8P5ZBDC7\n",
      "2022-06-02 12:01:24,898 INFO Image size: (180, 208, 10, 50)\n",
      "2022-06-02 12:01:24,899 INFO Image Spacing: (1.8269231319427, 1.8269231319427, 10.0, 17.0)\n",
      "2022-06-02 12:01:24,939 INFO patient 8P5ZBDC7 done.\n",
      "2022-06-02 12:01:24,959 INFO processing patient: 62MKET37\n",
      "2022-06-02 12:01:25,648 INFO Image size: (210, 208, 12, 50)\n",
      "2022-06-02 12:01:25,649 INFO Image Spacing: (1.9615384340286, 1.9615384340286, 10.0, 24.0)\n",
      "2022-06-02 12:01:25,713 INFO patient 62MKET37 done.\n",
      "2022-06-02 12:01:25,749 INFO processing patient: A6V6QBJ7\n",
      "2022-06-02 12:01:26,454 INFO Image size: (210, 208, 12, 50)\n",
      "2022-06-02 12:01:26,454 INFO Image Spacing: (1.9326922893524, 1.9326922893524, 10.0, 16.0)\n",
      "2022-06-02 12:01:26,515 INFO patient A6V6QBJ7 done.\n"
     ]
    }
   ],
   "source": [
    "import_path = '/mnt/ssd/data/ukbio/raw/'\n",
    "export_root = '/mnt/ssd/data/ukbio/import/'\n",
    "patients = sorted(glob.glob(os.path.join(import_path,'*/')))\n",
    "print(len(patients))\n",
    "for p in patients:\n",
    "    UKBioPatient(p,export_root=export_root)()"
   ]
  },
  {
   "cell_type": "code",
   "execution_count": 145,
   "id": "5ef81fc6",
   "metadata": {},
   "outputs": [
    {
     "name": "stdout",
     "output_type": "stream",
     "text": [
      "1053\n",
      "/mnt/ssd/data/ukbio/patient_test/manifest.cvs\n"
     ]
    }
   ],
   "source": [
    "files_ = sorted(glob.glob('/mnt/ssd/data/ukbio/patient_test/*.dcm'))\n",
    "manifest_f = glob.glob('/mnt/ssd/data/ukbio/patient_test/manifest.cvs')[0]\n",
    "print(len(files_))\n",
    "print(manifest_f)"
   ]
  },
  {
   "cell_type": "code",
   "execution_count": 162,
   "id": "7c9d23e0",
   "metadata": {},
   "outputs": [
    {
     "name": "stderr",
     "output_type": "stream",
     "text": [
      "2022-06-01 15:51:40,174 DEBUG 32NXXT4Z\n",
      "2022-06-01 15:51:40,583 DEBUG images to sort: 450 , sortbytime: False\n",
      "2022-06-01 15:51:40,584 DEBUG size: (156, 208, 1)\n",
      "2022-06-01 15:51:40,584 DEBUG spacing: (1.8269231319427, 1.8269231319427, 10.0)\n",
      "2022-06-01 15:51:40,585 DEBUG origin: (161.10707934196, -114.95163237563, 167.20877373984)\n",
      "2022-06-01 15:51:40,585 DEBUG direction: (0.2934131097787892, -0.7983333513402902, -0.5259017086373854, 0.8631374839303209, -0.015265339788399862, 0.5047382026710282, -0.41097740916548625, -0.6020222832577926, 0.6845923893943745)\n",
      "2022-06-01 15:51:40,585 DEBUG pixel type: 16-bit unsigned integer\n",
      "2022-06-01 15:51:40,586 DEBUG number of pixel components: 1\n",
      "2022-06-01 15:51:40,587 DEBUG images: 450\n",
      "2022-06-01 15:51:40,587 DEBUG timesteps: 50\n",
      "2022-06-01 15:51:40,588 DEBUG slices: 9\n",
      "2022-06-01 15:51:40,588 DEBUG Temporal resolution: 18.0\n",
      "2022-06-01 15:51:40,588 DEBUG images to sort: 50 , sortbytime: True\n",
      "2022-06-01 15:51:40,590 DEBUG images to sort: 50 , sortbytime: True\n",
      "2022-06-01 15:51:40,591 DEBUG images to sort: 50 , sortbytime: True\n",
      "2022-06-01 15:51:40,592 DEBUG images to sort: 50 , sortbytime: True\n",
      "2022-06-01 15:51:40,594 DEBUG images to sort: 50 , sortbytime: True\n",
      "2022-06-01 15:51:40,595 DEBUG images to sort: 50 , sortbytime: True\n",
      "2022-06-01 15:51:40,597 DEBUG images to sort: 50 , sortbytime: True\n",
      "2022-06-01 15:51:40,598 DEBUG images to sort: 50 , sortbytime: True\n",
      "2022-06-01 15:51:40,600 DEBUG images to sort: 50 , sortbytime: True\n",
      "2022-06-01 15:51:41,225 INFO Image size: (156, 208, 45, 50)\n",
      "2022-06-01 15:51:41,225 DEBUG Image dimension: 4\n",
      "2022-06-01 15:51:41,226 INFO Image Spacing: (1.8269231319427, 1.8269231319427, 10.0, 18.0)\n",
      "2022-06-01 15:51:41,226 DEBUG Writing images ...\n"
     ]
    }
   ],
   "source": [
    "pat = UKBioPatient('/mnt/ssd/data/ukbio/patient_test/',export_root='/mnt/ssd/data/ukbio/import/')()"
   ]
  },
  {
   "cell_type": "code",
   "execution_count": 129,
   "id": "244d04ef",
   "metadata": {},
   "outputs": [
    {
     "data": {
      "text/html": [
       "<div>\n",
       "<style scoped>\n",
       "    .dataframe tbody tr th:only-of-type {\n",
       "        vertical-align: middle;\n",
       "    }\n",
       "\n",
       "    .dataframe tbody tr th {\n",
       "        vertical-align: top;\n",
       "    }\n",
       "\n",
       "    .dataframe thead th {\n",
       "        text-align: right;\n",
       "    }\n",
       "</style>\n",
       "<table border=\"1\" class=\"dataframe\">\n",
       "  <thead>\n",
       "    <tr style=\"text-align: right;\">\n",
       "      <th></th>\n",
       "      <th>filename</th>\n",
       "      <th>patientid</th>\n",
       "      <th>studyid</th>\n",
       "      <th>study discription</th>\n",
       "      <th>date</th>\n",
       "      <th>seriesid</th>\n",
       "      <th>series discription</th>\n",
       "      <th>aet</th>\n",
       "      <th>host</th>\n",
       "    </tr>\n",
       "  </thead>\n",
       "  <tbody>\n",
       "    <tr>\n",
       "      <th>0</th>\n",
       "      <td>1.3.12.2.1107.5.2.18.141631.201911091130553325...</td>\n",
       "      <td>32NXXT4Z</td>\n",
       "      <td>1.2.826.0.1.4978912.2202.20191109110547</td>\n",
       "      <td>UK_Biobank^heart</td>\n",
       "      <td>2019-11-09</td>\n",
       "      <td>1.3.12.2.1107.5.2.18.141631.201911091129197654...</td>\n",
       "      <td>CINE_segmented_SAX_b7</td>\n",
       "      <td>Aera</td>\n",
       "      <td>AWP141631</td>\n",
       "    </tr>\n",
       "    <tr>\n",
       "      <th>1</th>\n",
       "      <td>1.3.12.2.1107.5.2.18.141631.201911091130552702...</td>\n",
       "      <td>32NXXT4Z</td>\n",
       "      <td>1.2.826.0.1.4978912.2202.20191109110547</td>\n",
       "      <td>UK_Biobank^heart</td>\n",
       "      <td>2019-11-09</td>\n",
       "      <td>1.3.12.2.1107.5.2.18.141631.201911091129197654...</td>\n",
       "      <td>CINE_segmented_SAX_b7</td>\n",
       "      <td>Aera</td>\n",
       "      <td>AWP141631</td>\n",
       "    </tr>\n",
       "    <tr>\n",
       "      <th>2</th>\n",
       "      <td>1.3.12.2.1107.5.2.18.141631.201911091130546533...</td>\n",
       "      <td>32NXXT4Z</td>\n",
       "      <td>1.2.826.0.1.4978912.2202.20191109110547</td>\n",
       "      <td>UK_Biobank^heart</td>\n",
       "      <td>2019-11-09</td>\n",
       "      <td>1.3.12.2.1107.5.2.18.141631.201911091129197654...</td>\n",
       "      <td>CINE_segmented_SAX_b7</td>\n",
       "      <td>Aera</td>\n",
       "      <td>AWP141631</td>\n",
       "    </tr>\n",
       "    <tr>\n",
       "      <th>3</th>\n",
       "      <td>1.3.12.2.1107.5.2.18.141631.201911091130549945...</td>\n",
       "      <td>32NXXT4Z</td>\n",
       "      <td>1.2.826.0.1.4978912.2202.20191109110547</td>\n",
       "      <td>UK_Biobank^heart</td>\n",
       "      <td>2019-11-09</td>\n",
       "      <td>1.3.12.2.1107.5.2.18.141631.201911091129197654...</td>\n",
       "      <td>CINE_segmented_SAX_b7</td>\n",
       "      <td>Aera</td>\n",
       "      <td>AWP141631</td>\n",
       "    </tr>\n",
       "    <tr>\n",
       "      <th>4</th>\n",
       "      <td>1.3.12.2.1107.5.2.18.141631.201911091130552804...</td>\n",
       "      <td>32NXXT4Z</td>\n",
       "      <td>1.2.826.0.1.4978912.2202.20191109110547</td>\n",
       "      <td>UK_Biobank^heart</td>\n",
       "      <td>2019-11-09</td>\n",
       "      <td>1.3.12.2.1107.5.2.18.141631.201911091129197654...</td>\n",
       "      <td>CINE_segmented_SAX_b7</td>\n",
       "      <td>Aera</td>\n",
       "      <td>AWP141631</td>\n",
       "    </tr>\n",
       "  </tbody>\n",
       "</table>\n",
       "</div>"
      ],
      "text/plain": [
       "                                            filename patientid  \\\n",
       "0  1.3.12.2.1107.5.2.18.141631.201911091130553325...  32NXXT4Z   \n",
       "1  1.3.12.2.1107.5.2.18.141631.201911091130552702...  32NXXT4Z   \n",
       "2  1.3.12.2.1107.5.2.18.141631.201911091130546533...  32NXXT4Z   \n",
       "3  1.3.12.2.1107.5.2.18.141631.201911091130549945...  32NXXT4Z   \n",
       "4  1.3.12.2.1107.5.2.18.141631.201911091130552804...  32NXXT4Z   \n",
       "\n",
       "                                   studyid study discription        date  \\\n",
       "0  1.2.826.0.1.4978912.2202.20191109110547  UK_Biobank^heart  2019-11-09   \n",
       "1  1.2.826.0.1.4978912.2202.20191109110547  UK_Biobank^heart  2019-11-09   \n",
       "2  1.2.826.0.1.4978912.2202.20191109110547  UK_Biobank^heart  2019-11-09   \n",
       "3  1.2.826.0.1.4978912.2202.20191109110547  UK_Biobank^heart  2019-11-09   \n",
       "4  1.2.826.0.1.4978912.2202.20191109110547  UK_Biobank^heart  2019-11-09   \n",
       "\n",
       "                                            seriesid     series discription  \\\n",
       "0  1.3.12.2.1107.5.2.18.141631.201911091129197654...  CINE_segmented_SAX_b7   \n",
       "1  1.3.12.2.1107.5.2.18.141631.201911091129197654...  CINE_segmented_SAX_b7   \n",
       "2  1.3.12.2.1107.5.2.18.141631.201911091129197654...  CINE_segmented_SAX_b7   \n",
       "3  1.3.12.2.1107.5.2.18.141631.201911091129197654...  CINE_segmented_SAX_b7   \n",
       "4  1.3.12.2.1107.5.2.18.141631.201911091129197654...  CINE_segmented_SAX_b7   \n",
       "\n",
       "    aet       host  \n",
       "0  Aera  AWP141631  \n",
       "1  Aera  AWP141631  \n",
       "2  Aera  AWP141631  \n",
       "3  Aera  AWP141631  \n",
       "4  Aera  AWP141631  "
      ]
     },
     "execution_count": 129,
     "metadata": {},
     "output_type": "execute_result"
    }
   ],
   "source": [
    "import pandas as pd\n",
    "df = pd.read_csv(manifest_f)\n",
    "df.head()"
   ]
  },
  {
   "cell_type": "code",
   "execution_count": 130,
   "id": "390b22f8",
   "metadata": {},
   "outputs": [
    {
     "data": {
      "text/plain": [
       "array(['CINE_segmented_SAX_b7', 'CINE_segmented_SAX_b8',\n",
       "       'CINE_segmented_SAX_InlineVF', 'CINE_segmented_SAX_b1',\n",
       "       'CINE_segmented_SAX_b9', 'Inline_VF_Results',\n",
       "       'CINE_segmented_SAX_b2', 'CINE_segmented_SAX_b3',\n",
       "       'CINE_segmented_SAX_b4', 'CINE_segmented_SAX_b5',\n",
       "       'CINE_segmented_SAX_b6'], dtype=object)"
      ]
     },
     "execution_count": 130,
     "metadata": {},
     "output_type": "execute_result"
    }
   ],
   "source": [
    "df['series discription'].unique()"
   ]
  },
  {
   "cell_type": "code",
   "execution_count": 144,
   "id": "2a247dbc",
   "metadata": {},
   "outputs": [
    {
     "data": {
      "text/plain": [
       "array(['1.2.826.0.1.4978912.2202.20191109110547'], dtype=object)"
      ]
     },
     "execution_count": 144,
     "metadata": {},
     "output_type": "execute_result"
    }
   ],
   "source": [
    "df['studyid'].unique()"
   ]
  },
  {
   "cell_type": "code",
   "execution_count": 131,
   "id": "392422c9",
   "metadata": {},
   "outputs": [
    {
     "data": {
      "text/plain": [
       "'1.3.12.2.1107.5.2.18.141631.2019110911291992327777274.dcm'"
      ]
     },
     "execution_count": 131,
     "metadata": {},
     "output_type": "execute_result"
    }
   ],
   "source": [
    "filenames = [os.path.basename(f) for f in files_]\n",
    "filenames[0]"
   ]
  },
  {
   "cell_type": "code",
   "execution_count": 132,
   "id": "16aa79a4",
   "metadata": {},
   "outputs": [],
   "source": [
    "temp = df[df['series discription'].str.lower().str.contains('results')]['filename']\n",
    "temp = [os.path.join(patient_folder,f) for f in temp]"
   ]
  },
  {
   "cell_type": "code",
   "execution_count": 141,
   "id": "d67c2a1e",
   "metadata": {},
   "outputs": [
    {
     "name": "stderr",
     "output_type": "stream",
     "text": [
      "2022-06-01 14:20:18,889 DEBUG size: (1024, 1024, 1)\n",
      "2022-06-01 14:20:18,890 DEBUG spacing: (1.0, 1.0, 1.0)\n",
      "2022-06-01 14:20:18,890 DEBUG origin: (0.0, 0.0, 0.0)\n",
      "2022-06-01 14:20:18,891 DEBUG direction: (1.0, 0.0, 0.0, 0.0, 1.0, 0.0, 0.0, 0.0, 1.0)\n",
      "2022-06-01 14:20:18,891 DEBUG pixel type: 16-bit unsigned integer\n",
      "2022-06-01 14:20:18,891 DEBUG number of pixel components: 1\n"
     ]
    },
    {
     "data": {
      "text/plain": [
       "<matplotlib.image.AxesImage at 0x7f6e35eca8b0>"
      ]
     },
     "execution_count": 141,
     "metadata": {},
     "output_type": "execute_result"
    },
    {
     "data": {
      "image/png": "[encoded data removed]",
      "text/plain": [
       "<Figure size 432x288 with 1 Axes>"
      ]
     },
     "metadata": {
      "needs_background": "light"
     },
     "output_type": "display_data"
    }
   ],
   "source": [
    "import matplotlib.pyplot as plt\n",
    "t = sitk.ReadImage(temp[2])\n",
    "describe_sitk(t)\n",
    "nda = sitk.GetArrayFromImage(t)\n",
    "plt.imshow(nda[0])"
   ]
  },
  {
   "cell_type": "code",
   "execution_count": 104,
   "id": "2c58a095",
   "metadata": {},
   "outputs": [],
   "source": [
    "sax_files_inline = df[df['series discription'].str.upper().str.contains('INLINEVF')]['filename']\n",
    "sax_files_inline = [os.path.join(patient_folder,f) for f in sax_files_inline]"
   ]
  },
  {
   "cell_type": "code",
   "execution_count": 73,
   "id": "859e9017",
   "metadata": {},
   "outputs": [],
   "source": [
    "sax_files_short = df[df['series discription'].str.upper().str.contains('SAX_B')]['filename']"
   ]
  },
  {
   "cell_type": "code",
   "execution_count": 97,
   "id": "446b7f7a",
   "metadata": {},
   "outputs": [
    {
     "name": "stdout",
     "output_type": "stream",
     "text": [
      "600\n"
     ]
    }
   ],
   "source": [
    "patient_folder = '/mnt/ssd/data/ukbio/patient_test/'\n",
    "sax_files = [os.path.join(patient_folder,f) for f in sax_files_inline]\n",
    "print(len(sax_files))\n"
   ]
  },
  {
   "cell_type": "code",
   "execution_count": 98,
   "id": "c7cbf356",
   "metadata": {},
   "outputs": [
    {
     "name": "stderr",
     "output_type": "stream",
     "text": [
      "2022-06-01 12:24:49,661 DEBUG images to sort: 450 , sortbytime: False\n"
     ]
    },
    {
     "name": "stdout",
     "output_type": "stream",
     "text": [
      "before filter: 600\n",
      "after filter: 450\n"
     ]
    }
   ],
   "source": [
    "dicom_images = [sitk.ReadImage(f) for f in sax_files]\n",
    "\n",
    "# sort masks by shape of image\n",
    "img_shape = (156,208,1)\n",
    "print('before filter: {}'.format(len(dicom_images)))\n",
    "dicom_images = [img for img in dicom_images if img.GetSize()==img_shape]\n",
    "print('after filter: {}'.format(len(dicom_images)))\n",
    "\n",
    "dicoms_sorted = sort_dicoms(dicom_images, sort_for_time=False)"
   ]
  },
  {
   "cell_type": "code",
   "execution_count": 99,
   "id": "f4da950d",
   "metadata": {},
   "outputs": [
    {
     "name": "stderr",
     "output_type": "stream",
     "text": [
      "2022-06-01 12:24:51,340 DEBUG size: (156, 208, 1)\n",
      "2022-06-01 12:24:51,341 DEBUG spacing: (1.8269231319427, 1.8269231319427, 10.0)\n",
      "2022-06-01 12:24:51,341 DEBUG origin: (161.10707934196, -114.95163237563, 167.20877373984)\n",
      "2022-06-01 12:24:51,341 DEBUG direction: (0.2934131097787892, -0.7983333513402902, -0.5259017086373854, 0.8631374839303209, -0.015265339788399862, 0.5047382026710282, -0.41097740916548625, -0.6020222832577926, 0.6845923893943745)\n",
      "2022-06-01 12:24:51,342 DEBUG pixel type: 16-bit unsigned integer\n",
      "2022-06-01 12:24:51,342 DEBUG number of pixel components: 1\n"
     ]
    }
   ],
   "source": [
    "timesteps = int(get_timesteps(dicoms_sorted))\n",
    "# check if we might miss some dicom images\n",
    "if not (len(dicoms_sorted) / timesteps).is_integer():\n",
    "    logging.error(\n",
    "        'number of dicom slices {}/ timesteps {} is not an integer, trying to round z but maybe there are wrong dicom files, check: \\n'.format(len(dicoms_sorted), timesteps))\n",
    "slices = int(len(dicoms_sorted) / timesteps)\n",
    "describe_sitk(dicoms_sorted[0])\n",
    "lower_boundary = 0\n",
    "upper_boundary = timesteps"
   ]
  },
  {
   "cell_type": "code",
   "execution_count": 100,
   "id": "969f53b8",
   "metadata": {},
   "outputs": [
    {
     "name": "stderr",
     "output_type": "stream",
     "text": [
      "2022-06-01 12:24:55,892 DEBUG images: 450\n",
      "2022-06-01 12:24:55,893 DEBUG timesteps: 50\n",
      "2022-06-01 12:24:55,893 DEBUG slices: 9\n",
      "2022-06-01 12:24:55,894 DEBUG Temporal resolution: 18.0\n",
      "2022-06-01 12:24:55,896 DEBUG images to sort: 50 , sortbytime: True\n",
      "2022-06-01 12:24:55,898 DEBUG images to sort: 50 , sortbytime: True\n",
      "2022-06-01 12:24:55,900 DEBUG images to sort: 50 , sortbytime: True\n",
      "2022-06-01 12:24:55,902 DEBUG images to sort: 50 , sortbytime: True\n",
      "2022-06-01 12:24:55,903 DEBUG images to sort: 50 , sortbytime: True\n",
      "2022-06-01 12:24:55,905 DEBUG images to sort: 50 , sortbytime: True\n",
      "2022-06-01 12:24:55,906 DEBUG images to sort: 50 , sortbytime: True\n",
      "2022-06-01 12:24:55,907 DEBUG images to sort: 50 , sortbytime: True\n",
      "2022-06-01 12:24:55,908 DEBUG images to sort: 50 , sortbytime: True\n",
      "2022-06-01 12:24:55,950 INFO Image size: (156, 208, 9, 50)\n",
      "2022-06-01 12:24:55,951 DEBUG Image dimension: 4\n",
      "2022-06-01 12:24:55,951 INFO Image Spacing: (1.8269231319427, 1.8269231319427, 10.0, 18.0)\n",
      "2022-06-01 12:24:55,951 DEBUG Writing images ...\n"
     ]
    }
   ],
   "source": [
    "image_nda = []\n",
    "lower_boundary = 0\n",
    "upper_boundary = timesteps\n",
    "\n",
    "# build new spacing with z = slice thickness and t = 1\n",
    "spacing_3d = dicoms_sorted[0].GetSpacing()\n",
    "origin_3d = dicoms_sorted[0].GetOrigin()\n",
    "direction = dicoms_sorted[0].GetDirection()\n",
    "# dicoms_sorted[0] = lowest slice of first volume, use it as origin\n",
    "origin = (origin_3d[0], origin_3d[1], origin_3d[2], 0)\n",
    "\n",
    "z_spacing = spacing_3d[2]\n",
    "if z_spacing == 1:  # some volumes dont have z spacing, they have one series per slice, use the slice thickness (0018,0050)\n",
    "    z_spacing = int(get_metadata_maybe(dicoms_sorted[0], '0018|0050', 6))  # default is 6\n",
    "    logging.debug('no spacing given, use slice thickness: {} as z-spacing '.format(z_spacing))\n",
    "\n",
    "# get the temporal resolution of this volume\n",
    "sequence_length = get_sequence_length(dicoms_sorted)\n",
    "# divide the sequence length in ms by the number of images\n",
    "temp_spacing = sequence_length//timesteps\n",
    "spacing = (spacing_3d[0], spacing_3d[1], z_spacing, temp_spacing)\n",
    "#logging.debug('Building volumes for patient: {}'.format(args['patient']))\n",
    "logging.debug('images: {}'.format(len(dicoms_sorted)))\n",
    "logging.debug('timesteps: {}'.format(timesteps))\n",
    "logging.debug('slices: {}'.format(slices))\n",
    "logging.debug('Temporal resolution: {}'.format(temp_spacing))\n",
    "\n",
    "diffs = []\n",
    "# The dicoms are sorted by origin\n",
    "# By this we can slice one slice + t\n",
    "for z in range(slices):\n",
    "    # take all timesteps of one slice,\n",
    "    # sort timesteps of this slice by Triggertime\n",
    "    image_volume_aslist = dicoms_sorted[lower_boundary:upper_boundary].copy()\n",
    "    image_volume_aslist = sort_dicoms(image_volume_aslist, sort_for_time=True)\n",
    "\n",
    "    img_t = []\n",
    "    # for each timesteps of this slice we check if we find a contour which is mapped by the image uid\n",
    "    for sitk_img in image_volume_aslist:\n",
    "\n",
    "        img_t.append(np.squeeze(sitk.GetArrayFromImage(sitk_img), axis=0))\n",
    "        \n",
    "    image_nda.append(np.stack(img_t, axis=0))\n",
    "\n",
    "    lower_boundary = lower_boundary + timesteps\n",
    "    upper_boundary = upper_boundary + timesteps\n",
    "\n",
    "\n",
    "# currently its a list of 2D slices + t --> stack along the z axis (t,z,x,y)\n",
    "# align with the image orientation of the ACDC dataset (basal to apical)\n",
    "new_img_clean = np.stack(image_nda, axis=1).astype(np.float32)\n",
    "new_img_clean = np.flip(new_img_clean, axis=1)\n",
    "\n",
    "# sitk.GetImageFromArray cant handle 4d images, join series will help\n",
    "sitk_images = [sitk.GetImageFromArray(vol) for vol in new_img_clean]\n",
    "# copy rotation/direction\n",
    "_ = [img.SetDirection(direction) for img in sitk_images]\n",
    "new_img_clean = sitk.JoinSeries(sitk_images)\n",
    "\n",
    "size = new_img_clean.GetSize()\n",
    "dimension = new_img_clean.GetDimension()\n",
    "logging.info(\"Image size: {}\".format(size))\n",
    "logging.debug(\"Image dimension: {}\".format(dimension))\n",
    "logging.info(\"Image Spacing: {}\".format(spacing))\n",
    "logging.debug('Writing images ...')\n",
    "\n",
    "# Copy image tags to new volume\n",
    "sitk_img = dicoms_sorted[0]\n",
    "for tag in sitk_img.GetMetaDataKeys():\n",
    "    value = get_metadata_maybe(sitk_img, tag)\n",
    "    new_img_clean.SetMetaData(tag, value)\n",
    "\n",
    "new_img_clean.SetSpacing(spacing)\n",
    "new_img_clean.SetOrigin(origin)\n",
    "# set the temporal resolution\n",
    "new_img_clean.SetMetaData('0020|0110', str(temp_spacing))\n",
    "sitk.WriteImage(new_img_clean, os.path.join(patient_folder,'cmr4d.nrrd'))"
   ]
  },
  {
   "cell_type": "code",
   "execution_count": 101,
   "id": "8c557439",
   "metadata": {},
   "outputs": [
    {
     "name": "stdout",
     "output_type": "stream",
     "text": [
      "(50, 208, 156)\n",
      "(50, 208, 156)\n",
      "(50, 208, 156)\n",
      "(50, 208, 156)\n",
      "(50, 208, 156)\n",
      "(50, 208, 156)\n",
      "(50, 208, 156)\n",
      "(50, 208, 156)\n",
      "(50, 208, 156)\n"
     ]
    },
    {
     "data": {
      "text/plain": [
       "[None, None, None, None, None, None, None, None, None]"
      ]
     },
     "execution_count": 101,
     "metadata": {},
     "output_type": "execute_result"
    }
   ],
   "source": [
    "list(map(lambda x : print(x.shape), image_nda))"
   ]
  },
  {
   "cell_type": "code",
   "execution_count": 106,
   "id": "5d95eae2",
   "metadata": {},
   "outputs": [
    {
     "data": {
      "application/vnd.jupyter.widget-view+json": {
       "model_id": "",
       "version_major": 2,
       "version_minor": 0
      },
      "text/plain": [
       "interactive(children=(Dropdown(description='f_name', options=('/mnt/ssd/data/ukbio/patient_test/1.3.12.2.1107.…"
      ]
     },
     "metadata": {},
     "output_type": "display_data"
    }
   ],
   "source": [
    "# describe the dicom tags\n",
    "import subprocess\n",
    "import time\n",
    "from src.utils.Utils_io import ensure_dir\n",
    "@interact\n",
    "def describe_4D_nrrds_interactive(f_name = sax_files_inline, plot_histogram=False):\n",
    "#def describe_4D_nrrds_interactive(f_name = sorted(glob.glob('/mnt/data/git/cardio/data/raw/gcn_05_2020_ax_sax_86/SAX_3D/*img.nrrd', recursive=True)), plot_histogram=False):\n",
    "    \n",
    "    logging.info(f_name)\n",
    "    temp = 'data/temp'\n",
    "    ensure_dir(temp)\n",
    "    sitk_img = sitk.ReadImage(f_name)\n",
    "    describe_sitk(sitk_img)\n",
    "    f_temp = os.path.abspath(os.path.join(temp,'temp.dcm'))\n",
    "    logging.info(f_temp)\n",
    "    sitk.WriteImage(sitk_img, f_temp)\n",
    "    #time.sleep(1)\n",
    "    result = subprocess.run(['dcmdump', '{}'.format(f_temp)], stdout=subprocess.PIPE)\n",
    "    res = result.stdout.decode('utf-8')\n",
    "    \n",
    "    return res.split('\\n')\n"
   ]
  },
  {
   "cell_type": "code",
   "execution_count": 107,
   "id": "81a99a20",
   "metadata": {
    "collapsed": true,
    "jupyter": {
     "outputs_hidden": true
    },
    "tags": []
   },
   "outputs": [
    {
     "data": {
      "text/plain": [
       "'AAAAAAAAAAAAAAAAAAAAAAAAAAAAAAAAAAAAAAAAAAAAAAAAAAAAAAAAAAAAAAAAAAAAAAAAAAAAAAAAAAAAAAAAAAAAAAAAAAAAAAAAAAAAAAAAAAAAAAAAAAAAAAAAAAAAAAAAAAAAAAAAAAAAAAAAAAAAAAAAAAAAAAAAAAAAAAAAAAAAAAAAAAAAAAAAAAAAAAAAAAAAAAAAAAAAAAAAAAAAAAAAAAAAAAAAAAAAAAAAAAAAAAAAAAAAAAAAAAAAAAAAAAAAAAAAAAAAAAAAAAAAAAAAAAAAAAAAAAAAAAAAAAAAAAAAAAAAAAAAAAAAAAAAAAAAAAAAAAAAAAAAAAAAAAAAAAAAAAAAAAAAAAAAAAAAAAAAAAAAAAAAAAAAAAAAAAAAAAAAAAAAAAAAAAAAAAAAAAAAAAAAAAAAAAAAAAAAAAAAAAAAAAAAAAAAAAAAAAAAAAAAAAAAAAAAAAAAAAAAAAAAAAAAAAAAAAAAAAAAAAAAAAAAAAAAAAAAAAAAAAAAAAAAAAAAAAAAAAAAAAAAAAAAAAAAAAAAAAAAAAAAAAAAAAAAAAAAAAAAAAAAAAAAAAAAAAAAAAAAAAAAAAAAAAAAAAAAAAAAAAAAAAAAAAAAAAAAAAAAAAAAAAAAAAAAAAAAAAAAAAAAAAAAAAAAAAAAAAAAAAAAAAAAAAAAAAAAAAAAAAAAAAAAAAAAAAAAAAAAAAAAAAAAAAAAAAAAAAAAAAAAAAAAAAAAAAAAAAAAAAAAAAAAAAAAAAAAAAAAAAAAAAAAAAAAAAAAAAAAAAAAAAAAAAAAAAAAAAAAAAAAAAAAAAAAAAAAAAAAAAAAAAAAAAAAAAAAAAAAAAAAAAAAAAAAAAAAAAAAAAAAAAAAAAAAAAAAAAAAAAAAAAAAAAAAAAAAAAAAAAAAAAAAAAAAAAAAAAAAAAAAAAAAAAAAAAAAAAAAAAAAAAAAAAAAAAAAAAAAAAAAAAAAAAAAAAAAAAAAAAAAAAAAAAAAAAAAAAAAAAAAAAAAAAAAAAAAAAAAAAAAAAAAAAAAAAAAAAAAAAAAAAAAAAAAAAAAAAAAAAAAAAAAAAAAAAAAAAAAAAAAAAAAAAAAAAAAAAAAAAAAAAAAAAAAAAAAAAAAAAAAAAAAAAAAAAAAAAAAAAAAAAAAAAAAAAAAAAAAAAAAAAAAAAAAAAAAAAAAAAAAAAAAAAAAAAAAAAAAAAAAAAAAAAAAAAAAAAAAAAAAAAAAAAAAAAAAAAAAAAAAAAAAAAAAAAAAAAAAAAAAAAAAAAAAAAAAAAAAAAAAAAAAAAAAAAAAAAAAAAAAAAAAAAAAAAAAAAAAAAAAAAAAAAAAAAAAAAAAAAAAAAAAAAAAAAAAAAAAAAAAAAAAAAAAAAAAAAAAAAAAAAAAAAAAAAAAAAAAAAAAAAAAAAAAAAAAAAAAAAAAAAAAAAAAAAAAAAAAAAAAAAAAAAAAAAAAAAAAAAAAAAAAAAAAAAAAAAAAAAAAAAAAAAAAAAAAAAAAAAAAAAAAAAAAAAAAAAAAAAAAAAAAAAAAAAAAAAAAAAAAAAAAAAAAAAAAAAAAAAAAAAAAAAAAAAAAAAAAAAAAAAAAAAAAAAAAAAAAAAAAAAAAAAAAAAAAAAAAAAAAAAAAAAAAAAAAAAAAAAAAAAAAAAAAAAAAAAAAAAAAAAAAAAAAAAAAAAAAAAAAAAAAAAAAAAAAAAAAAAAAAAAAAAAAAAAAAAAAAAAAAAAAAAAAAAAAAAAAAAAAAAAAAAAAAAAAAAAAAAAAAAAAAAAAAAAAAAAAAAAAAAAAAAAAAAAAAAAAAAAAAAAAAAAAAAAAAAAAAAAAAAAAAAAAAAAAAAAAAAAAAAAAAAAAAAAAAAAAAAAAAAAAAAAAAAAAAAAAAAAAAAAAAAAAAAAAAAAAAAAAAAAAAAAAAAAAAAAAAAAAAAAAAAAAAAAAAAAAAAAAAAAAAAAAAAAAAAAAAAAAAAAAAAAAAAAAAAAAAAAAAAAAAAAAAAAAAAAAAAAAAAAAAAAAAAAAAAAAAAAAAAAAAAAAAAAAAAAAAAAAAAAAAAAAAAAAAAAAAAAAAAAAAAAAAAAAAAAAAAAAAAAAAAAAAAAAAAAAAAAAAAAAAAAAAAAAAAAAAAAAAAAAAAAAAAAAAAAAAAAAAAAAAAAAAAAAAAAAAAAAAAAAAAAAAAAAAAAAAAAAAAAAAAAAAAAAAAAAAAAAAAAAAAAAAAAAAAAAAAAAAAAAAAAAAAAAAAAAAAAAAAAAAAAAAAAAAAAAAAAAAAAAAAAAAAAAAAAAAAAAAAAAAAAAAAAAAAAAAAAAAAAAAAAAAAAAAAAAAAAAAAAAAAAAAAAAAAAAAAAAAAAAAAAAAAAAIAAAAAAAAAAAAAAAAAAAAAAAAOANAAAAAAAAAAAAAAAAAAAAAADAAQMAAAAAAAAAAAAAAAAAAAAAAINHAAAAAAAAAAAAAAAAAAAAAAAIhgQAAAAAAAAAAAAAAAAAAAAAQBiQAAAAAAAAAAAAAAAAAAAAAABkABIAAAAAAAAAAAAAAAAAAAAAIAEgAQAAAAAAAAAAAAAAAAAAAAAJABQAAAAAAAAAAAAAAAAAAAAASABAAgAAAAAAAAAAAAAAAAAAAIACAEQAAAAAAAAAAAAAAAAAAAAAJACABAAAAAAAAAAAAAAAAAAAACABAIgAAAAAAAAAAAAAAAAAAAAACgCACQAAAAAAAAAAAAAAAAAAAGAAAJAAAAAAAAAAAAAAAAAAAAAABgAAEQAAAAAAAAAAAAAAAAAAAGAAACABAAAAAAAAAAAAAAAAAAAADAAAEgAAAAAAAAAAAAAAAAAAAIABACABAAAAAAAAAAAAAAAAAAAAEAAAEgAAAAAAAAAAAAAAAAAAAAADACABAAAAAAAAAAAAAAAAAAAAYAAAEgAAAAAAAAAAAAAAAAAAAAAEAJAAAAAAAAAAAAAAAAAAAAAAgACACAAAAAAAAAAAAAAAAAAAAAAQAIQAAAAAAAAAAAAAAAAAAAAAAAZgBgAAAAAAAAAAAAAAAAAAAADAABEAAAAAAAAAAAAAAAAAAAAAADSQAAAAAAAAAAAAAAAAAAAAAACA/AQAAAAAAAAAAAAAAAAAAAAAABAwAAAAAAAAAAAAAAAAAAAAAAAAxgAAAAAAAAAAAAAAAAAAAAAAAIAHAAAAAAAAAAAAAAAAAAAAAAAAAAAAAAAAAAAAAAAAAAAAAAAAAAAAAAAAAAAAAAAAAAAAAAAAAAAAAAAAAAAAAAAAAAAAAAAAAAAAAAAAAAAAAAAAAAAAAAAAAAAAAAAAAAAAAAAAAAAAAAAAAAAAAAAAAAAAAAAAAAAAAAAAAAAAAAAAAAAAAAAAAAAAAAAAAAAAAAAAAAAAAAAAAAAAAAAAAAAAAAAAAAAAAAAAAAAAAAAAAAAAAAAAAAAAAAAAAAAAAAAAAAAAAAAAAAAAAAAAAAAAAAAAAAAAAAAAAAAAAAAAAAAAAAAAAAAAAAAAAAAAAAAAAAAAAAAAAAAAAAAAAAAAAAAAAAAAAAAAAAAAAAAAAAAAAAAAAAAAAAAAAAAAAAAAAAAAAAAAAAAAAAAAAAAAAAAAAAAAAAAAAAAAAAAAAAAAAAAAAAAAAAAAAAAAAAAAAAAAAAAAAAAAAAAAAAAAAAAAAAAAAAAAAAAAAAAAAAAAAAAAAAAAAAAAAAAAAAAAAAAAAAAAAAAAAAAAAAAAAAAAAAAAAAAAAAAAAAAAAAAAAAAAAAAAAAAAAAAAAAAAAAAAAAAAAAAAAAAAAAAAAAAAAAAAAAAAAAAAAAAAAAAAAAAAAAAAAAAAAAAAAAAAAAAAAAAAAAAAAAAAAAAAAAAAAAAAAAAAAAAAAAAAAAAAAAAAAAAAAAAAAAAAAAAAAAAAAAAAAAAAAAAAAAAAAAAAAAAAAAAAAAAAAAAAAAAAAAAAAAAAAAAAAAAAAAAAAAAAAAAAAAAAAAAAAAAAAAAAAAAAAAAAAAAAAAAAAAAAAAAAAAAAAAAAAAAAAAAAAAAAAAAAAAAAAAAAAAAAAAAAAAAAAAAAAAAAAAAAAAAAAAAAAAAAAAAAAAAAAAAAAAAAAAAAAAAAAAAAAAAAAAAAAAAAAAAAAAAAAAAAAAAAAAAAAAAAAAAAAAAAAAAAAAAAAAAAAAAAAAAAAAAAAAAAAAAAAAAAAAAAAAAAAAAAAAAAAAAAAAAAAAAAAAAAAAAAAAAAAAAAAAAAAAAAAAAAAAAAAAAAAAAAAAAAAAAAAAAAAAAAAAAAAAAAAAAAAAAAAAAAAAAAAAAAAAAAAAAAAAAAAAAAAAAAAAAAAAAAAAAAAAAAAAAAAAAAAAAAAAAAAAAAAAAAAAAAAAAAAAAAAAAAAAAAAAAAAAAAAAAAAAAAAAAAAAAAAAAAAAAAAAAAAAAAAAAAAAAAAAAAAAAAAAAAAAAAAAAAAAAAAAAAAAAAAAAAAAAAAAAAAAAAAAAAAAAAAAAAAAAAAAAAAAAAAAAAAAAAAAAAAAAAAAAAAAAAAAAAAAAAAAAAAAAAAAAAAAAAAAAAAAAAAAAAAAAAAAAAAAAAAAAAAAAAAAAAAAAAAAAAAAAAAAAAAAAAAAAAAAAAAAAAAAAAAAAAAAAAAAAAAAAAAAAAAAAAAAAAAAAAAAAAAAAAAAAAAAAAAAAAAAAAAAAAAAAAAAAAAAAAAAAAAAAAAAAAAAAAAAAAAAAAAAAAAAAAAAAAAAAAAAAAAAAAAAAAAAAAAAAAAAAAAAAAAAAAAAAAAAAAAAAAAAAAAAAAAAAAAAAAAAAAAAAAAAAAAAAAAAAAAAAAAAAAAAAAAAAAAAAAAAAAAAAAAAAAAAAAAAAAAAAAAAAAAAAAAAAAAAAAAAAAAAAAAAAAAAAAAAAAAAAAAAAAAAAAAAAAAAAAAAAAAAAAAAAAAAAAAAAAAAAAAAAAAAAAAAAAAAAAAAAAAAAAAAAAAAAAAAAAAAAAAAAAAAAAAAAAAAAAAAAAAAAAAAAAAAAAAAAAAAAAAAAAAAAAAAAAAAAAAAAAAAAAAAAAAAAAAAAAAAAAAAAAAAAAAAAAAAAAAAAAAAAAAAAAAAAAAAAAAAAAAAAAAAAAAAAAAAAAAAAAAAAAAAAAAAAAAAAAAAAAAAAAAAAAAAAAAAAAAAAAAAAAAAAAAAAAAAAAAAAAAAAAAAAAAAAAAAAAAAAAAAAAAAAAAAAAAAAAAAAAAAAAAAAAAAAAAAAAAAAAAAAAAAAAAAAAAAAAAAAAAAAAAAAAAAAAAAAAAAAAAAAAAAAAAAAAAAAAAAAAAAAAAAAAAAAAAAAAAAAAAAAAAAAAAAAAAAAAAAAAAAAAAAAAAAAAAAAAAAAAAAAAAAAAAAAAAAAAAAAAAAAAAAAAAAAAAAAAAAAAAAAAAAAAAAAAAAAA'"
      ]
     },
     "execution_count": 107,
     "metadata": {},
     "output_type": "execute_result"
    }
   ],
   "source": [
    "get_metadata_maybe(sitk.ReadImage(sax_files_inline[0]),'6000|3000')"
   ]
  },
  {
   "cell_type": "code",
   "execution_count": 112,
   "id": "0b450f0a",
   "metadata": {
    "tags": []
   },
   "outputs": [
    {
     "ename": "RuntimeError",
     "evalue": "Exception thrown in SimpleITK Image_GetMetaData: /tmp/SimpleITK-build/ITK/Modules/Core/Common/src/itkMetaDataDictionary.cxx:77:\nitk::ERROR: Key '7fe0|0010' does not exist ",
     "output_type": "error",
     "traceback": [
      "\u001b[0;31m---------------------------------------------------------------------------\u001b[0m",
      "\u001b[0;31mRuntimeError\u001b[0m                              Traceback (most recent call last)",
      "\u001b[0;32m/tmp/ipykernel_107088/2139657167.py\u001b[0m in \u001b[0;36m<module>\u001b[0;34m\u001b[0m\n\u001b[0;32m----> 1\u001b[0;31m \u001b[0msitk\u001b[0m\u001b[0;34m.\u001b[0m\u001b[0mReadImage\u001b[0m\u001b[0;34m(\u001b[0m\u001b[0msax_files_inline\u001b[0m\u001b[0;34m[\u001b[0m\u001b[0;36m0\u001b[0m\u001b[0;34m]\u001b[0m\u001b[0;34m)\u001b[0m\u001b[0;34m.\u001b[0m\u001b[0mGetMetaData\u001b[0m\u001b[0;34m(\u001b[0m\u001b[0;34m'7fe0|0010'\u001b[0m\u001b[0;34m)\u001b[0m\u001b[0;34m\u001b[0m\u001b[0;34m\u001b[0m\u001b[0m\n\u001b[0m",
      "\u001b[0;32m~/anaconda3/envs/dcmr/lib/python3.8/site-packages/SimpleITK/SimpleITK.py\u001b[0m in \u001b[0;36mGetMetaData\u001b[0;34m(self, key)\u001b[0m\n\u001b[1;32m   3123\u001b[0m     \u001b[0;32mdef\u001b[0m \u001b[0mGetMetaData\u001b[0m\u001b[0;34m(\u001b[0m\u001b[0mself\u001b[0m\u001b[0;34m,\u001b[0m \u001b[0mkey\u001b[0m\u001b[0;34m)\u001b[0m\u001b[0;34m:\u001b[0m\u001b[0;34m\u001b[0m\u001b[0;34m\u001b[0m\u001b[0m\n\u001b[1;32m   3124\u001b[0m         \u001b[0;34mr\"\"\"GetMetaData(Image self, std::string const & key) -> std::string\"\"\"\u001b[0m\u001b[0;34m\u001b[0m\u001b[0;34m\u001b[0m\u001b[0m\n\u001b[0;32m-> 3125\u001b[0;31m         \u001b[0;32mreturn\u001b[0m \u001b[0m_SimpleITK\u001b[0m\u001b[0;34m.\u001b[0m\u001b[0mImage_GetMetaData\u001b[0m\u001b[0;34m(\u001b[0m\u001b[0mself\u001b[0m\u001b[0;34m,\u001b[0m \u001b[0mkey\u001b[0m\u001b[0;34m)\u001b[0m\u001b[0;34m\u001b[0m\u001b[0;34m\u001b[0m\u001b[0m\n\u001b[0m\u001b[1;32m   3126\u001b[0m \u001b[0;34m\u001b[0m\u001b[0m\n\u001b[1;32m   3127\u001b[0m     \u001b[0;32mdef\u001b[0m \u001b[0mSetMetaData\u001b[0m\u001b[0;34m(\u001b[0m\u001b[0mself\u001b[0m\u001b[0;34m,\u001b[0m \u001b[0mkey\u001b[0m\u001b[0;34m,\u001b[0m \u001b[0mvalue\u001b[0m\u001b[0;34m)\u001b[0m\u001b[0;34m:\u001b[0m\u001b[0;34m\u001b[0m\u001b[0;34m\u001b[0m\u001b[0m\n",
      "\u001b[0;31mRuntimeError\u001b[0m: Exception thrown in SimpleITK Image_GetMetaData: /tmp/SimpleITK-build/ITK/Modules/Core/Common/src/itkMetaDataDictionary.cxx:77:\nitk::ERROR: Key '7fe0|0010' does not exist "
     ]
    }
   ],
   "source": [
    "sitk.ReadImage(sax_files_inline[0]).GetMetaData('7fe0|0010')"
   ]
  },
  {
   "cell_type": "code",
   "execution_count": 109,
   "id": "2ab8074d",
   "metadata": {},
   "outputs": [
    {
     "name": "stderr",
     "output_type": "stream",
     "text": [
      "2022-06-01 12:37:46,262 DEBUG key not found: 7fe0|0010, Exception thrown in SimpleITK Image_GetMetaData: /tmp/SimpleITK-build/ITK/Modules/Core/Common/src/itkMetaDataDictionary.cxx:77:\n",
      "itk::ERROR: Key '7fe0|0010' does not exist \n"
     ]
    },
    {
     "data": {
      "text/plain": [
       "'not_found'"
      ]
     },
     "execution_count": 109,
     "metadata": {},
     "output_type": "execute_result"
    }
   ],
   "source": [
    "get_metadata_maybe(sitk.ReadImage(sax_files_inline[0]),'7fe0|0010')"
   ]
  },
  {
   "cell_type": "code",
   "execution_count": 113,
   "id": "48b3dbb8",
   "metadata": {},
   "outputs": [
    {
     "name": "stderr",
     "output_type": "stream",
     "text": [
      "2022-06-01 12:48:57,995 INFO /mnt/ssd/data/ukbio/patient_test/1.3.12.2.1107.5.2.18.141631.2019110911321214171079161.dcm\n",
      "2022-06-01 12:48:57,999 DEBUG size: (156, 208, 1)\n",
      "2022-06-01 12:48:57,999 DEBUG spacing: (1.8269231319427, 1.8269231319427, 10.0)\n",
      "2022-06-01 12:48:58,000 DEBUG origin: (119.03494341666, -74.572575445087, 221.97616589835)\n",
      "2022-06-01 12:48:58,000 DEBUG direction: (0.2934131097787892, -0.7983333513402902, -0.5259017086373854, 0.8631374839303209, -0.015265339788399862, 0.5047382026710282, -0.41097740916548625, -0.6020222832577926, 0.6845923893943745)\n",
      "2022-06-01 12:48:58,000 DEBUG pixel type: 16-bit unsigned integer\n",
      "2022-06-01 12:48:58,000 DEBUG number of pixel components: 1\n",
      "2022-06-01 12:48:58,001 INFO /mnt/ssd/git/cmr-phase-detection/data/temp/temp.dcm\n"
     ]
    }
   ],
   "source": [
    "res = describe_4D_nrrds_interactive(sax_files_inline[0])"
   ]
  },
  {
   "cell_type": "code",
   "execution_count": 114,
   "id": "fe1f8269",
   "metadata": {},
   "outputs": [
    {
     "data": {
      "text/plain": [
       "['',\n",
       " '# Dicom-File-Format',\n",
       " '',\n",
       " '# Dicom-Meta-Information-Header',\n",
       " '# Used TransferSyntax: Little Endian Explicit',\n",
       " '(0002,0000) UL 244                                      #   4, 1 FileMetaInformationGroupLength',\n",
       " '(0002,0001) OB 00\\\\01                                    #   2, 1 FileMetaInformationVersion',\n",
       " '(0002,0002) UI =MRImageStorage                          #  26, 1 MediaStorageSOPClassUID',\n",
       " '(0002,0003) UI [1.3.12.2.1107.5.2.18.141631.2019110911321214171079161] #  54, 1 MediaStorageSOPInstanceUID',\n",
       " '(0002,0010) UI =LittleEndianImplicit                    #  18, 1 TransferSyntaxUID',\n",
       " '(0002,0012) UI [1.2.826.0.1.3680043.2.1143.107.104.103.115.3.0.5.111.124.113] #  60, 1 ImplementationClassUID',\n",
       " '(0002,0013) SH [GDCM 3.0.5]                             #  10, 1 ImplementationVersionName',\n",
       " '(0002,0016) AE [GDCM/ITK 5.1.2]                         #  14, 1 SourceApplicationEntityTitle',\n",
       " '',\n",
       " '# Dicom-Data-Set',\n",
       " '# Used TransferSyntax: Little Endian Implicit',\n",
       " '(0008,0005) CS [ISO_IR 100]                             #  10, 1 SpecificCharacterSet',\n",
       " '(0008,0008) CS [ORIGINAL\\\\PRIMARY\\\\M\\\\RETRO\\\\NORM\\\\DIS2D]    #  36, 6 ImageType',\n",
       " '(0008,0012) DA [20191109]                               #   8, 1 InstanceCreationDate',\n",
       " '(0008,0013) TM [113212.959000]                          #  14, 1 InstanceCreationTime',\n",
       " '(0008,0016) UI =MRImageStorage                          #  26, 1 SOPClassUID',\n",
       " '(0008,0018) UI [1.3.12.2.1107.5.2.18.141631.2019110911321214171079161] #  54, 1 SOPInstanceUID',\n",
       " '(0008,0020) DA [20191109]                               #   8, 1 StudyDate',\n",
       " '(0008,0021) DA [20191109]                               #   8, 1 SeriesDate',\n",
       " '(0008,0022) DA [20191109]                               #   8, 1 AcquisitionDate',\n",
       " '(0008,0023) DA [20191109]                               #   8, 1 ContentDate',\n",
       " '(0008,0030) TM [112105.616000]                          #  14, 1 StudyTime',\n",
       " '(0008,0031) TM [113212.155000]                          #  14, 1 SeriesTime',\n",
       " '(0008,0032) TM [112913.452500]                          #  14, 1 AcquisitionTime',\n",
       " '(0008,0033) TM [113212.959000]                          #  14, 1 ContentTime',\n",
       " '(0008,0050) SH (no value available)                     #   0, 0 AccessionNumber',\n",
       " '(0008,0060) CS [MR]                                     #   2, 1 Modality',\n",
       " '(0008,0070) LO [SIEMENS]                                #   8, 1 Manufacturer',\n",
       " '(0008,0080) LO [UK Biobank]                             #  10, 1 InstitutionName',\n",
       " '(0008,0081) ST [Pincents Kiln Industrial Park Unit 3B,Reading,District,GB,GU16 8QD] #  66, 1 InstitutionAddress',\n",
       " '(0008,0090) PN (no value available)                     #   0, 0 ReferringPhysicianName',\n",
       " '(0008,1010) SH [AWP141631]                              #  10, 1 StationName',\n",
       " '(0008,1030) LO [UK_Biobank^heart]                       #  16, 1 StudyDescription',\n",
       " '(0008,103e) LO [CINE_segmented_SAX_InlineVF]            #  28, 1 SeriesDescription',\n",
       " '(0008,1040) LO [Department]                             #  10, 1 InstitutionalDepartmentName',\n",
       " '(0008,1050) PN (no value available)                     #   0, 0 PerformingPhysicianName',\n",
       " '(0008,1090) LO [Aera]                                   #   4, 1 ManufacturerModelName',\n",
       " '(0010,0010) PN [KQ ZE K5 VE^Bio]                        #  16, 1 PatientName',\n",
       " '(0010,0020) LO [32 NX XT 4Z]                            #  12, 1 PatientID',\n",
       " '(0010,0030) DA [19991231]                               #   8, 1 PatientBirthDate',\n",
       " '(0010,0040) CS [O]                                      #   2, 1 PatientSex',\n",
       " '(0010,1010) AS [019Y]                                   #   4, 1 PatientAge',\n",
       " '(0010,1020) DS [1.82]                                   #   4, 1 PatientSize',\n",
       " '(0010,1030) DS [82]                                     #   2, 1 PatientWeight',\n",
       " '(0010,21c0) US 4                                        #   2, 1 PregnancyStatus',\n",
       " '(0018,0015) CS [HEART]                                  #   6, 1 BodyPartExamined',\n",
       " '(0018,0020) CS [GR]                                     #   2, 1 ScanningSequence',\n",
       " '(0018,0021) CS [SK\\\\SS\\\\OSP]                              #  10, 3 SequenceVariant',\n",
       " '(0018,0022) CS [CT]                                     #   2, 1 ScanOptions',\n",
       " '(0018,0023) CS [2D]                                     #   2, 1 MRAcquisitionType',\n",
       " '(0018,0024) SH [*tfi2d1_12]                             #  10, 1 SequenceName',\n",
       " '(0018,0025) CS [N]                                      #   2, 1 AngioFlag',\n",
       " '(0018,0050) DS [8]                                      #   2, 1 SliceThickness',\n",
       " '(0018,0080) DS [31.56]                                  #   6, 1 RepetitionTime',\n",
       " '(0018,0081) DS [1.1]                                    #   4, 1 EchoTime',\n",
       " '(0018,0083) DS [1]                                      #   2, 1 NumberOfAverages',\n",
       " '(0018,0084) DS [63.673565]                              #  10, 1 ImagingFrequency',\n",
       " '(0018,0085) SH [1H]                                     #   2, 1 ImagedNucleus',\n",
       " '(0018,0086) IS [1]                                      #   2, 1 EchoNumbers',\n",
       " '(0018,0087) DS [1.5]                                    #   4, 1 MagneticFieldStrength',\n",
       " '(0018,0088) DS [10]                                     #   2, 1 SpacingBetweenSlices',\n",
       " '(0018,0089) IS [144]                                    #   4, 1 NumberOfPhaseEncodingSteps',\n",
       " '(0018,0091) IS [1]                                      #   2, 1 EchoTrainLength',\n",
       " '(0018,0093) DS [90]                                     #   2, 1 PercentSampling',\n",
       " '(0018,0094) DS [75]                                     #   2, 1 PercentPhaseFieldOfView',\n",
       " '(0018,0095) DS [925]                                    #   4, 1 PixelBandwidth',\n",
       " '(0018,1000) LO [141631]                                 #   6, 1 DeviceSerialNumber',\n",
       " '(0018,1020) LO [syngo MR D13]                           #  12, 1 SoftwareVersions',\n",
       " '(0018,1030) LO [CINE_segmented_SAX]                     #  18, 1 ProtocolName',\n",
       " '(0018,1060) DS [53.279998779297]                        #  16, 1 TriggerTime',\n",
       " '(0018,1062) IS [887]                                    #   4, 1 NominalInterval',\n",
       " '(0018,1090) IS [50]                                     #   2, 1 CardiacNumberOfImages',\n",
       " '(0018,1251) SH [Body]                                   #   4, 1 TransmitCoilName',\n",
       " '(0018,1310) US 0\\\\208\\\\140\\\\0                              #   8, 4 AcquisitionMatrix',\n",
       " '(0018,1312) CS [ROW]                                    #   4, 1 InPlanePhaseEncodingDirection',\n",
       " '(0018,1314) DS [59]                                     #   2, 1 FlipAngle',\n",
       " '(0018,1315) CS [N]                                      #   2, 1 VariableFlipAngleFlag',\n",
       " '(0018,1316) DS [1.9358079797308]                        #  16, 1 SAR',\n",
       " '(0018,1318) DS [0]                                      #   2, 1 dBdt',\n",
       " '(0018,5100) CS [HFS]                                    #   4, 1 PatientPosition',\n",
       " '(0020,000d) UI [1.2.826.0.1.3680043.2.1125.1.79172217084640790121068653944456455] #  64, 1 StudyInstanceUID',\n",
       " '(0020,000e) UI [1.2.826.0.1.3680043.2.1125.1.41233120147769075107004578002463074] #  64, 1 SeriesInstanceUID',\n",
       " '(0020,0010) SH [NONE]                                   #   4, 1 StudyID',\n",
       " '(0020,0011) IS [19]                                     #   2, 1 SeriesNumber',\n",
       " '(0020,0012) IS [1]                                      #   2, 1 AcquisitionNumber',\n",
       " '(0020,0013) IS [4]                                      #   2, 1 InstanceNumber',\n",
       " '(0020,0032) DS [119.03494341666\\\\-74.572575445087\\\\221.97616589835] #  48, 3 ImagePositionPatient',\n",
       " '(0020,0037) DS [.29341310977878\\\\.86313748393033\\\\-.4109774091655\\\\-.7983333513403\\\\-.... #  96, 6 ImageOrientationPatient',\n",
       " '(0020,0052) UI [1.2.826.0.1.3680043.2.1125.1.34915139591011183726188420407600796] #  64, 1 FrameOfReferenceUID',\n",
       " '(0020,1040) LO (no value available)                     #   0, 0 PositionReferenceIndicator',\n",
       " '(0020,1041) DS [51.722885971864]                        #  16, 1 SliceLocation',\n",
       " '(0020,4000) LT [RR 888 +/- 11; 6 heartbeats]            #  28, 1 ImageComments',\n",
       " '(0028,0002) US 1                                        #   2, 1 SamplesPerPixel',\n",
       " '(0028,0004) CS [MONOCHROME2]                            #  12, 1 PhotometricInterpretation',\n",
       " '(0028,0010) US 208                                      #   2, 1 Rows',\n",
       " '(0028,0011) US 156                                      #   2, 1 Columns',\n",
       " '(0028,0030) DS [1.8269231319427\\\\1.8269231319427]        #  32, 2 PixelSpacing',\n",
       " '(0028,0100) US 16                                       #   2, 1 BitsAllocated',\n",
       " '(0028,0101) US 16                                       #   2, 1 BitsStored',\n",
       " '(0028,0102) US 15                                       #   2, 1 HighBit',\n",
       " '(0028,0103) US 0                                        #   2, 1 PixelRepresentation',\n",
       " '(0028,0106) US 0                                        #   2, 1 SmallestImagePixelValue',\n",
       " '(0028,0107) US 676                                      #   2, 1 LargestImagePixelValue',\n",
       " '(0028,1050) DS [310]                                    #   4, 1 WindowCenter',\n",
       " '(0028,1051) DS [712]                                    #   4, 1 WindowWidth',\n",
       " '(0028,1052) DS [0]                                      #   2, 1 RescaleIntercept',\n",
       " '(0028,1053) DS [1]                                      #   2, 1 RescaleSlope',\n",
       " '(0028,1054) LO [US]                                     #   2, 1 RescaleType',\n",
       " '(0028,1055) LO [Algo1]                                  #   6, 1 WindowCenterWidthExplanation',\n",
       " '(0032,1060) LO [BioBank Scan]                           #  12, 1 RequestedProcedureDescription',\n",
       " '(0040,0244) DA [20191109]                               #   8, 1 PerformedProcedureStepStartDate',\n",
       " '(0040,0245) TM [112105.705000]                          #  14, 1 PerformedProcedureStepStartTime',\n",
       " '(0040,0253) SH [0000]                                   #   4, 1 PerformedProcedureStepID',\n",
       " '(0040,0254) LO [BioBank Scan]                           #  12, 1 PerformedProcedureStepDescription',\n",
       " '(0040,0280) ST (no value available)                     #   0, 0 CommentsOnThePerformedProcedureStep',\n",
       " '(6000,0010) US 208                                      #   2, 1 OverlayRows',\n",
       " '(6000,0011) US 156                                      #   2, 1 OverlayColumns',\n",
       " '(6000,0015) IS [1]                                      #   2, 1 NumberOfFramesInOverlay',\n",
       " '(6000,0022) LO [Siemens MedCom Object Graphics]         #  30, 1 OverlayDescription',\n",
       " '(6000,0040) CS [G]                                      #   2, 1 OverlayType',\n",
       " '(6000,0050) SS 1\\\\1                                      #   4, 2 OverlayOrigin',\n",
       " '(6000,0051) US 1                                        #   2, 1 ImageFrameOrigin',\n",
       " '(6000,0100) US 1                                        #   2, 1 OverlayBitsAllocated',\n",
       " '(6000,0102) US 0                                        #   2, 1 OverlayBitPosition',\n",
       " '(6000,3000) OW 0000\\\\0000\\\\0000\\\\0000\\\\0000\\\\0000\\\\0000\\\\0000\\\\0000\\\\0000\\\\0000\\\\0000\\\\0000... # 4056, 1 OverlayData',\n",
       " '(7fe0,0010) OW 0000\\\\0000\\\\0000\\\\0000\\\\0000\\\\0000\\\\0000\\\\0000\\\\0000\\\\0000\\\\0000\\\\0000\\\\0000... # 64896, 1 PixelData',\n",
       " '']"
      ]
     },
     "execution_count": 114,
     "metadata": {},
     "output_type": "execute_result"
    }
   ],
   "source": [
    "res"
   ]
  },
  {
   "cell_type": "code",
   "execution_count": 116,
   "id": "b27f76a9",
   "metadata": {},
   "outputs": [
    {
     "data": {
      "application/vnd.jupyter.widget-view+json": {
       "model_id": "813e1ff87eb2425d8a6d9b6df5ebb3cf",
       "version_major": 2,
       "version_minor": 0
      },
      "text/plain": [
       "interactive(children=(Dropdown(description='f_name', options=('/mnt/ssd/data/ukbio/patient_test/1.3.12.2.1107.…"
      ]
     },
     "metadata": {},
     "output_type": "display_data"
    }
   ],
   "source": [
    "@interact\n",
    "def describe_4D_nrrds_interactive(f_name = inline_files, search_str=''):\n",
    "    #f_name = sorted(glob.glob(path_, recursive=True))[f_name] \n",
    "    #logging.info(f_name)\n",
    "    try:\n",
    "        temp = 'data/temp'\n",
    "        ensure_dir(temp)\n",
    "        sitk_img = sitk.ReadImage(f_name)\n",
    "        #describe_sitk(sitk_img)\n",
    "        \"\"\"    f_temp = os.path.abspath(os.path.join(temp,'temp.dcm'))\n",
    "        if sitk_img.GetDimension() == 4:\n",
    "            _ = copy_meta_and_save(new_image=sitk.GetArrayFromImage(sitk_img)[0],reference_sitk_img=sitk_img, full_filename=f_temp)\n",
    "        else:\n",
    "            sitk.WriteImage(sitk_img, f_temp)\"\"\"\n",
    "        result = subprocess.run(['dcmdump', '{}'.format(f_name)], stdout=subprocess.PIPE)\n",
    "        res = result.stdout.decode('utf-8')\n",
    "        res= res.split('\\n')\n",
    "        res = [r for r in res if search_str in r.lower()]\n",
    "        res_dict = {}\n",
    "        for tag in res:\n",
    "            if tag.startswith('('):\n",
    "                tags = tag.split()\n",
    "                res_dict[tags[-1],tags[0]] = tags[2]\n",
    "        res_df = pd.DataFrame(res_dict, index=[0])\n",
    "        res_df.columns = pd.MultiIndex.from_tuples(res_df.columns)\n",
    "    except Exception as e:\n",
    "        res_df = pd.DataFrame({}, index=[0])\n",
    "    return res_df"
   ]
  },
  {
   "cell_type": "code",
   "execution_count": 117,
   "id": "07916ef4",
   "metadata": {},
   "outputs": [],
   "source": [
    "df = describe_4D_nrrds_interactive(inline_files[0])"
   ]
  },
  {
   "cell_type": "code",
   "execution_count": 127,
   "id": "1baf1913",
   "metadata": {},
   "outputs": [
    {
     "data": {
      "text/plain": [
       "'0000\\\\0000\\\\0000\\\\0000\\\\0000\\\\0000\\\\0000\\\\0000\\\\0000\\\\0000\\\\0000\\\\0000\\\\0000...'"
      ]
     },
     "execution_count": 127,
     "metadata": {},
     "output_type": "execute_result"
    }
   ],
   "source": [
    "df['PixelData'].values[0][0]"
   ]
  },
  {
   "cell_type": "code",
   "execution_count": null,
   "id": "340bc865",
   "metadata": {},
   "outputs": [],
   "source": []
  }
 ],
 "metadata": {
  "kernelspec": {
   "display_name": "dcmr",
   "language": "python",
   "name": "dcmr"
  },
  "language_info": {
   "codemirror_mode": {
    "name": "ipython",
    "version": 3
   },
   "file_extension": ".py",
   "mimetype": "text/x-python",
   "name": "python",
   "nbconvert_exporter": "python",
   "pygments_lexer": "ipython3",
   "version": "3.8.5"
  },
  "widgets": {
   "application/vnd.jupyter.widget-state+json": {
    "state": {},
    "version_major": 2,
    "version_minor": 0
   }
  }
 },
 "nbformat": 4,
 "nbformat_minor": 5
}
